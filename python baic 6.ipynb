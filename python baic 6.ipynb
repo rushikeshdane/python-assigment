{
 "cells": [
  {
   "cell_type": "markdown",
   "id": "delayed-literacy",
   "metadata": {},
   "source": [
    "# name = Rushikesh dane"
   ]
  },
  {
   "cell_type": "markdown",
   "id": "rapid-pride",
   "metadata": {},
   "source": [
    "# 1. What are escape characters, and how do you use them?"
   ]
  },
  {
   "cell_type": "markdown",
   "id": "weighted-application",
   "metadata": {},
   "source": [
    " the backslash \"\\\" is a special character, also called the \"escape\" character. It is used in representing certain whitespace characters: \"\\t\" is a tab, \"\\n\" is a newline"
   ]
  },
  {
   "cell_type": "code",
   "execution_count": 6,
   "id": "swedish-shock",
   "metadata": {},
   "outputs": [
    {
     "ename": "SyntaxError",
     "evalue": "invalid syntax (<ipython-input-6-d301b2d37790>, line 1)",
     "output_type": "error",
     "traceback": [
      "\u001b[1;36m  File \u001b[1;32m\"<ipython-input-6-d301b2d37790>\"\u001b[1;36m, line \u001b[1;32m1\u001b[0m\n\u001b[1;33m    \" hi my name is \"mat\"\"\u001b[0m\n\u001b[1;37m                       ^\u001b[0m\n\u001b[1;31mSyntaxError\u001b[0m\u001b[1;31m:\u001b[0m invalid syntax\n"
     ]
    }
   ],
   "source": [
    "\" hi my name is \"mat\"\"\n",
    "# we cannot quote double colun inside double colun this will throw error we need to fix it ,we can use escape character"
   ]
  },
  {
   "cell_type": "code",
   "execution_count": 7,
   "id": "forward-purpose",
   "metadata": {},
   "outputs": [
    {
     "name": "stdout",
     "output_type": "stream",
     "text": [
      "hi my name is \"mat\"\n"
     ]
    }
   ],
   "source": [
    "print(\"hi my name is \\\"mat\\\"\")  # \\ represents quote "
   ]
  },
  {
   "cell_type": "markdown",
   "id": "processed-camel",
   "metadata": {},
   "source": [
    "# 2. What do the escape characters n and t stand for?"
   ]
  },
  {
   "cell_type": "markdown",
   "id": "mighty-magazine",
   "metadata": {},
   "source": [
    "\\t stands for tab and \\n stands for new line"
   ]
  },
  {
   "cell_type": "code",
   "execution_count": 8,
   "id": "ambient-metabolism",
   "metadata": {},
   "outputs": [
    {
     "name": "stdout",
     "output_type": "stream",
     "text": [
      " hi my name is\n",
      "mat\n",
      " hi my name is\tmat\n"
     ]
    }
   ],
   "source": [
    "print(f\" hi my name is\\nmat\")\n",
    "print(f\" hi my name is\\tmat\")"
   ]
  },
  {
   "cell_type": "markdown",
   "id": "tribal-privilege",
   "metadata": {},
   "source": [
    "# 3. What is the way to include backslash characters in a string"
   ]
  },
  {
   "cell_type": "code",
   "execution_count": 9,
   "id": "involved-reset",
   "metadata": {},
   "outputs": [
    {
     "name": "stdout",
     "output_type": "stream",
     "text": [
      "\\hi my name is \\mat\n"
     ]
    }
   ],
   "source": [
    "print(\"\\\\hi my name is \\mat\") "
   ]
  },
  {
   "cell_type": "raw",
   "id": "recent-dover",
   "metadata": {},
   "source": [
    "either you use   \\\\ to include baskslash character or use \" \\ \" inside string"
   ]
  },
  {
   "cell_type": "markdown",
   "id": "liked-population",
   "metadata": {},
   "source": [
    "# 4. The string &quot;Howl&#39;s Moving Castle&quot; is a correct value. Why isn&#39;t the single quote character in the word Howl&#39;s not escaped a problem?"
   ]
  },
  {
   "cell_type": "markdown",
   "id": "biblical-finnish",
   "metadata": {},
   "source": [
    "Howl's in not escaped because we use double quote for string , here single quote is not represrnting string but itself working\n",
    "as string"
   ]
  },
  {
   "cell_type": "markdown",
   "id": "built-angle",
   "metadata": {},
   "source": [
    "# 5. How do you write a string of newlines if you don&#39;t want to use the n character?"
   ]
  },
  {
   "cell_type": "code",
   "execution_count": 10,
   "id": "outer-lodge",
   "metadata": {},
   "outputs": [
    {
     "name": "stdout",
     "output_type": "stream",
     "text": [
      "my\n",
      "name\n",
      "is\n",
      "rushi\n"
     ]
    }
   ],
   "source": [
    "print(\"my\")\n",
    "print(\"name\")\n",
    "print(\"is\")\n",
    "print(\"rushi\")"
   ]
  },
  {
   "cell_type": "code",
   "execution_count": 11,
   "id": "assigned-robertson",
   "metadata": {},
   "outputs": [
    {
     "name": "stdout",
     "output_type": "stream",
     "text": [
      "my name is rushi\n"
     ]
    }
   ],
   "source": [
    "print(\"my\",end=\" \")              # python by default uses \\n in end , replacing it wit space\n",
    "print(\"name\",end=\" \")\n",
    "print(\"is\",end= \" \")\n",
    "print(\"rushi\")"
   ]
  },
  {
   "cell_type": "markdown",
   "id": "progressive-helmet",
   "metadata": {},
   "source": [
    "# 6. What are the values of the given expressions?\n"
   ]
  },
  {
   "cell_type": "code",
   "execution_count": 12,
   "id": "delayed-melissa",
   "metadata": {},
   "outputs": [
    {
     "name": "stdout",
     "output_type": "stream",
     "text": [
      "e\n"
     ]
    }
   ],
   "source": [
    "print('Hello ,world!'[1])  # these are indexes of given string and diffrent way of wrighting them"
   ]
  },
  {
   "cell_type": "code",
   "execution_count": 13,
   "id": "regular-annual",
   "metadata": {},
   "outputs": [
    {
     "name": "stdout",
     "output_type": "stream",
     "text": [
      "Hello\n"
     ]
    }
   ],
   "source": [
    "print('Hello ,world!'[0:5])"
   ]
  },
  {
   "cell_type": "code",
   "execution_count": 14,
   "id": "offshore-romantic",
   "metadata": {},
   "outputs": [
    {
     "name": "stdout",
     "output_type": "stream",
     "text": [
      "Hello\n"
     ]
    }
   ],
   "source": [
    "print('Hello ,world!'[:5])"
   ]
  },
  {
   "cell_type": "code",
   "execution_count": 15,
   "id": "suited-proxy",
   "metadata": {},
   "outputs": [
    {
     "name": "stdout",
     "output_type": "stream",
     "text": [
      "lo ,world!\n"
     ]
    }
   ],
   "source": [
    "print('Hello ,world!'[3:])"
   ]
  },
  {
   "cell_type": "markdown",
   "id": "selected-apple",
   "metadata": {},
   "source": [
    "# 7. What are the values of the following expressions?"
   ]
  },
  {
   "cell_type": "code",
   "execution_count": 16,
   "id": "romance-substitute",
   "metadata": {},
   "outputs": [
    {
     "name": "stdout",
     "output_type": "stream",
     "text": [
      "HELLO\n"
     ]
    }
   ],
   "source": [
    "print(\"Hello\".upper())     # converting all string in uppper case"
   ]
  },
  {
   "cell_type": "code",
   "execution_count": 17,
   "id": "removed-framing",
   "metadata": {},
   "outputs": [
    {
     "name": "stdout",
     "output_type": "stream",
     "text": [
      "True\n"
     ]
    }
   ],
   "source": [
    "print(\"Hello\".upper().isupper())   # isuppper is condition which checks all value in upper case or not"
   ]
  },
  {
   "cell_type": "code",
   "execution_count": 18,
   "id": "absent-intranet",
   "metadata": {},
   "outputs": [
    {
     "name": "stdout",
     "output_type": "stream",
     "text": [
      "hello\n"
     ]
    }
   ],
   "source": [
    "print(\"Hello\".upper().lower()) # converting all string in lower case"
   ]
  },
  {
   "cell_type": "markdown",
   "id": "metric-treasure",
   "metadata": {},
   "source": [
    "# 8. What are the values of the following expressions?"
   ]
  },
  {
   "cell_type": "markdown",
   "id": "honest-stroke",
   "metadata": {},
   "source": [
    "&#39;Remember, remember, the fifth of July.&#39;.split()\n",
    "&#39;-&#39;.join(&#39;There can only one.&#39;.split())"
   ]
  },
  {
   "cell_type": "code",
   "execution_count": 19,
   "id": "defensive-disabled",
   "metadata": {},
   "outputs": [
    {
     "name": "stdout",
     "output_type": "stream",
     "text": [
      "['Remember,', 'remember,', 'the', 'fifth', 'of', 'July.']\n"
     ]
    }
   ],
   "source": [
    "print('Remember, remember, the fifth of July.'.split()) # here wr are spliting the value frome string to a list"
   ]
  },
  {
   "cell_type": "code",
   "execution_count": 20,
   "id": "coated-ranking",
   "metadata": {},
   "outputs": [
    {
     "name": "stdout",
     "output_type": "stream",
     "text": [
      "There-can-only-one.\n"
     ]
    }
   ],
   "source": [
    "print('-'.join('There can only one.'.split())) # here we join the sentence by \" - \""
   ]
  },
  {
   "cell_type": "markdown",
   "id": "scientific-presentation",
   "metadata": {},
   "source": [
    "# 9. What are the methods for right-justifying, left-justifying, and centering a string?"
   ]
  },
  {
   "cell_type": "code",
   "execution_count": 21,
   "id": "municipal-faith",
   "metadata": {},
   "outputs": [
    {
     "ename": "SyntaxError",
     "evalue": "invalid syntax (<ipython-input-21-9ec8125fda96>, line 1)",
     "output_type": "error",
     "traceback": [
      "\u001b[1;36m  File \u001b[1;32m\"<ipython-input-21-9ec8125fda96>\"\u001b[1;36m, line \u001b[1;32m1\u001b[0m\n\u001b[1;33m    the all the functions takes two parameter 1)width 2)fillchar (Optional) - character to fill the remaining space of the width\u001b[0m\n\u001b[1;37m          ^\u001b[0m\n\u001b[1;31mSyntaxError\u001b[0m\u001b[1;31m:\u001b[0m invalid syntax\n"
     ]
    }
   ],
   "source": [
    "the all the functions takes two parameter 1)width 2)fillchar (Optional) - character to fill the remaining space of the width"
   ]
  },
  {
   "cell_type": "code",
   "execution_count": 22,
   "id": "advance-tragedy",
   "metadata": {},
   "outputs": [],
   "source": [
    "p = '   the    '"
   ]
  },
  {
   "cell_type": "code",
   "execution_count": 23,
   "id": "isolated-gateway",
   "metadata": {},
   "outputs": [
    {
     "data": {
      "text/plain": [
       "'                                                the    '"
      ]
     },
     "execution_count": 23,
     "metadata": {},
     "output_type": "execute_result"
    }
   ],
   "source": [
    "p.rjust(55) # moving with 55 width from right"
   ]
  },
  {
   "cell_type": "code",
   "execution_count": 24,
   "id": "precious-grocery",
   "metadata": {},
   "outputs": [
    {
     "data": {
      "text/plain": [
       "'   the    ---------------------------------------------'"
      ]
     },
     "execution_count": 24,
     "metadata": {},
     "output_type": "execute_result"
    }
   ],
   "source": [
    "p.ljust(55, \"-\")# moving with 55 width from left"
   ]
  },
  {
   "cell_type": "code",
   "execution_count": 25,
   "id": "rural-grove",
   "metadata": {},
   "outputs": [
    {
     "data": {
      "text/plain": [
       "'***************************************************   the    **************************************************'"
      ]
     },
     "execution_count": 25,
     "metadata": {},
     "output_type": "execute_result"
    }
   ],
   "source": [
    "p.center(111,\"*\") "
   ]
  },
  {
   "cell_type": "markdown",
   "id": "convinced-bones",
   "metadata": {},
   "source": [
    "# 10. What is the best way to remove whitespace characters from the start or end?"
   ]
  },
  {
   "cell_type": "code",
   "execution_count": 26,
   "id": "australian-forwarding",
   "metadata": {},
   "outputs": [],
   "source": [
    "name = \" Rushikes s Dane \""
   ]
  },
  {
   "cell_type": "code",
   "execution_count": 27,
   "id": "reduced-listening",
   "metadata": {},
   "outputs": [
    {
     "data": {
      "text/plain": [
       "'Rushikes s Dane '"
      ]
     },
     "execution_count": 27,
     "metadata": {},
     "output_type": "execute_result"
    }
   ],
   "source": [
    "name.lstrip() # removng whitespace from start"
   ]
  },
  {
   "cell_type": "code",
   "execution_count": 28,
   "id": "surprised-budapest",
   "metadata": {},
   "outputs": [
    {
     "data": {
      "text/plain": [
       "' Rushikes s Dane'"
      ]
     },
     "execution_count": 28,
     "metadata": {},
     "output_type": "execute_result"
    }
   ],
   "source": [
    "name.rstrip() # removng whitespace from end"
   ]
  },
  {
   "cell_type": "code",
   "execution_count": null,
   "id": "multiple-oxide",
   "metadata": {},
   "outputs": [],
   "source": []
  }
 ],
 "metadata": {
  "kernelspec": {
   "display_name": "Python 3",
   "language": "python",
   "name": "python3"
  },
  "language_info": {
   "codemirror_mode": {
    "name": "ipython",
    "version": 3
   },
   "file_extension": ".py",
   "mimetype": "text/x-python",
   "name": "python",
   "nbconvert_exporter": "python",
   "pygments_lexer": "ipython3",
   "version": "3.7.9"
  }
 },
 "nbformat": 4,
 "nbformat_minor": 5
}
