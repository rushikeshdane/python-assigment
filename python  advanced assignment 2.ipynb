{
 "cells": [
  {
   "cell_type": "markdown",
   "metadata": {},
   "source": [
    "# name : rushikesh dane"
   ]
  },
  {
   "cell_type": "markdown",
   "metadata": {},
   "source": [
    "# Q1. What is the relationship between classes and modules?"
   ]
  },
  {
   "cell_type": "markdown",
   "metadata": {},
   "source": [
    " A module will never be anything other than a library of methods. \n",
    "    \n",
    "When using modules, you “import” a module, then use it. “Things” here can be anything - a string, a number, a null, a function, class, object, whatever"
   ]
  },
  {
   "cell_type": "markdown",
   "metadata": {},
   "source": [
    "\n",
    "A class can be so much more  it can hold its state (by keeping track of instance variables)\n",
    "and be duplicated as many times as you want. It's all about objects.\n",
    "\n",
    "a class is simply a special way (to some more clear, to some more confusing) of writing a object constructors. Basically it’s a function, just written in a certain way. So when exporting a “class”, you’re exporting a function."
   ]
  },
  {
   "cell_type": "markdown",
   "metadata": {},
   "source": [
    "# Q2. How do you make instances and classes?"
   ]
  },
  {
   "cell_type": "code",
   "execution_count": 3,
   "metadata": {},
   "outputs": [
    {
     "name": "stdout",
     "output_type": "stream",
     "text": [
      "<__main__.virus object at 0x000001B93312C460>\n",
      "<__main__.virus object at 0x000001B93312C400>\n",
      "2012\n",
      "2020\n"
     ]
    }
   ],
   "source": [
    "# method 1\n",
    "\"\"\"here we are making class virus ans two instances h1n1 and covid19 these are two instances in classes ,this will work fine \n",
    "but there is better method for same\"\"\"\n",
    "class virus:\n",
    "    pass\n",
    "\n",
    "h1n1= virus()                    # instance 1\n",
    "covid19 = virus()                # instance 2\n",
    "\n",
    "print(h1n1)\n",
    "print(covid19)\n",
    "\n",
    "h1n1.year = \"2012\"            # instance 1 variable\n",
    "covid19.year = \"2020\"              # instance 2 variable\n",
    "\n",
    "print(h1n1.year)\n",
    "print(covid19.year)"
   ]
  },
  {
   "cell_type": "code",
   "execution_count": 7,
   "metadata": {},
   "outputs": [
    {
     "name": "stdout",
     "output_type": "stream",
     "text": [
      "<__main__.virus object at 0x000001B93312C370>\n",
      "<__main__.virus object at 0x000001B93312C700>\n",
      "2012\n",
      "2020\n"
     ]
    }
   ],
   "source": [
    "# method 2\n",
    "\n",
    "class virus:\n",
    "    def __init__(self,year): # first argument is always act as  instance for any function inside the class,you can call it pointer pointing towords class\n",
    "                self.year = year       \n",
    "            \n",
    "h1n1 = virus(\"2012\") # now h1n1 act as self(instance)\n",
    "\n",
    "covid19 = virus(\"2020\")  # now covid19 act as self(instance)\n",
    "\n",
    "print(h1n1)\n",
    "print(covid19)\n",
    "\n",
    "print(h1n1.year)\n",
    "print(covid19.year)"
   ]
  },
  {
   "cell_type": "markdown",
   "metadata": {},
   "source": [
    "# Q3. Where and how should be class attributes created?\n",
    "\n",
    "\n",
    "\n"
   ]
  },
  {
   "cell_type": "markdown",
   "metadata": {},
   "source": [
    "  #                                           &"
   ]
  },
  {
   "cell_type": "markdown",
   "metadata": {},
   "source": [
    "# Q4. Where and how are instance attributes created?"
   ]
  },
  {
   "cell_type": "markdown",
   "metadata": {},
   "source": [
    " i will try to answer this qustion 3 and 4 simultenously \n",
    "    \n",
    "class attribtes are  variable inside the class belonging class rather than any object and it is always outside the constructor(__init__)\n",
    "\n",
    "An instance attribute is a Python variable belonging to one, and only one, object every parameter(attribute) inside the constructor(__init__) is always and instance attribute"
   ]
  },
  {
   "cell_type": "code",
   "execution_count": 8,
   "metadata": {},
   "outputs": [],
   "source": [
    "class virus:\n",
    "    class_attribute = \"viral_infection\"              # class attribute\n",
    "    \n",
    "    \n",
    "    def __init__(self,year):                          # instance attribute\n",
    "        \n",
    "     # first argument is always act as  instance for any function inside the class,you can call it pointer pointing towords class\n",
    "               \n",
    "        self.year = year"
   ]
  },
  {
   "cell_type": "markdown",
   "metadata": {},
   "source": [
    "# Q5. What does the term &quot;self&quot; in a Python class mean"
   ]
  },
  {
   "cell_type": "markdown",
   "metadata": {},
   "source": [
    " first argument is always act as  instance for any function inside the class,you can call it pointer pointing towords class\n",
    " \n",
    " i has used this concept in above example of virus class \n",
    " \n",
    " note: self is not a keyword it can be replaced by any other word"
   ]
  },
  {
   "cell_type": "markdown",
   "metadata": {},
   "source": [
    "# Q6. How does a Python class handle operator overloading?"
   ]
  },
  {
   "cell_type": "code",
   "execution_count": 1,
   "metadata": {},
   "outputs": [],
   "source": [
    "class A:\n",
    "    def __init__(self, a):\n",
    "        self.a = a\n",
    "    def method1(self) :\n",
    "        return self.a"
   ]
  },
  {
   "cell_type": "code",
   "execution_count": 4,
   "metadata": {},
   "outputs": [
    {
     "ename": "TypeError",
     "evalue": "unsupported operand type(s) for +: 'A' and 'A'",
     "output_type": "error",
     "traceback": [
      "\u001b[1;31m---------------------------------------------------------------------------\u001b[0m",
      "\u001b[1;31mTypeError\u001b[0m                                 Traceback (most recent call last)",
      "\u001b[1;32m<ipython-input-4-fbe826540a4f>\u001b[0m in \u001b[0;36m<module>\u001b[1;34m\u001b[0m\n\u001b[0;32m      2\u001b[0m \u001b[0mo2\u001b[0m \u001b[1;33m=\u001b[0m \u001b[0mA\u001b[0m\u001b[1;33m(\u001b[0m\u001b[1;36m6\u001b[0m\u001b[1;33m)\u001b[0m\u001b[1;33m\u001b[0m\u001b[1;33m\u001b[0m\u001b[0m\n\u001b[0;32m      3\u001b[0m \u001b[1;33m\u001b[0m\u001b[0m\n\u001b[1;32m----> 4\u001b[1;33m \u001b[0mo1\u001b[0m\u001b[1;33m+\u001b[0m \u001b[0mo2\u001b[0m\u001b[1;33m\u001b[0m\u001b[1;33m\u001b[0m\u001b[0m\n\u001b[0m",
      "\u001b[1;31mTypeError\u001b[0m: unsupported operand type(s) for +: 'A' and 'A'"
     ]
    }
   ],
   "source": [
    "o1 = A(7)\n",
    "o2 = A(6)\n",
    "\n",
    "o1+ o2                # we can clearly see that we are unable to add two object , here concept of operator ovaloading comes"
   ]
  },
  {
   "cell_type": "code",
   "execution_count": 5,
   "metadata": {},
   "outputs": [
    {
     "data": {
      "text/plain": [
       "13"
      ]
     },
     "execution_count": 5,
     "metadata": {},
     "output_type": "execute_result"
    }
   ],
   "source": [
    "o1 = A(7)\n",
    "o2 = A(6)\n",
    "\n",
    "o1.a+ o2.a      # this works here wr are using addition operato by + this symbol"
   ]
  },
  {
   "cell_type": "code",
   "execution_count": 37,
   "metadata": {},
   "outputs": [],
   "source": [
    "class B:\n",
    "    def __init__(self, a):\n",
    "        self.a = a\n",
    "    def method1(self) :\n",
    "        return self.a\n",
    "    def __sub__(self, other):    # here i am using python magic command for subtraction\n",
    "        return self.a +other.a\n",
    "    \"\"\"here i am using subtraction magic commmand but in return i am doing addition so at last it will add two object overiding\n",
    "    subtractin command.\"\"\"\n",
    "    "
   ]
  },
  {
   "cell_type": "code",
   "execution_count": 41,
   "metadata": {},
   "outputs": [
    {
     "data": {
      "text/plain": [
       "13"
      ]
     },
     "execution_count": 41,
     "metadata": {},
     "output_type": "execute_result"
    }
   ],
   "source": [
    "o3 = B(7)\n",
    "o4 = B(6)\n",
    "o5 = B(\"df\")\n",
    "o6 = B(\"fh\")\n",
    "o3 - o4     # this is confusing we using minus symbol but it is adding two numbers dut  our return in magic command\n",
    "             # this is called as operator overloading"
   ]
  },
  {
   "cell_type": "code",
   "execution_count": 43,
   "metadata": {},
   "outputs": [
    {
     "data": {
      "text/plain": [
       "'dffh'"
      ]
     },
     "execution_count": 43,
     "metadata": {},
     "output_type": "execute_result"
    }
   ],
   "source": [
    "o5 - o6         # addition is type of operator which is showing diffrent behaviour according to data type this is called\n",
    "                 #  opreatior overloading"
   ]
  },
  {
   "cell_type": "markdown",
   "metadata": {},
   "source": [
    "# Q7. When do you consider allowing operator overloading of your classes?"
   ]
  },
  {
   "cell_type": "markdown",
   "metadata": {},
   "source": [
    "1)if i want to take input in diffrent data type e.g: str, float ,int and want to use same operator for different purposes then\n",
    "operator overloding can be used\n",
    "\n",
    "2)if i want to perform any operation on object using any operator ,we can consider it"
   ]
  },
  {
   "cell_type": "markdown",
   "metadata": {},
   "source": [
    "# Q8. What is the most popular form of operator overloading?"
   ]
  },
  {
   "cell_type": "markdown",
   "metadata": {},
   "source": [
    "4 most popular operator overloadign are plus,multiplication,Greater than and Less than,Equal to\n",
    "\n",
    "this all aboce operation behave diffrently with diffrent data structures therefore they are more popular and widely used"
   ]
  },
  {
   "cell_type": "markdown",
   "metadata": {},
   "source": [
    "# Q9. What are the two most important concepts to grasp in order to comprehend Python OOP code?"
   ]
  },
  {
   "cell_type": "markdown",
   "metadata": {},
   "source": [
    "object creation , \n",
    "\n",
    "operator overloading\n",
    "\n",
    ",Inheritance \n",
    "\n",
    ",encapsulation,\n",
    "\n",
    "polymorphism, \n",
    "\n",
    "data abstraction"
   ]
  },
  {
   "cell_type": "code",
   "execution_count": null,
   "metadata": {},
   "outputs": [],
   "source": []
  }
 ],
 "metadata": {
  "kernelspec": {
   "display_name": "Python 3",
   "language": "python",
   "name": "python3"
  },
  "language_info": {
   "codemirror_mode": {
    "name": "ipython",
    "version": 3
   },
   "file_extension": ".py",
   "mimetype": "text/x-python",
   "name": "python",
   "nbconvert_exporter": "python",
   "pygments_lexer": "ipython3",
   "version": "3.8.5"
  }
 },
 "nbformat": 4,
 "nbformat_minor": 4
}
