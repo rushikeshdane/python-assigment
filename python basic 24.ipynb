{
 "cells": [
  {
   "cell_type": "markdown",
   "metadata": {},
   "source": [
    "# name : Rushikesh dane"
   ]
  },
  {
   "cell_type": "markdown",
   "metadata": {},
   "source": [
    "# 1. What is the relationship between def statements and lambda expressions ?"
   ]
  },
  {
   "cell_type": "markdown",
   "metadata": {},
   "source": [
    "both def and lambda are keywords to create function  \n",
    "\n",
    "in both function your can pass any number of arguments "
   ]
  },
  {
   "cell_type": "markdown",
   "metadata": {},
   "source": [
    "# 2. What is the benefit of lambda?\n"
   ]
  },
  {
   "cell_type": "markdown",
   "metadata": {},
   "source": [
    "sometimes you need short crisp function to just return single expression, lambda does this for you \n",
    "\n",
    "lambda function doesn't required defining name of function, it may or may not return value"
   ]
  },
  {
   "cell_type": "markdown",
   "metadata": {},
   "source": [
    "# 3. Compare and contrast map, filter, and reduce."
   ]
  },
  {
   "cell_type": "code",
   "execution_count": 13,
   "metadata": {},
   "outputs": [
    {
     "name": "stdout",
     "output_type": "stream",
     "text": [
      "filter output: []\n",
      "map output:  [False, False]\n"
     ]
    }
   ],
   "source": [
    "\"\"\"here map takes the condition and applyies this condition on iterable and returns output after applying given condition\n",
    "while filter also takes the condition and applyies on\n",
    "ierable but in ouptut it will filter according this condition \"\"\"\n",
    "\n",
    "a=list(filter(lambda i:i==0,l))\n",
    "print(\"filter output:\" ,a)\n",
    "b = list(map(lambda i: i==0,l))\n",
    "print(\"map output: \",b)"
   ]
  },
  {
   "cell_type": "markdown",
   "metadata": {},
   "source": [
    "# 4. What are function annotations, and how are they used?\n"
   ]
  },
  {
   "cell_type": "markdown",
   "metadata": {},
   "source": [
    "function annotaion are used to give description about argument of function , it is not involved in runtime of function\n",
    "\n",
    "it is good practise to use function annotaion \n",
    "\n",
    "\n",
    "e.g:\n",
    "\n",
    "def func(arg: arg_type, optarg: arg_type = default) -> return_type:\n",
    "\n",
    "    pass"
   ]
  },
  {
   "cell_type": "markdown",
   "metadata": {},
   "source": [
    "# 5. What are recursive functions, and how are they used?"
   ]
  },
  {
   "cell_type": "code",
   "execution_count": 18,
   "metadata": {},
   "outputs": [
    {
     "data": {
      "text/plain": [
       "5040"
      ]
     },
     "execution_count": 18,
     "metadata": {},
     "output_type": "execute_result"
    }
   ],
   "source": [
    "#recursive function means function calling itself again and again \n",
    "\n",
    "#base case is required for every recursive function to terminate base case it one type of condtion for a fuction\n",
    "\n",
    "#eg:\n",
    "    \n",
    "def fact(n):\n",
    "    if n>0:\n",
    "        if n==1:\n",
    "            return n  # this is base case \n",
    "        else:\n",
    "            return n*fact(n-1) # recursive call\n",
    "fact(7)"
   ]
  },
  {
   "cell_type": "markdown",
   "metadata": {},
   "source": [
    "# 6. What are some general design guidelines for coding functions?\n"
   ]
  },
  {
   "cell_type": "markdown",
   "metadata": {},
   "source": [
    "1) limited use of global variable\n",
    "\n",
    "2) documanting and logging name ,data ,author and run time\n",
    "\n",
    "3) proper naming for gloabal(starting with capital letter) and local variabel(camel case letter)\n",
    "\n",
    "4) correct indentation \n",
    "\n",
    "5) writhing easy and readable code with doctstring "
   ]
  },
  {
   "cell_type": "markdown",
   "metadata": {},
   "source": [
    "# 7. Name three or more ways that functions can communicate results to a caller"
   ]
  },
  {
   "cell_type": "markdown",
   "metadata": {},
   "source": [
    "function can communicate to caller directly in direct way \n",
    "\n",
    "also we have seen recusive way (functin callling itself)"
   ]
  },
  {
   "cell_type": "code",
   "execution_count": 6,
   "metadata": {},
   "outputs": [],
   "source": [
    "#use of function in oops\n",
    "\n",
    "class Name:\n",
    "    def __init__(self,name):\n",
    "        self.name = name\n",
    "        \n",
    "    def print_name(self):\n",
    "        return self.name"
   ]
  },
  {
   "cell_type": "code",
   "execution_count": 7,
   "metadata": {},
   "outputs": [
    {
     "data": {
      "text/plain": [
       "'to communicate to function super methos is also used ,method overiding can also be used '"
      ]
     },
     "execution_count": 7,
     "metadata": {},
     "output_type": "execute_result"
    }
   ],
   "source": [
    "object1 = Name(\"ragaputi ragav\")\n",
    "object1.print_name()              # we are using dot method to call function\n",
    "\n",
    "\n",
    "\"\"\"to communicate to function super methos is also used ,method overiding can also be used \"\"\""
   ]
  },
  {
   "cell_type": "code",
   "execution_count": null,
   "metadata": {},
   "outputs": [],
   "source": []
  }
 ],
 "metadata": {
  "kernelspec": {
   "display_name": "Python 3",
   "language": "python",
   "name": "python3"
  },
  "language_info": {
   "codemirror_mode": {
    "name": "ipython",
    "version": 3
   },
   "file_extension": ".py",
   "mimetype": "text/x-python",
   "name": "python",
   "nbconvert_exporter": "python",
   "pygments_lexer": "ipython3",
   "version": "3.8.5"
  }
 },
 "nbformat": 4,
 "nbformat_minor": 4
}
