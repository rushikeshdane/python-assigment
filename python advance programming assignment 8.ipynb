{
 "cells": [
  {
   "cell_type": "markdown",
   "metadata": {},
   "source": [
    "# name : Rushikesh dane"
   ]
  },
  {
   "cell_type": "markdown",
   "metadata": {},
   "source": [
    "1. Given a sentence as txt, return True if any two adjacent words have this\n",
    "property: One word ends with a vowel, while the word immediately after\n",
    "begins with a vowel (a e i o u).\n",
    "\n",
    "Examples\n",
    "vowel_links(&quot;a very large appliance&quot;) ➞ True\n",
    "\n",
    "vowel_links(&quot;go to edabit&quot;) ➞ True\n",
    "\n",
    "vowel_links(&quot;an open fire&quot;) ➞ False\n",
    "\n",
    "vowel_links(&quot;a sudden applause&quot;) ➞ False"
   ]
  },
  {
   "cell_type": "code",
   "execution_count": 1,
   "metadata": {},
   "outputs": [],
   "source": [
    "def vowel_links(l):\n",
    "    vowel = [\"a\",\"e\",\"i\",\"o\",\"u\"]\n",
    "    import re\n",
    "    l2 = re.split(\"\\s\",l)\n",
    "    l2\n",
    "\n",
    "    for i,v in enumerate(l2) :\n",
    "        if v[-1:] in vowel :\n",
    "            try:\n",
    "                if l2[i+1][:1] in vowel:\n",
    "                    print(True)\n",
    "                    break\n",
    "            except Exception as e :\n",
    "                pass\n",
    "        \n",
    "            \n",
    "    else :\n",
    "        print(False)"
   ]
  },
  {
   "cell_type": "code",
   "execution_count": 2,
   "metadata": {},
   "outputs": [
    {
     "name": "stdout",
     "output_type": "stream",
     "text": [
      "True\n"
     ]
    }
   ],
   "source": [
    "vowel_links(\"go to edabit\")"
   ]
  },
  {
   "cell_type": "markdown",
   "metadata": {},
   "source": [
    "2. You are given three inputs: a string, one letter, and a second letter.\n",
    "Write a function that returns True if every instance of the first letter occurs\n",
    "before every instance of the second letter\n",
    "\n",
    "Example\n",
    "\n",
    "first_before_second(&quot;a rabbit jumps joyfully&quot;, &quot;a&quot;, &quot;j&quot;) ➞ True\n",
    "\n",
    " Every instance of &quot;a&quot; occurs before every instance of &quot;j&quot;.\n",
    " \n",
    "first_before_second(&quot;knaves knew about waterfalls&quot;, &quot;k&quot;, &quot;w&quot;) ➞ True\n",
    "first_before_second(&quot;happy birthday&quot;, &quot;a&quot;, &quot;y&quot;) ➞ False\n",
    "#The &quot;a&quot; in &quot;birthday&quot; occurs after the &quot;y&quot; in &quot;happy&quot;.\n",
    "first_before_second(&quot;precarious kangaroos&quot;, &quot;k&quot;, &quot;a&quot;) ➞ False"
   ]
  },
  {
   "cell_type": "code",
   "execution_count": 3,
   "metadata": {},
   "outputs": [],
   "source": [
    "def first_before_second(s,a,b):\n",
    "    count=0 \n",
    "    for i in s: \n",
    "        if(a==i and count%2==0): \n",
    "            count+=1 \n",
    "            continue \n",
    "        elif(b==i and count%2==1): \n",
    "            count+=1 \n",
    "            continue \n",
    "    if(count==s.count(a)+s.count(b)): \n",
    "        print(False) \n",
    "    else: \n",
    "        print(True)"
   ]
  },
  {
   "cell_type": "code",
   "execution_count": 4,
   "metadata": {},
   "outputs": [
    {
     "name": "stdout",
     "output_type": "stream",
     "text": [
      "True\n"
     ]
    }
   ],
   "source": [
    "first_before_second(\"a rabbit jumps joyfully\", \"a\", \"j\")"
   ]
  },
  {
   "cell_type": "code",
   "execution_count": 5,
   "metadata": {},
   "outputs": [
    {
     "name": "stdout",
     "output_type": "stream",
     "text": [
      "False\n"
     ]
    }
   ],
   "source": [
    "first_before_second(\"happy birthday\", \"a\", \"y\")"
   ]
  },
  {
   "cell_type": "code",
   "execution_count": null,
   "metadata": {},
   "outputs": [],
   "source": []
  },
  {
   "cell_type": "markdown",
   "metadata": {},
   "source": [
    " 3. Create a function that returns the characters from a list or string r on odd or\n",
    "even positions, depending on the specifier s. The specifier will be &quot;odd&quot; for\n",
    "items on odd positions (1, 3, 5, ...) and &quot;even&quot; for items on even positions (2,\n",
    "4, 6, ...).\n",
    "\n",
    "Examples\n",
    "\n",
    "char_at_pos([2, 4, 6, 8, 10], &quot;even&quot;) ➞ [4, 8]\n",
    " 4 &amp; 8 occupy the 2nd &amp; 4th positions\n",
    "char_at_pos(&quot;EDABIT&quot;, &quot;odd&quot;) ➞ &quot;EAI&quot;\n",
    "\n",
    " &quot;E&quot;, &quot;A&quot; and &quot;I&quot; occupy the 1st, 3rd and 5th positions\n",
    "\n",
    "char_at_pos([&quot;A&quot;, &quot;R&quot;, &quot;B&quot;, &quot;I&quot;, &quot;T&quot;, &quot;R&quot;, &quot;A&quot;, &quot;R&quot;, &quot;I&quot;, &quot;L&quot;, &quot;Y&quot;], &quot;odd&quot;) ➞ [&quot;A&quot;,\n",
    "&quot;B&quot;, &quot;T&quot;, &quot;A&quot;, &quot;I&quot;, &quot;Y&quot;]\n"
   ]
  },
  {
   "cell_type": "code",
   "execution_count": 6,
   "metadata": {},
   "outputs": [],
   "source": [
    "def char_at_pos(n,odd_or_even):\n",
    "    l = []\n",
    "    temp = odd_or_even\n",
    "    for i,v in enumerate(n):\n",
    "        if temp == \"odd\":\n",
    "        \n",
    "            if (i+1) % 2 != 0:\n",
    "                l.append(i)\n",
    "        elif temp == \"even\":\n",
    "            if (i+1) % 2 == 0:\n",
    "                l.append(i)\n",
    "                \n",
    "    l2 = []\n",
    "    for j in l:\n",
    "        l2.append(n[j])\n",
    "    \n",
    "    if type(n) == str:\n",
    "        return (\"\".join(l2))\n",
    "    if type(n) == list:\n",
    "        return l2\n",
    "    "
   ]
  },
  {
   "cell_type": "code",
   "execution_count": 7,
   "metadata": {},
   "outputs": [
    {
     "data": {
      "text/plain": [
       "[4, 8]"
      ]
     },
     "execution_count": 7,
     "metadata": {},
     "output_type": "execute_result"
    }
   ],
   "source": [
    "char_at_pos([2, 4, 6, 8, 10], \"even\") "
   ]
  },
  {
   "cell_type": "markdown",
   "metadata": {},
   "source": [
    "4. Write a function that returns the greatest common divisor of all list\n",
    "elements. If the greatest common divisor is 1, return 1.\n",
    "\n",
    "Examples\n",
    "GCD([10, 20, 40]) ➞ 10\n",
    "GCD([1, 2, 3, 100]) ➞ 1\n",
    "GCD([1024, 192, 2048, 512]) ➞ 64"
   ]
  },
  {
   "cell_type": "code",
   "execution_count": 8,
   "metadata": {},
   "outputs": [],
   "source": [
    "def gcd(a,b):\n",
    "    if a==0:   # base case\n",
    "        return b\n",
    "    return gcd(b%a,a)# recusive case"
   ]
  },
  {
   "cell_type": "code",
   "execution_count": 9,
   "metadata": {},
   "outputs": [
    {
     "data": {
      "text/plain": [
       "64"
      ]
     },
     "execution_count": 9,
     "metadata": {},
     "output_type": "execute_result"
    }
   ],
   "source": [
    "def GCD(arr):\n",
    "    g = arr[0]\n",
    "\n",
    "    for i in range(len(arr)):\n",
    "        g = gcd(arr[i], g)\n",
    "    return g\n",
    "    \n",
    "GCD([1024, 192, 2048, 512])"
   ]
  },
  {
   "cell_type": "markdown",
   "metadata": {},
   "source": [
    "5. A number/string is a palindrome if the digits/characters are the same when\n",
    "read both forward and backward. Examples include &quot;racecar&quot; and 12321.\n",
    "Given a positive number n, check if n or the binary representation of n is\n",
    "palindromic. Return the following:\n",
    "- &quot;Decimal only.&quot; if only n is a palindrome.\n",
    "- &quot;Binary only.&quot; if only the binary representation of n is a palindrome.\n",
    "- &quot;Decimal and binary.&quot; if both are palindromes.\n",
    "- &quot;Neither!&quot; if neither are palindromes.\n",
    "\n",
    "\n",
    "Examples\n",
    "palindrome_type(1306031) ➞ &quot;Decimal only.&quot;\n",
    "#decimal = 1306031\n",
    "#binary = &quot;100111110110110101111&quot;\n",
    "palindrome_type(427787) ➞ &quot;Binary only.&quot;\n",
    " decimal = 427787\n",
    " binary = &quot;1101000011100001011&quot;\n",
    "palindrome_type(313) ➞ &quot;Decimal and binary.&quot;\n",
    " decimal = 313\n",
    " binary = 100111001\n",
    "palindrome_type(934) ➞ &quot;Neither!&quot;\n",
    " decimal = 934\n",
    " binary = &quot;1110100110&quot;"
   ]
  },
  {
   "cell_type": "code",
   "execution_count": 10,
   "metadata": {},
   "outputs": [],
   "source": [
    "n = 1306031\n",
    "\n",
    "\n",
    "def palindrome_type(n):\n",
    "    b= []\n",
    "\n",
    "    while(n>0):\n",
    "    \n",
    "        d=n%2\n",
    "        b.append(d)\n",
    "        n=n//2\n",
    "    b\n",
    "\n",
    "    #print(\"Binary Equivalent is: \")\n",
    "    #for i in b:\n",
    "        #print(i,end=\"\")\n",
    "    #print(\" \")\n",
    "    #for i in b[::-1]:\n",
    "        #print(i,end='')\n",
    "    \n",
    "    \n",
    "    rev = 0\n",
    "    while n>0:\n",
    "        last_digit = n%10\n",
    "        rev = rev * 10 + last_digit\n",
    "        n = n //10\n",
    "    print(rev)\n",
    "    \n",
    "    if b == b[::-1]  and n == rev :\n",
    "        return 'Decimal and binary'\n",
    "    if b == b[::-1]  :\n",
    "        return \"binary only\"\n",
    "    if n ==rev :\n",
    "        return \"decimal only\"\n",
    "    else:\n",
    "        return \"neither\""
   ]
  },
  {
   "cell_type": "code",
   "execution_count": 11,
   "metadata": {},
   "outputs": [
    {
     "name": "stdout",
     "output_type": "stream",
     "text": [
      "0\n"
     ]
    },
    {
     "data": {
      "text/plain": [
       "'decimal only'"
      ]
     },
     "execution_count": 11,
     "metadata": {},
     "output_type": "execute_result"
    }
   ],
   "source": [
    "palindrome_type(121)"
   ]
  },
  {
   "cell_type": "code",
   "execution_count": null,
   "metadata": {},
   "outputs": [],
   "source": []
  }
 ],
 "metadata": {
  "kernelspec": {
   "display_name": "Python 3",
   "language": "python",
   "name": "python3"
  },
  "language_info": {
   "codemirror_mode": {
    "name": "ipython",
    "version": 3
   },
   "file_extension": ".py",
   "mimetype": "text/x-python",
   "name": "python",
   "nbconvert_exporter": "python",
   "pygments_lexer": "ipython3",
   "version": "3.8.5"
  }
 },
 "nbformat": 4,
 "nbformat_minor": 4
}
