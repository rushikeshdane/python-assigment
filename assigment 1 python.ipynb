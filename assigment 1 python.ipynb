{
 "cells": [
  {
   "cell_type": "markdown",
   "id": "casual-island",
   "metadata": {},
   "source": [
    "# Rushikesh sanjay dane"
   ]
  },
  {
   "cell_type": "markdown",
   "id": "comfortable-queens",
   "metadata": {},
   "source": [
    "# 1. What are the differences between operators and values in the following?\n",
    "*\n",
    "'hello'\n",
    "-87.8\n",
    "-\n",
    "/\n",
    "+\n",
    "6\n"
   ]
  },
  {
   "cell_type": "markdown",
   "id": "clean-explanation",
   "metadata": {},
   "source": [
    " * , / , +, - is the operators representing multiplication ,division, addition and subtraction"
   ]
  },
  {
   "cell_type": "code",
   "execution_count": 4,
   "id": "offensive-excerpt",
   "metadata": {},
   "outputs": [
    {
     "name": "stdout",
     "output_type": "stream",
     "text": [
      "4\n",
      "0.5\n",
      "-2\n",
      "10\n"
     ]
    }
   ],
   "source": [
    "print(2*2)\n",
    "print(3/6)\n",
    "print(4-6)\n",
    "print(9+1)"
   ]
  },
  {
   "cell_type": "markdown",
   "id": "dedicated-automation",
   "metadata": {},
   "source": [
    "'hello',-87.8  this are values with type string and float"
   ]
  },
  {
   "cell_type": "code",
   "execution_count": 8,
   "id": "electrical-nicaragua",
   "metadata": {},
   "outputs": [
    {
     "data": {
      "text/plain": [
       "str"
      ]
     },
     "execution_count": 8,
     "metadata": {},
     "output_type": "execute_result"
    }
   ],
   "source": [
    "type(\"hello\") \n"
   ]
  },
  {
   "cell_type": "code",
   "execution_count": 9,
   "id": "bright-bikini",
   "metadata": {},
   "outputs": [
    {
     "data": {
      "text/plain": [
       "float"
      ]
     },
     "execution_count": 9,
     "metadata": {},
     "output_type": "execute_result"
    }
   ],
   "source": [
    " type(-67.8)"
   ]
  },
  {
   "cell_type": "markdown",
   "id": "hispanic-toddler",
   "metadata": {},
   "source": [
    "# 2. What is the difference between string and variable?\n",
    "spam\n",
    "'spam'\n"
   ]
  },
  {
   "cell_type": "markdown",
   "id": "irish-margin",
   "metadata": {},
   "source": [
    "\"spam\" is the data type which is string and spam is the variable in which we can store this data"
   ]
  },
  {
   "cell_type": "code",
   "execution_count": 10,
   "id": "referenced-wallet",
   "metadata": {},
   "outputs": [
    {
     "data": {
      "text/plain": [
       "'spammmm'"
      ]
     },
     "execution_count": 10,
     "metadata": {},
     "output_type": "execute_result"
    }
   ],
   "source": [
    "spam = \"spammmm\"\n",
    "spam"
   ]
  },
  {
   "cell_type": "markdown",
   "id": "ruled-doctrine",
   "metadata": {},
   "source": [
    "3. Describe three different data types."
   ]
  },
  {
   "cell_type": "markdown",
   "id": "renewable-phenomenon",
   "metadata": {},
   "source": [
    "string , int,bool , float , complex"
   ]
  },
  {
   "cell_type": "code",
   "execution_count": 19,
   "id": "unable-episode",
   "metadata": {},
   "outputs": [
    {
     "name": "stdout",
     "output_type": "stream",
     "text": [
      "<class 'int'>\n",
      "<class 'bool'>\n",
      "<class 'complex'>\n"
     ]
    }
   ],
   "source": [
    "print(type(88))\n",
    "print(type(True))\n",
    "print(type(88 + 7j))"
   ]
  },
  {
   "cell_type": "markdown",
   "id": "convenient-female",
   "metadata": {},
   "source": [
    "# 4. What makes up an expression? What are the functions of all expressions?"
   ]
  },
  {
   "cell_type": "markdown",
   "id": "plain-financing",
   "metadata": {},
   "source": [
    "expression is combination of   values , variable , operato and calls to fuction or\n",
    "more precisely we can say it is a sequence of operation for e.g : g * 6 + 34 is an expression"
   ]
  },
  {
   "cell_type": "code",
   "execution_count": 1,
   "id": "convinced-candle",
   "metadata": {},
   "outputs": [
    {
     "data": {
      "text/plain": [
       "7408.92"
      ]
     },
     "execution_count": 1,
     "metadata": {},
     "output_type": "execute_result"
    }
   ],
   "source": [
    "8 * 78.99 + 6777"
   ]
  },
  {
   "cell_type": "code",
   "execution_count": null,
   "id": "convenient-bronze",
   "metadata": {},
   "outputs": [],
   "source": [
    "there are many functions of all expression few e,g are python inbuilt list,type, str and dict etc...\n",
    "\n"
   ]
  },
  {
   "cell_type": "code",
   "execution_count": 7,
   "id": "precise-deviation",
   "metadata": {},
   "outputs": [
    {
     "data": {
      "text/plain": [
       "'rushikesh77'"
      ]
     },
     "execution_count": 7,
     "metadata": {},
     "output_type": "execute_result"
    }
   ],
   "source": [
    "\"rushikesh\" + str(77)"
   ]
  },
  {
   "cell_type": "markdown",
   "id": "outdoor-department",
   "metadata": {},
   "source": [
    "# 5. In this chapter, assignment statements such as spam = 10 were added. What is the difference between a declaration and an expression?"
   ]
  },
  {
   "cell_type": "code",
   "execution_count": 11,
   "id": "acknowledged-prefix",
   "metadata": {},
   "outputs": [
    {
     "data": {
      "text/plain": [
       "10"
      ]
     },
     "execution_count": 11,
     "metadata": {},
     "output_type": "execute_result"
    }
   ],
   "source": [
    "spam = 10 \n",
    "#expression is combination of   values , variable , operato and calls to fuction\n",
    "#spam = 10 is an expression\n",
    "\n",
    "# here spam is variable which will decalre the value of  10 when called\n",
    "spam"
   ]
  },
  {
   "cell_type": "markdown",
   "id": "happy-mambo",
   "metadata": {},
   "source": [
    "# 6. After running the following code, what does the variable bacon contain?\n",
    "bacon = 22\n",
    "bacon + 1\n"
   ]
  },
  {
   "cell_type": "code",
   "execution_count": 11,
   "id": "sized-princeton",
   "metadata": {},
   "outputs": [
    {
     "data": {
      "text/plain": [
       "23"
      ]
     },
     "execution_count": 11,
     "metadata": {},
     "output_type": "execute_result"
    }
   ],
   "source": [
    "bacon = 22\n",
    "bacon + 1"
   ]
  },
  {
   "cell_type": "code",
   "execution_count": 12,
   "id": "phantom-finger",
   "metadata": {},
   "outputs": [
    {
     "data": {
      "text/plain": [
       "22"
      ]
     },
     "execution_count": 12,
     "metadata": {},
     "output_type": "execute_result"
    }
   ],
   "source": [
    "bacon\n"
   ]
  },
  {
   "cell_type": "markdown",
   "id": "champion-corps",
   "metadata": {},
   "source": [
    "running a code gives answer 23 and variable bacon contain vale 22"
   ]
  },
  {
   "cell_type": "markdown",
   "id": "effective-portal",
   "metadata": {},
   "source": [
    "# 7. What should the values of the following two terms be?\n",
    "\n",
    "'spam' + 'spamspam'\n",
    "'spam' * 3\n"
   ]
  },
  {
   "cell_type": "code",
   "execution_count": 13,
   "id": "devoted-cyprus",
   "metadata": {},
   "outputs": [
    {
     "data": {
      "text/plain": [
       "'spamspamspam'"
      ]
     },
     "execution_count": 13,
     "metadata": {},
     "output_type": "execute_result"
    }
   ],
   "source": [
    "'spam' + 'spamspam'"
   ]
  },
  {
   "cell_type": "code",
   "execution_count": 14,
   "id": "addressed-threshold",
   "metadata": {},
   "outputs": [
    {
     "data": {
      "text/plain": [
       "'spamspamspam'"
      ]
     },
     "execution_count": 14,
     "metadata": {},
     "output_type": "execute_result"
    }
   ],
   "source": [
    "'spam' * 3"
   ]
  },
  {
   "cell_type": "markdown",
   "id": "level-match",
   "metadata": {},
   "source": [
    "both code representing same answer just we are using diffrent operators"
   ]
  },
  {
   "cell_type": "markdown",
   "id": "controversial-czech",
   "metadata": {},
   "source": [
    "# 8. Why is it that eggs is a true variable name but 100 is not"
   ]
  },
  {
   "cell_type": "code",
   "execution_count": 9,
   "id": "republican-moore",
   "metadata": {},
   "outputs": [
    {
     "ename": "SyntaxError",
     "evalue": "can't assign to literal (<ipython-input-9-833f32f2f5be>, line 4)",
     "output_type": "error",
     "traceback": [
      "\u001b[1;36m  File \u001b[1;32m\"<ipython-input-9-833f32f2f5be>\"\u001b[1;36m, line \u001b[1;32m4\u001b[0m\n\u001b[1;33m    100 = \"rushikesh\"\u001b[0m\n\u001b[1;37m                     ^\u001b[0m\n\u001b[1;31mSyntaxError\u001b[0m\u001b[1;31m:\u001b[0m can't assign to literal\n"
     ]
    }
   ],
   "source": [
    "# suppose we are storing value of \"rushikesh \" in variable\n",
    "\n",
    "eggs = \"rushikesh\"\n",
    "100 = \"rushikesh\"\n",
    "\n",
    "# python by default taking 100 as an integer data type,\n",
    "#python has some inbuit functiones ,data types and operators so we cannot reasign them for any other purpose \n",
    " \n",
    "\n"
   ]
  },
  {
   "cell_type": "code",
   "execution_count": 10,
   "id": "overall-coach",
   "metadata": {},
   "outputs": [
    {
     "data": {
      "text/plain": [
       "int"
      ]
     },
     "execution_count": 10,
     "metadata": {},
     "output_type": "execute_result"
    }
   ],
   "source": [
    "type(100)"
   ]
  },
  {
   "cell_type": "markdown",
   "id": "victorian-flash",
   "metadata": {},
   "source": [
    "# 9. Which of the following three functions may be used to convert a value to an integer, a floating-point number, or a string?"
   ]
  },
  {
   "cell_type": "code",
   "execution_count": 29,
   "id": "deadly-niagara",
   "metadata": {},
   "outputs": [
    {
     "data": {
      "text/plain": [
       "'10'"
      ]
     },
     "execution_count": 29,
     "metadata": {},
     "output_type": "execute_result"
    }
   ],
   "source": [
    "a= 10\n",
    "str(a)\n"
   ]
  },
  {
   "cell_type": "code",
   "execution_count": 30,
   "id": "lightweight-demonstration",
   "metadata": {},
   "outputs": [
    {
     "data": {
      "text/plain": [
       "10"
      ]
     },
     "execution_count": 30,
     "metadata": {},
     "output_type": "execute_result"
    }
   ],
   "source": [
    "int(a)"
   ]
  },
  {
   "cell_type": "code",
   "execution_count": 31,
   "id": "portuguese-silly",
   "metadata": {},
   "outputs": [
    {
     "data": {
      "text/plain": [
       "10.0"
      ]
     },
     "execution_count": 31,
     "metadata": {},
     "output_type": "execute_result"
    }
   ],
   "source": [
    "float(a)"
   ]
  },
  {
   "cell_type": "markdown",
   "id": "optional-tract",
   "metadata": {},
   "source": [
    "# 10. What is the error caused by this expression? What would you do about it?\n",
    "\n",
    "'I have eaten ' + 99 + ' burritos\n"
   ]
  },
  {
   "cell_type": "code",
   "execution_count": 36,
   "id": "mexican-measurement",
   "metadata": {},
   "outputs": [
    {
     "ename": "TypeError",
     "evalue": "can only concatenate str (not \"int\") to str",
     "output_type": "error",
     "traceback": [
      "\u001b[1;31m---------------------------------------------------------------------------\u001b[0m",
      "\u001b[1;31mTypeError\u001b[0m                                 Traceback (most recent call last)",
      "\u001b[1;32m<ipython-input-36-1fad7467ed84>\u001b[0m in \u001b[0;36m<module>\u001b[1;34m\u001b[0m\n\u001b[1;32m----> 1\u001b[1;33m \u001b[1;34m'I have eaten '\u001b[0m \u001b[1;33m+\u001b[0m \u001b[1;36m99\u001b[0m \u001b[1;33m+\u001b[0m \u001b[1;34m' burritos'\u001b[0m\u001b[1;33m\u001b[0m\u001b[1;33m\u001b[0m\u001b[0m\n\u001b[0m",
      "\u001b[1;31mTypeError\u001b[0m: can only concatenate str (not \"int\") to str"
     ]
    }
   ],
   "source": [
    "'I have eaten ' + 99 + ' burritos'\n"
   ]
  },
  {
   "cell_type": "markdown",
   "id": "answering-saskatchewan",
   "metadata": {},
   "source": [
    "here we got data type error we can fix it by changing data type"
   ]
  },
  {
   "cell_type": "code",
   "execution_count": 37,
   "id": "bored-variety",
   "metadata": {},
   "outputs": [
    {
     "data": {
      "text/plain": [
       "'I have eaten 99 burritos'"
      ]
     },
     "execution_count": 37,
     "metadata": {},
     "output_type": "execute_result"
    }
   ],
   "source": [
    "'I have eaten ' + str(99) + ' burritos'"
   ]
  },
  {
   "cell_type": "markdown",
   "id": "hollow-cancellation",
   "metadata": {},
   "source": [
    " credits - 1) https://www.openbookproject.net/books/bpp4awd/ch02.html\n",
    "used  as reference for Q4) "
   ]
  },
  {
   "cell_type": "code",
   "execution_count": null,
   "id": "alive-trade",
   "metadata": {},
   "outputs": [],
   "source": []
  }
 ],
 "metadata": {
  "kernelspec": {
   "display_name": "Python 3",
   "language": "python",
   "name": "python3"
  },
  "language_info": {
   "codemirror_mode": {
    "name": "ipython",
    "version": 3
   },
   "file_extension": ".py",
   "mimetype": "text/x-python",
   "name": "python",
   "nbconvert_exporter": "python",
   "pygments_lexer": "ipython3",
   "version": "3.7.9"
  }
 },
 "nbformat": 4,
 "nbformat_minor": 5
}
