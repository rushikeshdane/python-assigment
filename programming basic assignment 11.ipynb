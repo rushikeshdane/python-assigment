{
 "cells": [
  {
   "cell_type": "markdown",
   "metadata": {},
   "source": [
    "# name : Rushikesh dane\n",
    "\n"
   ]
  },
  {
   "cell_type": "markdown",
   "metadata": {},
   "source": [
    "# 1. Write a Python program to find words which are greater than given length k?"
   ]
  },
  {
   "cell_type": "code",
   "execution_count": 1,
   "metadata": {},
   "outputs": [],
   "source": [
    "def lenk(input_string, k):\n",
    "    var = input_string.split(\" \")\n",
    "    print(var)\n",
    "    print(' ')\n",
    "    for i in var:\n",
    "        if k < len(i):\n",
    "            print(i)\n",
    "        else :\n",
    "            pass"
   ]
  },
  {
   "cell_type": "code",
   "execution_count": 2,
   "metadata": {},
   "outputs": [
    {
     "name": "stdout",
     "output_type": "stream",
     "text": [
      "['hi', ',', 'I', 'am', 'student', 'of', 'ineuron']\n",
      " \n",
      "student\n",
      "ineuron\n"
     ]
    }
   ],
   "source": [
    "input_string = \"hi , I am student of ineuron\"\n",
    "k = 4 \n",
    "lenk(input_string,k)"
   ]
  },
  {
   "cell_type": "markdown",
   "metadata": {},
   "source": [
    "# 2. Write a Python program for removing i-th character from a string?"
   ]
  },
  {
   "cell_type": "code",
   "execution_count": 3,
   "metadata": {},
   "outputs": [],
   "source": [
    "def i_remove(input_string, i):\n",
    "    var1 = list(input_string)\n",
    "    var1.pop(i)\n",
    "    new_string = \"\"\n",
    "    for i in var1:\n",
    "        var2 = new_string.join(var1)\n",
    "    return var2"
   ]
  },
  {
   "cell_type": "code",
   "execution_count": 4,
   "metadata": {},
   "outputs": [
    {
     "data": {
      "text/plain": [
       "'i , I am student of ineuron'"
      ]
     },
     "execution_count": 4,
     "metadata": {},
     "output_type": "execute_result"
    }
   ],
   "source": [
    "input_string = \"hi , I am student of ineuron\"\n",
    "i = 0\n",
    "i_remove(input_string,i)"
   ]
  },
  {
   "cell_type": "markdown",
   "metadata": {},
   "source": [
    "# 3. Write a Python program to split and join a string?"
   ]
  },
  {
   "cell_type": "code",
   "execution_count": 5,
   "metadata": {},
   "outputs": [
    {
     "data": {
      "text/plain": [
       "'fake it until, you make it.'"
      ]
     },
     "execution_count": 5,
     "metadata": {},
     "output_type": "execute_result"
    }
   ],
   "source": [
    "# joing two string\n",
    "str1 = \"fake it until\"\n",
    "str2 = \", you make it.\"\n",
    "str3 = str1 + str2\n",
    "str3"
   ]
  },
  {
   "cell_type": "code",
   "execution_count": 6,
   "metadata": {},
   "outputs": [
    {
     "data": {
      "text/plain": [
       "['fake', 'it', 'until']"
      ]
     },
     "execution_count": 6,
     "metadata": {},
     "output_type": "execute_result"
    }
   ],
   "source": [
    "# spliting string on the basis of space\n",
    "str4 = str1.split(\" \")\n",
    "str4\n"
   ]
  },
  {
   "cell_type": "code",
   "execution_count": 7,
   "metadata": {},
   "outputs": [
    {
     "data": {
      "text/plain": [
       "'fake it until'"
      ]
     },
     "execution_count": 7,
     "metadata": {},
     "output_type": "execute_result"
    }
   ],
   "source": [
    "# joining above split string to its original format\n",
    "str5 = (\" \").join(str4)\n",
    "str5"
   ]
  },
  {
   "cell_type": "markdown",
   "metadata": {},
   "source": [
    "# 4.Write a Python to check if a given string is binary string or not?"
   ]
  },
  {
   "cell_type": "code",
   "execution_count": 8,
   "metadata": {},
   "outputs": [
    {
     "data": {
      "text/plain": [
       "{'0', '1'}"
      ]
     },
     "execution_count": 8,
     "metadata": {},
     "output_type": "execute_result"
    }
   ],
   "source": [
    "str6 = \"0101010\"\n",
    "s = set(str6)\n",
    "s"
   ]
  },
  {
   "cell_type": "code",
   "execution_count": 9,
   "metadata": {},
   "outputs": [
    {
     "name": "stdout",
     "output_type": "stream",
     "text": [
      "enter any string01001000\n",
      "01001000\n",
      "it is binary string \n"
     ]
    }
   ],
   "source": [
    "n = input(\"enter any string \")\n",
    "print(n)\n",
    "def check_b(n):\n",
    "    var1 = set(n)\n",
    "    var2 = {'0','1'}\n",
    "    \n",
    "    if var1 == var2 or var1== {\"1\"} or var1 == {\"0\"}:\n",
    "        print(\"it is binary string \")\n",
    "    else :\n",
    "        print('it is not an binary string')\n",
    "        \n",
    "check_b(n)"
   ]
  },
  {
   "cell_type": "markdown",
   "metadata": {},
   "source": [
    "# 5. Write a Python program to find uncommon words from two Strings?"
   ]
  },
  {
   "cell_type": "code",
   "execution_count": 10,
   "metadata": {},
   "outputs": [
    {
     "name": "stdout",
     "output_type": "stream",
     "text": [
      "['ale', 'gele']\n"
     ]
    }
   ],
   "source": [
    "A = \"ram rao ale\" \n",
    "B = \"ram rao gele\"\n",
    "\n",
    "a= A.split()\n",
    "#a = set(a)\n",
    "#print(a)\n",
    "b= B.split()\n",
    "#b = set(b)\n",
    "#print(b)\n",
    "c = []\n",
    "for i in a :\n",
    "    if i not in b:\n",
    "        c.append(i)\n",
    "        \n",
    "for j in b :\n",
    "    if j not in a:\n",
    "        c.append(j)\n",
    "        \n",
    "print(c)"
   ]
  },
  {
   "cell_type": "code",
   "execution_count": 11,
   "metadata": {},
   "outputs": [
    {
     "data": {
      "text/plain": [
       "{'ale', 'gele'}"
      ]
     },
     "execution_count": 11,
     "metadata": {},
     "output_type": "execute_result"
    }
   ],
   "source": [
    "d=set(a).symmetric_difference(set(b))    # this will do the same thing that we have done above\n",
    "d"
   ]
  },
  {
   "cell_type": "markdown",
   "metadata": {},
   "source": [
    "# 6. Write a Python to find all duplicate characters in string?"
   ]
  },
  {
   "cell_type": "code",
   "execution_count": 12,
   "metadata": {},
   "outputs": [
    {
     "name": "stdout",
     "output_type": "stream",
     "text": [
      "enter any stringfjkfjj\n",
      "f\n",
      "j\n"
     ]
    }
   ],
   "source": [
    "from collections import Counter\n",
    "n = input(\"enter any string \")\n",
    "def duplicate(n):\n",
    "    var1 = Counter(n)\n",
    "    for k,v in var1.items() :\n",
    "    \n",
    "        if v > 1 :\n",
    "            print(k)\n",
    "duplicate(n)"
   ]
  },
  {
   "cell_type": "markdown",
   "metadata": {},
   "source": [
    "# 7. Write a Python Program to check if a string contains any special character?"
   ]
  },
  {
   "cell_type": "code",
   "execution_count": 13,
   "metadata": {},
   "outputs": [
    {
     "name": "stdout",
     "output_type": "stream",
     "text": [
      "enter any string#jdjfkjf\n",
      "given string  contain special charactor\n"
     ]
    }
   ],
   "source": [
    "import re\n",
    "n = input(\"enter any string \")\n",
    "def special(n):\n",
    "    \n",
    "    regex = re.compile('[@_!#$%^&*()<>?/\\|}{~:]')\n",
    "    \n",
    "    if(regex.search(n) == None):\n",
    "        print(\"given string does not contain any special charactor\")\n",
    "        \n",
    "    else :\n",
    "        print(\"given string  contain special charactor\")\n",
    "special(n)"
   ]
  },
  {
   "cell_type": "code",
   "execution_count": null,
   "metadata": {},
   "outputs": [],
   "source": []
  },
  {
   "cell_type": "code",
   "execution_count": null,
   "metadata": {},
   "outputs": [],
   "source": []
  },
  {
   "cell_type": "code",
   "execution_count": null,
   "metadata": {},
   "outputs": [],
   "source": []
  }
 ],
 "metadata": {
  "kernelspec": {
   "display_name": "Python 3",
   "language": "python",
   "name": "python3"
  },
  "language_info": {
   "codemirror_mode": {
    "name": "ipython",
    "version": 3
   },
   "file_extension": ".py",
   "mimetype": "text/x-python",
   "name": "python",
   "nbconvert_exporter": "python",
   "pygments_lexer": "ipython3",
   "version": "3.8.5"
  }
 },
 "nbformat": 4,
 "nbformat_minor": 4
}
