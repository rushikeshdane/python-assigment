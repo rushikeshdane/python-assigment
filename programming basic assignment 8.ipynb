{
 "cells": [
  {
   "cell_type": "markdown",
   "metadata": {},
   "source": [
    "# 1. write python program for matrix addition"
   ]
  },
  {
   "cell_type": "code",
   "execution_count": 1,
   "metadata": {},
   "outputs": [],
   "source": [
    "A = [[1,2,3],\n",
    "    [4,5,6],\n",
    "    [7,8,9]]\n",
    "B = [[10,8,3],\n",
    "    [9,5,9],\n",
    "    [7,8,9]]\n",
    "\n",
    "c = [[0,0,0],\n",
    "    [0,0,0],\n",
    "    [0,0,0]]\n",
    "\n",
    "\n"
   ]
  },
  {
   "cell_type": "code",
   "execution_count": 2,
   "metadata": {},
   "outputs": [
    {
     "name": "stdout",
     "output_type": "stream",
     "text": [
      "[[1 2 3]\n",
      " [4 5 6]\n",
      " [7 8 9]]\n",
      "  \n",
      "[[10  8  3]\n",
      " [ 9  5  9]\n",
      " [ 7  8  9]]\n",
      "  \n",
      "addition of two matrix\n",
      "[[11 10  6]\n",
      " [13 10 15]\n",
      " [14 16 18]]\n",
      "  \n",
      "product of two matrix\n",
      "[[10 16  9]\n",
      " [36 25 54]\n",
      " [49 64 81]]\n"
     ]
    }
   ],
   "source": [
    "# using numpy \n",
    "\n",
    "import numpy as np\n",
    "\n",
    "X = np.array(A)\n",
    "print(X)\n",
    "print(\"  \")\n",
    "Y = np.array(B)\n",
    "print(Y)\n",
    "print(\"  \")\n",
    "addition = X + Y\n",
    "print(\"addition of two matrix\")\n",
    "print(addition)\n",
    "print(\"  \")\n",
    "multiplication = X*Y\n",
    "print(\"product of two matrix\")\n",
    "print(multiplication)"
   ]
  },
  {
   "cell_type": "code",
   "execution_count": 3,
   "metadata": {},
   "outputs": [
    {
     "name": "stdout",
     "output_type": "stream",
     "text": [
      "[[11, 10, 6], [0, 0, 0], [0, 0, 0]]\n",
      "[[11, 10, 6], [13, 10, 15], [0, 0, 0]]\n",
      "[[11, 10, 6], [13, 10, 15], [14, 16, 18]]\n",
      "[11, 10, 6]\n",
      "[13, 10, 15]\n",
      "[14, 16, 18]\n"
     ]
    }
   ],
   "source": [
    "# credit - geekforgeeks\n",
    "for i in range(len(A)):\n",
    "    #print(A[0])\n",
    "    #print(len(A[0]))\n",
    "    for j in range(len(A[0])):\n",
    "        c[i][j] = A[i][j] + B[i][j]\n",
    "    print(c)\n",
    "    #print(A[i][i])\n",
    "    \n",
    "for i in c:\n",
    "    print(i)\n",
    "    "
   ]
  },
  {
   "cell_type": "code",
   "execution_count": 4,
   "metadata": {},
   "outputs": [],
   "source": [
    "#d = [map(sum, zip(*args)) for args in zip(A, B)]\n",
    "#d"
   ]
  },
  {
   "cell_type": "markdown",
   "metadata": {},
   "source": [
    "# 2.Write a Python Program to Multiply Two Matrices?\n"
   ]
  },
  {
   "cell_type": "code",
   "execution_count": 5,
   "metadata": {},
   "outputs": [
    {
     "ename": "SyntaxError",
     "evalue": "invalid syntax (<ipython-input-5-41a5d874c821>, line 1)",
     "output_type": "error",
     "traceback": [
      "\u001b[1;36m  File \u001b[1;32m\"<ipython-input-5-41a5d874c821>\"\u001b[1;36m, line \u001b[1;32m1\u001b[0m\n\u001b[1;33m    Write a Python Program to Multiply Two Matrices\u001b[0m\n\u001b[1;37m          ^\u001b[0m\n\u001b[1;31mSyntaxError\u001b[0m\u001b[1;31m:\u001b[0m invalid syntax\n"
     ]
    }
   ],
   "source": [
    "Write a Python Program to Multiply Two Matrices"
   ]
  },
  {
   "cell_type": "code",
   "execution_count": 6,
   "metadata": {},
   "outputs": [
    {
     "name": "stdout",
     "output_type": "stream",
     "text": [
      "[10, 16, 9]\n",
      "[36, 25, 54]\n",
      "[49, 64, 81]\n"
     ]
    }
   ],
   "source": [
    "for i in range(len(A)):\n",
    "    #print(A[0])\n",
    "    #print(len(A[0]))\n",
    "    for j in range(len(A[0])):\n",
    "        c[i][j] = A[i][j] * B[i][j]\n",
    "    #print(c)\n",
    "    #print(A[i][i])\n",
    "    \n",
    "for i in c:\n",
    "    print(i)"
   ]
  },
  {
   "cell_type": "markdown",
   "metadata": {},
   "source": [
    "# 3.Write a Python Program to Transpose a Matrix?"
   ]
  },
  {
   "cell_type": "code",
   "execution_count": 7,
   "metadata": {},
   "outputs": [],
   "source": [
    "import numpy as np"
   ]
  },
  {
   "cell_type": "code",
   "execution_count": 8,
   "metadata": {},
   "outputs": [],
   "source": [
    "V = np.array([[2, 4], [5, -6],[4,7]])"
   ]
  },
  {
   "cell_type": "code",
   "execution_count": 9,
   "metadata": {},
   "outputs": [
    {
     "data": {
      "text/plain": [
       "array([[ 2,  4],\n",
       "       [ 5, -6],\n",
       "       [ 4,  7]])"
      ]
     },
     "execution_count": 9,
     "metadata": {},
     "output_type": "execute_result"
    }
   ],
   "source": [
    "V"
   ]
  },
  {
   "cell_type": "markdown",
   "metadata": {},
   "source": [
    "# 4 Write a Python Program to Sort Words in Alphabetic Order?"
   ]
  },
  {
   "cell_type": "code",
   "execution_count": 10,
   "metadata": {},
   "outputs": [
    {
     "name": "stdout",
     "output_type": "stream",
     "text": [
      "enter anu stringfrush dkjf epf fjjf\n",
      "dkjf\n",
      "epf\n",
      "fjjf\n",
      "frush\n"
     ]
    }
   ],
   "source": [
    "n = input(\"enter anu string\")\n",
    "def sort(n):\n",
    "    n= n.lower()\n",
    "    words= n.split()\n",
    "    #print(var1)\n",
    "    words.sort()\n",
    "    \n",
    "    \n",
    "    for word in words:\n",
    "        print(word)\n",
    "sort(n)"
   ]
  },
  {
   "cell_type": "markdown",
   "metadata": {},
   "source": [
    "# 5 Write a Python Program to Remove Punctuation From a String?"
   ]
  },
  {
   "cell_type": "code",
   "execution_count": 11,
   "metadata": {},
   "outputs": [
    {
     "name": "stdout",
     "output_type": "stream",
     "text": [
      "   kjfkljf   djflk      fi  \n"
     ]
    }
   ],
   "source": [
    "string = \"() kjfkljf , djflk ,_ , fi ,\"\n",
    "\n",
    "punc = '''!()-[]{};:'\"\\, <>./?@#$%^&*_~'''\n",
    "\n",
    "for i in string :\n",
    "    if i  in punc :\n",
    "        string=string.replace(i,\" \")\n",
    "        #print(i)\n",
    "        \n",
    "print(string)\n",
    "\n",
    "    "
   ]
  },
  {
   "cell_type": "code",
   "execution_count": null,
   "metadata": {},
   "outputs": [],
   "source": []
  },
  {
   "cell_type": "code",
   "execution_count": null,
   "metadata": {},
   "outputs": [],
   "source": []
  }
 ],
 "metadata": {
  "kernelspec": {
   "display_name": "Python 3",
   "language": "python",
   "name": "python3"
  },
  "language_info": {
   "codemirror_mode": {
    "name": "ipython",
    "version": 3
   },
   "file_extension": ".py",
   "mimetype": "text/x-python",
   "name": "python",
   "nbconvert_exporter": "python",
   "pygments_lexer": "ipython3",
   "version": "3.8.5"
  }
 },
 "nbformat": 4,
 "nbformat_minor": 4
}
