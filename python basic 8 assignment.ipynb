{
 "cells": [
  {
   "cell_type": "markdown",
   "id": "dependent-wheat",
   "metadata": {},
   "source": [
    "# name :Rushikesh dane"
   ]
  },
  {
   "cell_type": "markdown",
   "id": "confidential-stock",
   "metadata": {},
   "source": [
    "# 1. Is the Python Standard Library included with PyInputPlus?"
   ]
  },
  {
   "cell_type": "markdown",
   "id": "affecting-injury",
   "metadata": {},
   "source": [
    "answer is No , in python we use functions like input to take input but it has it's limitation ,\n",
    "to fix this \n",
    "\n",
    "we use third party library like PyInputPlus install it using pip "
   ]
  },
  {
   "cell_type": "code",
   "execution_count": 1,
   "id": "colored-concrete",
   "metadata": {},
   "outputs": [],
   "source": [
    "#!pip install PyInputPlus"
   ]
  },
  {
   "cell_type": "markdown",
   "id": "collect-nicholas",
   "metadata": {},
   "source": [
    "# 2. Why is PyInputPlus commonly imported with import pyinputplus as pypi?"
   ]
  },
  {
   "cell_type": "code",
   "execution_count": 2,
   "id": "heard-continent",
   "metadata": {},
   "outputs": [],
   "source": [
    "import pyinputplus as pyip"
   ]
  },
  {
   "cell_type": "markdown",
   "id": "backed-carrier",
   "metadata": {},
   "source": [
    "pyinputplus is big name and every time writhing this function  is not feasible(little time consuming)\n",
    "\n",
    "so we can use pyip because it is short and easy "
   ]
  },
  {
   "cell_type": "markdown",
   "id": "cardiovascular-kruger",
   "metadata": {},
   "source": [
    "# 3. How do you distinguish between inputInt() and inputFloat()?"
   ]
  },
  {
   "cell_type": "code",
   "execution_count": 3,
   "id": "continuous-bulgaria",
   "metadata": {},
   "outputs": [
    {
     "name": "stdout",
     "output_type": "stream",
     "text": [
      "23\n",
      "23\n",
      "23\n",
      "23.0\n"
     ]
    }
   ],
   "source": [
    "#intinput will return enter value in the form of integer e.g: 1,2.. \n",
    "#and floatinput will return enter value in the form of float number e.g: 0.1,1.3  etc\n",
    "\n",
    "i = pyip.inputInt()\n",
    "print(i)\n",
    "f = pyip.inputFloat()\n",
    "print(f)"
   ]
  },
  {
   "cell_type": "markdown",
   "id": "contemporary-branch",
   "metadata": {},
   "source": [
    "# 4. Using PyInputPlus, how do you ensure that the user enters a whole number between 0 and 99?"
   ]
  },
  {
   "cell_type": "code",
   "execution_count": 5,
   "id": "piano-homework",
   "metadata": {},
   "outputs": [
    {
     "name": "stdout",
     "output_type": "stream",
     "text": [
      "Enter an Integer... 5\n",
      "5\n"
     ]
    }
   ],
   "source": [
    "inp = pyip.inputInt(prompt = \"Enter an Integer... \", min =0,max=99) \n",
    "print(inp)\n",
    "# we are using min max keyword to set input range between 0to99 and inputInt for whole number "
   ]
  },
  {
   "cell_type": "markdown",
   "id": "junior-bradley",
   "metadata": {},
   "source": [
    "# 5. What is transferred to the keyword arguments allowRegexes and blockRegexes?"
   ]
  },
  {
   "cell_type": "markdown",
   "id": "conditional-softball",
   "metadata": {},
   "source": [
    "through block regex we can block some regular expression below i have taken e.g of string input here  i have blocked literal \"ab\"\n",
    "\n",
    "so now our function will not accept string a and any string which include ab\n"
   ]
  },
  {
   "cell_type": "code",
   "execution_count": 6,
   "id": "unlimited-buddy",
   "metadata": {},
   "outputs": [
    {
     "name": "stdout",
     "output_type": "stream",
     "text": [
      "enter string  c\n",
      "c\n"
     ]
    }
   ],
   "source": [
    "stri = pyip.inputStr(prompt = \"enter string  \", blockRegexes= \"ab\")\n",
    "print(stri)"
   ]
  },
  {
   "cell_type": "markdown",
   "id": "bound-assist",
   "metadata": {},
   "source": [
    "allowRegex is coamplete opposite to block it allow the string which is inside it e.g: b ,above we block ab ,so i have used \n",
    "\n",
    "b inside allowregex to sort it from ab now it wil print b "
   ]
  },
  {
   "cell_type": "code",
   "execution_count": 7,
   "id": "impaired-christianity",
   "metadata": {},
   "outputs": [
    {
     "name": "stdout",
     "output_type": "stream",
     "text": [
      "enter string  b\n",
      "b\n"
     ]
    }
   ],
   "source": [
    "stri1 = pyip.inputStr(prompt = \"enter string  \", allowRegexes= \"b\",blockRegexes= \"ab\")\n",
    "print(stri1)"
   ]
  },
  {
   "cell_type": "markdown",
   "id": "accepting-affiliation",
   "metadata": {},
   "source": [
    "# 6. If a blank input is entered three times, what does inputStr(limit=3) do?"
   ]
  },
  {
   "cell_type": "markdown",
   "id": "guided-rough",
   "metadata": {},
   "source": [
    "here keyword is setting blank input limit to 3 , \n",
    "\n",
    "it means user only allowed to enter three blank input after that program wil throw errror"
   ]
  },
  {
   "cell_type": "code",
   "execution_count": 8,
   "id": "ruled-portable",
   "metadata": {},
   "outputs": [
    {
     "name": "stdout",
     "output_type": "stream",
     "text": [
      "j\n"
     ]
    }
   ],
   "source": [
    "string = pyip.inputStr(limit=3)\n"
   ]
  },
  {
   "cell_type": "markdown",
   "id": "clean-flooring",
   "metadata": {},
   "source": [
    "# 7. If blank input is entered three times, what does inputStr(limit=3, default=&#39;hello&#39;) do?"
   ]
  },
  {
   "cell_type": "markdown",
   "id": "willing-magic",
   "metadata": {},
   "source": [
    "here keyword is setting blank input limit to 3 , \n",
    "\n",
    "it means user only allowed to enter three blank input after that program will take input as hello by default (because we set our default=\"hello\")"
   ]
  },
  {
   "cell_type": "code",
   "execution_count": 9,
   "id": "responsible-edmonton",
   "metadata": {},
   "outputs": [
    {
     "name": "stdout",
     "output_type": "stream",
     "text": [
      "\n",
      "Blank values are not allowed.\n",
      "\n",
      "Blank values are not allowed.\n",
      "\n",
      "Blank values are not allowed.\n"
     ]
    }
   ],
   "source": [
    "string1 = pyip.inputStr(limit=3,default= \"hello\")"
   ]
  },
  {
   "cell_type": "code",
   "execution_count": 10,
   "id": "vulnerable-ideal",
   "metadata": {},
   "outputs": [
    {
     "name": "stdout",
     "output_type": "stream",
     "text": [
      "hello\n"
     ]
    }
   ],
   "source": [
    "print(string1)"
   ]
  },
  {
   "cell_type": "code",
   "execution_count": null,
   "id": "noticed-seating",
   "metadata": {},
   "outputs": [],
   "source": []
  }
 ],
 "metadata": {
  "kernelspec": {
   "display_name": "Python 3",
   "language": "python",
   "name": "python3"
  },
  "language_info": {
   "codemirror_mode": {
    "name": "ipython",
    "version": 3
   },
   "file_extension": ".py",
   "mimetype": "text/x-python",
   "name": "python",
   "nbconvert_exporter": "python",
   "pygments_lexer": "ipython3",
   "version": "3.7.9"
  }
 },
 "nbformat": 4,
 "nbformat_minor": 5
}
