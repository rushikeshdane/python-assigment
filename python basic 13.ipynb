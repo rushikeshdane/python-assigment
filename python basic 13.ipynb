{
 "cells": [
  {
   "cell_type": "markdown",
   "metadata": {},
   "source": [
    "# 1. What advantages do Excel spreadsheets have over CSV spreadsheets?\n"
   ]
  },
  {
   "cell_type": "markdown",
   "metadata": {},
   "source": [
    "1) excel not only stores data but can do operation on it.\n",
    "\n",
    "2) in data warhouse ,excel is more preferable for detailed standardized schema specification\n",
    "\n",
    "3)Reading large files user is much easier in Excel for the end user. \n",
    "Also, you can have additional functions like selecting individual cells for import,\n",
    "convert dates and time automatically, reading formulas and their results, filters, sorting, etc.\n",
    "\n",
    "4) in excel we can store graph and chart\n"
   ]
  },
  {
   "cell_type": "markdown",
   "metadata": {},
   "source": [
    "# 2.What do you pass to csv.reader() and csv.writer() to create reader and writer objects?"
   ]
  },
  {
   "cell_type": "markdown",
   "metadata": {},
   "source": [
    "1) to crate reader object we read csv file with open function e.g: open(\"xyz.csv\",'r') and then pass this file through \n",
    "   csv.reader()\n",
    "\n",
    "2) to create writer object we write csv file with open function e.g: open(\"xyz.csv\",'r') and then pass this file throungh\n",
    "    csv.writer()"
   ]
  },
  {
   "cell_type": "markdown",
   "metadata": {},
   "source": [
    "# 3. What modes do File objects for reader and writer objects need to be opened in?"
   ]
  },
  {
   "cell_type": "markdown",
   "metadata": {},
   "source": [
    "for reading it's \"r\" e.g:(\"xyz.csv\",'r')\n",
    "\n",
    "for write it's \"w\" e.g:(\"xyz.csv\",'w')"
   ]
  },
  {
   "cell_type": "markdown",
   "metadata": {},
   "source": [
    "# 4. What method takes a list argument and writes it to a CSV file?\n"
   ]
  },
  {
   "cell_type": "markdown",
   "metadata": {},
   "source": [
    " writerow() method "
   ]
  },
  {
   "cell_type": "markdown",
   "metadata": {},
   "source": [
    "# 5. What do the keyword arguments delimiter and line terminator do?\n"
   ]
  },
  {
   "cell_type": "markdown",
   "metadata": {},
   "source": [
    "The line terminator is the character that comes at the end of a row. By default, the line terminator is a newline.\n",
    "\n",
    "by this argument ,we can change terminator, e.g : \"/n/n\" \n",
    "\n",
    "\n",
    "The delimiter is the character that appears between cells on a row. By default, the delimiter for a CSV file is a comma.\n",
    "\n",
    "by this argument,  we can change delimiter , e.g tab , string ."
   ]
  },
  {
   "cell_type": "markdown",
   "metadata": {},
   "source": [
    "# 6. What function takes a string of JSON data and returns a Python data structure?\n"
   ]
  },
  {
   "cell_type": "markdown",
   "metadata": {},
   "source": [
    "json.loads() function    # json to python"
   ]
  },
  {
   "cell_type": "markdown",
   "metadata": {},
   "source": [
    "# 7. What function takes a Python data structure and returns a string of JSON data?"
   ]
  },
  {
   "cell_type": "markdown",
   "metadata": {},
   "source": [
    "json.dumps() function     # pyhton to json"
   ]
  },
  {
   "cell_type": "code",
   "execution_count": null,
   "metadata": {},
   "outputs": [],
   "source": []
  }
 ],
 "metadata": {
  "kernelspec": {
   "display_name": "Python 3",
   "language": "python",
   "name": "python3"
  },
  "language_info": {
   "codemirror_mode": {
    "name": "ipython",
    "version": 3
   },
   "file_extension": ".py",
   "mimetype": "text/x-python",
   "name": "python",
   "nbconvert_exporter": "python",
   "pygments_lexer": "ipython3",
   "version": "3.8.5"
  }
 },
 "nbformat": 4,
 "nbformat_minor": 4
}
