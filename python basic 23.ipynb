{
 "cells": [
  {
   "cell_type": "markdown",
   "metadata": {},
   "source": [
    "# name: rushikeh dane"
   ]
  },
  {
   "cell_type": "markdown",
   "metadata": {},
   "source": [
    "# 1. What is the result of the code, and why?\n",
    "&gt;&gt;&gt; def func(a, b=6, c=8):\n",
    "print(a, b, c)\n",
    "&gt;&gt;&gt; func(1, 2)"
   ]
  },
  {
   "cell_type": "code",
   "execution_count": 42,
   "metadata": {},
   "outputs": [],
   "source": [
    "def func(a,b=6,c=8):\n",
    "    print(a,b,c)"
   ]
  },
  {
   "cell_type": "code",
   "execution_count": 43,
   "metadata": {},
   "outputs": [
    {
     "name": "stdout",
     "output_type": "stream",
     "text": [
      "1 2 8\n"
     ]
    },
    {
     "data": {
      "text/plain": [
       "'here our function takes three argument a,b,c we have assigned value to b and c so i we don not pass this argument inside \\nfunction it will return its assigned value in case we have provided argument of b and c with other value it will ovewrite it with \\nassigned value i.e with b =2 it will overwrite b = 6 preassigned , in case of a we must have to provide this argument'"
      ]
     },
     "execution_count": 43,
     "metadata": {},
     "output_type": "execute_result"
    }
   ],
   "source": [
    "func(1,2)\n",
    "\n",
    "\"\"\"here our function takes three argument a,b,c we have assigned value to b and c so i we don not pass this argument inside \n",
    "function it will return its assigned value in case we have provided argument of b and c with other value it will ovewrite it with \n",
    "assigned value i.e with b =2 it will overwrite b = 6 preassigned , in case of a we must have to provide this argument\"\"\""
   ]
  },
  {
   "cell_type": "markdown",
   "metadata": {},
   "source": [
    "# 2. What is the result of this code, and why?\n",
    "&gt;&gt;&gt; def func(a, b, c=5):\n",
    "print(a, b, c)"
   ]
  },
  {
   "cell_type": "code",
   "execution_count": 44,
   "metadata": {},
   "outputs": [],
   "source": [
    "def func(a,b,c=5):\n",
    "    print(a,b,c)"
   ]
  },
  {
   "cell_type": "code",
   "execution_count": 45,
   "metadata": {},
   "outputs": [
    {
     "name": "stdout",
     "output_type": "stream",
     "text": [
      "1 2 3\n"
     ]
    },
    {
     "data": {
      "text/plain": [
       "'here we assigned value 5 to c but in functino argument we used c= 3 , so it will ovewrite the previous value \\nother thing is change in sequence of argument this is possible due to we assigned value to variabe c and b after shuffling them\\nthis is required if you want to change order of argument in function'"
      ]
     },
     "execution_count": 45,
     "metadata": {},
     "output_type": "execute_result"
    }
   ],
   "source": [
    "func(1, c=3, b=2) \n",
    "\n",
    "\"\"\"here we assigned value 5 to c but in functino argument we used c= 3 , so it will ovewrite the previous value \n",
    "other thing is change in sequence of argument this is possible due to we assigned value to variabe c and b after shuffling them\n",
    "this is required if you want to change order of argument in function\"\"\""
   ]
  },
  {
   "cell_type": "markdown",
   "metadata": {},
   "source": [
    "# 3. How about this code: what is its result, and why?\n",
    "&gt;&gt;&gt; def func(a, *pargs):\n",
    "print(a, pargs)\n",
    "&gt;&gt;&gt; func(1, 2, 3)"
   ]
  },
  {
   "cell_type": "code",
   "execution_count": 46,
   "metadata": {},
   "outputs": [],
   "source": [
    "def func(a,*args):\n",
    "    print(a,args)"
   ]
  },
  {
   "cell_type": "code",
   "execution_count": 47,
   "metadata": {},
   "outputs": [
    {
     "name": "stdout",
     "output_type": "stream",
     "text": [
      "1 (2, 3)\n"
     ]
    }
   ],
   "source": [
    "func(1,2,3)      # * args means means we can passn n number of argument after a is passed in our given function"
   ]
  },
  {
   "cell_type": "markdown",
   "metadata": {},
   "source": [
    "# 4. What does this code print, and why?\n",
    "&gt;&gt;&gt; def func(a, **kargs):\n",
    "print(a, kargs)\n",
    "&gt;&gt;&gt; func(a=1, c=3, b=2)"
   ]
  },
  {
   "cell_type": "code",
   "execution_count": 48,
   "metadata": {},
   "outputs": [],
   "source": [
    "def func(a,**kwargs):\n",
    "    print(a,kwargs)"
   ]
  },
  {
   "cell_type": "code",
   "execution_count": 49,
   "metadata": {},
   "outputs": [
    {
     "name": "stdout",
     "output_type": "stream",
     "text": [
      "1 {'c': 3, 'b': 2}\n"
     ]
    }
   ],
   "source": [
    "func(a=1, c=3, b=2) # ** kwargs means it will take keyword argument in the form of key and value pair \n",
    "                    # so two things are very inmportant ** and argument in the form key and value will only be accpeted"
   ]
  },
  {
   "cell_type": "markdown",
   "metadata": {},
   "source": [
    "# 5. What gets printed by this, and explain?\n",
    "&gt;&gt;&gt; def func(a, b, c=8, d=5): print(a, b, c, d)\n",
    "&gt;&gt;&gt; func(1, *(5, 6))"
   ]
  },
  {
   "cell_type": "code",
   "execution_count": 50,
   "metadata": {},
   "outputs": [],
   "source": [
    "def func(a, b, c=8, d=5):\n",
    "    print(a, b, c, d) \n",
    "    "
   ]
  },
  {
   "cell_type": "code",
   "execution_count": 51,
   "metadata": {},
   "outputs": [
    {
     "name": "stdout",
     "output_type": "stream",
     "text": [
      "1 5 6 5\n"
     ]
    }
   ],
   "source": [
    "func(1, *(5, 6))   # here in function we are passing two values with * it means agter a, it will owerwrtite oter arugment in \n",
    "                   # sequence of 5,6,5,6,5,6.. e.g here b = 5,c=6,d= again 5 "
   ]
  },
  {
   "cell_type": "markdown",
   "metadata": {},
   "source": [
    "# 6. what is the result of this, and explain?\n",
    "&gt;&gt;&gt; def func(a, b, c): a = 2; b[0] = &#39;x&#39;; c[&#39;a&#39;] = &#39;y&#39;\n",
    "&gt;&gt;&gt; l=1; m=[1]; n={&#39;a&#39;:0}\n",
    "&gt;&gt;&gt; func(l, m, n)"
   ]
  },
  {
   "cell_type": "code",
   "execution_count": 52,
   "metadata": {},
   "outputs": [],
   "source": [
    "def func(a,b,c):\n",
    "    a= 2\n",
    "    b[0] = \"x\"\n",
    "    c[\"a\"]=\"y\"\n",
    "    "
   ]
  },
  {
   "cell_type": "code",
   "execution_count": 53,
   "metadata": {},
   "outputs": [],
   "source": [
    "l=1\n",
    "m=[1]\n",
    "n={'a':0} \n",
    "\n",
    "func(l,m,n)"
   ]
  },
  {
   "cell_type": "code",
   "execution_count": 54,
   "metadata": {},
   "outputs": [
    {
     "data": {
      "text/plain": [
       "(1, ['x'], {'a': 'y'})"
      ]
     },
     "execution_count": 54,
     "metadata": {},
     "output_type": "execute_result"
    }
   ],
   "source": [
    "l, m, n\n"
   ]
  },
  {
   "cell_type": "code",
   "execution_count": 55,
   "metadata": {},
   "outputs": [
    {
     "data": {
      "text/plain": [
       "' here l=1,so it is taken as argument a , second is  m whose data type is list which appended the value \"x\" in it \\n last n is dicionoray data type so \\'a\\': \\'y\\' this value is appended by dictionary'"
      ]
     },
     "execution_count": 55,
     "metadata": {},
     "output_type": "execute_result"
    }
   ],
   "source": [
    "\n",
    "\"\"\" here l=1,so it is taken as argument a , second is  m whose data type is list which appended the value \"x\" in it \n",
    " last n is dicionoray data type so 'a': 'y' this value is appended by dictionary\"\"\""
   ]
  },
  {
   "cell_type": "code",
   "execution_count": null,
   "metadata": {},
   "outputs": [],
   "source": []
  }
 ],
 "metadata": {
  "kernelspec": {
   "display_name": "Python 3",
   "language": "python",
   "name": "python3"
  },
  "language_info": {
   "codemirror_mode": {
    "name": "ipython",
    "version": 3
   },
   "file_extension": ".py",
   "mimetype": "text/x-python",
   "name": "python",
   "nbconvert_exporter": "python",
   "pygments_lexer": "ipython3",
   "version": "3.8.5"
  }
 },
 "nbformat": 4,
 "nbformat_minor": 4
}
