{
 "cells": [
  {
   "cell_type": "markdown",
   "id": "uniform-frontier",
   "metadata": {},
   "source": [
    "# 1. What are the Boolean data type&#39;s two values? How do you go about writing them?"
   ]
  },
  {
   "cell_type": "markdown",
   "id": "perfect-consent",
   "metadata": {},
   "source": [
    "The two boolean data values are True and False"
   ]
  },
  {
   "cell_type": "code",
   "execution_count": 11,
   "id": "curious-bibliography",
   "metadata": {},
   "outputs": [
    {
     "data": {
      "text/plain": [
       "bool"
      ]
     },
     "execution_count": 11,
     "metadata": {},
     "output_type": "execute_result"
    }
   ],
   "source": [
    "type(True) # True and False"
   ]
  },
  {
   "cell_type": "markdown",
   "id": "dated-inquiry",
   "metadata": {},
   "source": [
    "# 2. What are the three different types of Boolean operators?"
   ]
  },
  {
   "cell_type": "markdown",
   "id": "sophisticated-rebel",
   "metadata": {},
   "source": [
    "and , or and not these are three types "
   ]
  },
  {
   "cell_type": "markdown",
   "id": "widespread-attraction",
   "metadata": {},
   "source": [
    "# 3. Make a list of each Boolean operator&#39;s truth tables (i.e. every possible combination of Boolean\n",
    "values for the operator and what it evaluate )."
   ]
  },
  {
   "cell_type": "code",
   "execution_count": 12,
   "id": "statewide-module",
   "metadata": {},
   "outputs": [
    {
     "data": {
      "text/plain": [
       "False"
      ]
     },
     "execution_count": 12,
     "metadata": {},
     "output_type": "execute_result"
    }
   ],
   "source": [
    "True and False\n"
   ]
  },
  {
   "cell_type": "code",
   "execution_count": 13,
   "id": "colored-shell",
   "metadata": {},
   "outputs": [
    {
     "data": {
      "text/plain": [
       "True"
      ]
     },
     "execution_count": 13,
     "metadata": {},
     "output_type": "execute_result"
    }
   ],
   "source": [
    "True and True"
   ]
  },
  {
   "cell_type": "code",
   "execution_count": 14,
   "id": "regional-peter",
   "metadata": {},
   "outputs": [
    {
     "data": {
      "text/plain": [
       "False"
      ]
     },
     "execution_count": 14,
     "metadata": {},
     "output_type": "execute_result"
    }
   ],
   "source": [
    "False and False"
   ]
  },
  {
   "cell_type": "code",
   "execution_count": 15,
   "id": "weighted-import",
   "metadata": {},
   "outputs": [
    {
     "data": {
      "text/plain": [
       "True"
      ]
     },
     "execution_count": 15,
     "metadata": {},
     "output_type": "execute_result"
    }
   ],
   "source": [
    "True or False\n"
   ]
  },
  {
   "cell_type": "code",
   "execution_count": 16,
   "id": "opposed-kansas",
   "metadata": {},
   "outputs": [
    {
     "data": {
      "text/plain": [
       "True"
      ]
     },
     "execution_count": 16,
     "metadata": {},
     "output_type": "execute_result"
    }
   ],
   "source": [
    "True or True"
   ]
  },
  {
   "cell_type": "code",
   "execution_count": 17,
   "id": "novel-michigan",
   "metadata": {},
   "outputs": [
    {
     "data": {
      "text/plain": [
       "False"
      ]
     },
     "execution_count": 17,
     "metadata": {},
     "output_type": "execute_result"
    }
   ],
   "source": [
    "False or False"
   ]
  },
  {
   "cell_type": "code",
   "execution_count": 18,
   "id": "funky-humor",
   "metadata": {},
   "outputs": [
    {
     "data": {
      "text/plain": [
       "True"
      ]
     },
     "execution_count": 18,
     "metadata": {},
     "output_type": "execute_result"
    }
   ],
   "source": [
    "not False"
   ]
  },
  {
   "cell_type": "code",
   "execution_count": 19,
   "id": "judicial-rider",
   "metadata": {},
   "outputs": [
    {
     "data": {
      "text/plain": [
       "False"
      ]
     },
     "execution_count": 19,
     "metadata": {},
     "output_type": "execute_result"
    }
   ],
   "source": [
    "not True"
   ]
  },
  {
   "cell_type": "markdown",
   "id": "fancy-income",
   "metadata": {},
   "source": [
    "# 4. What are the values of the following expressions?\n",
    "\n",
    "(5 &gt; 4) and (3 == 5)\n",
    "not (5 &gt; 4)\n",
    "(5 &gt; 4) or (3 == 5)\n",
    "not ((5 &gt; 4) or (3 == 5))\n",
    "(True and True) and (True == False)\n",
    "(not False) or (not True)"
   ]
  },
  {
   "cell_type": "code",
   "execution_count": 20,
   "id": "laden-anniversary",
   "metadata": {},
   "outputs": [
    {
     "data": {
      "text/plain": [
       "False"
      ]
     },
     "execution_count": 20,
     "metadata": {},
     "output_type": "execute_result"
    }
   ],
   "source": [
    "(5 > 4) and (3 == 5)"
   ]
  },
  {
   "cell_type": "code",
   "execution_count": 21,
   "id": "senior-clear",
   "metadata": {},
   "outputs": [
    {
     "data": {
      "text/plain": [
       "False"
      ]
     },
     "execution_count": 21,
     "metadata": {},
     "output_type": "execute_result"
    }
   ],
   "source": [
    "not (5 > 4)"
   ]
  },
  {
   "cell_type": "code",
   "execution_count": 22,
   "id": "apparent-mongolia",
   "metadata": {},
   "outputs": [
    {
     "data": {
      "text/plain": [
       "True"
      ]
     },
     "execution_count": 22,
     "metadata": {},
     "output_type": "execute_result"
    }
   ],
   "source": [
    "(5 > 4) or (3 == 5)"
   ]
  },
  {
   "cell_type": "code",
   "execution_count": 23,
   "id": "verbal-detection",
   "metadata": {},
   "outputs": [
    {
     "data": {
      "text/plain": [
       "False"
      ]
     },
     "execution_count": 23,
     "metadata": {},
     "output_type": "execute_result"
    }
   ],
   "source": [
    "not ((5 > 4) or (3 == 5))"
   ]
  },
  {
   "cell_type": "code",
   "execution_count": 24,
   "id": "concerned-cincinnati",
   "metadata": {},
   "outputs": [
    {
     "data": {
      "text/plain": [
       "False"
      ]
     },
     "execution_count": 24,
     "metadata": {},
     "output_type": "execute_result"
    }
   ],
   "source": [
    "(True and True) and (True == False)"
   ]
  },
  {
   "cell_type": "code",
   "execution_count": 25,
   "id": "manufactured-developer",
   "metadata": {},
   "outputs": [
    {
     "data": {
      "text/plain": [
       "True"
      ]
     },
     "execution_count": 25,
     "metadata": {},
     "output_type": "execute_result"
    }
   ],
   "source": [
    "(not False) or (not True)"
   ]
  },
  {
   "cell_type": "markdown",
   "id": "together-southeast",
   "metadata": {},
   "source": [
    "# 5. What are the six different types of reference operators?"
   ]
  },
  {
   "cell_type": "code",
   "execution_count": 26,
   "id": "considerable-while",
   "metadata": {},
   "outputs": [
    {
     "name": "stdout",
     "output_type": "stream",
     "text": [
      "False\n",
      "True\n",
      "True\n",
      "False\n",
      "True\n",
      "False\n"
     ]
    }
   ],
   "source": [
    "# equal to ==\n",
    "a= 5 \n",
    "b= 7\n",
    "\n",
    "print(a == b)\n",
    "# not equal to !=\n",
    "print(a !=b)\n",
    "# less than\n",
    "print(a < b)\n",
    "# grater than\n",
    "print(a > b)\n",
    "# less than or equal to \n",
    "print( a <= b)\n",
    "# grater than or equal to \n",
    "print( a >= b)"
   ]
  },
  {
   "cell_type": "markdown",
   "id": "minute-little",
   "metadata": {},
   "source": [
    "# 6. How do you tell the difference between the equal to and assignment operators?\n"
   ]
  },
  {
   "cell_type": "code",
   "execution_count": 27,
   "id": "frank-auction",
   "metadata": {},
   "outputs": [],
   "source": [
    "#   \"= \" assignment operator is usesd to assign value\n",
    "# ' =='\n",
    "# this oprator checks the is equal to condition if given expression satisfy the condition then true else false\n",
    "\n"
   ]
  },
  {
   "cell_type": "markdown",
   "id": "vietnamese-brazilian",
   "metadata": {},
   "source": [
    "# . Describe a condition and when you would use one."
   ]
  },
  {
   "cell_type": "code",
   "execution_count": 28,
   "id": "hungarian-anchor",
   "metadata": {},
   "outputs": [
    {
     "name": "stdout",
     "output_type": "stream",
     "text": [
      "rushikesh\n"
     ]
    }
   ],
   "source": [
    "#  \"= \" assignment operator is usesd to assign value\n",
    "u = \"rushikesh\"\n",
    "print(u)\n"
   ]
  },
  {
   "cell_type": "code",
   "execution_count": 29,
   "id": "electoral-software",
   "metadata": {},
   "outputs": [
    {
     "data": {
      "text/plain": [
       "True"
      ]
     },
     "execution_count": 29,
     "metadata": {},
     "output_type": "execute_result"
    }
   ],
   "source": [
    "# this oprator checks the is equal to condition if given expression satisfy the condition then true else false\n",
    "y = 78\n",
    "z = 78\n",
    "y == z"
   ]
  },
  {
   "cell_type": "markdown",
   "id": "common-fitness",
   "metadata": {},
   "source": [
    "# 7. Recognize the following three blocks in this code:"
   ]
  },
  {
   "cell_type": "code",
   "execution_count": 30,
   "id": "regular-bearing",
   "metadata": {},
   "outputs": [
    {
     "name": "stdout",
     "output_type": "stream",
     "text": [
      "ham\n",
      "spam\n"
     ]
    }
   ],
   "source": [
    "spam = 0\n",
    "if spam == 10:\n",
    "    print('eggs')\n",
    "if spam > 5:\n",
    "    print('bacon')\n",
    "else:\n",
    "    print('ham')\n",
    "    print('spam')    \n"
   ]
  },
  {
   "cell_type": "markdown",
   "id": "beginning-volleyball",
   "metadata": {},
   "source": [
    "at first we definde the variable spam and assigned value to it \n",
    "\n",
    "1st block: if condition spam is equal to 10 we are printing eggs , the condtin is false here\n",
    "\n",
    "2nd block : aganin and if condition spam is grater than 5 we are priting bacon , the condtion is false here\n",
    "    \n",
    "3rd block : else codition both if is false we print ham and spam "
   ]
  },
  {
   "cell_type": "markdown",
   "id": "coral-reference",
   "metadata": {},
   "source": [
    "# 8. Create a programme that prints. If 1 is stored in spam, prints Hello; if 2 is stored in spam, prints Howdy; and if 3 is stored in spam, prints Salutations! if there&#39;s something else in spam."
   ]
  },
  {
   "cell_type": "code",
   "execution_count": null,
   "id": "proof-paradise",
   "metadata": {},
   "outputs": [],
   "source": [
    "spam = int(input())\n",
    "\n",
    "if spam == 1 :\n",
    "    print(\"hello\")\n",
    "elif spam == 2 :\n",
    "    print(\"Howdy\")\n",
    "elif spam == 3 :\n",
    "    print(\"Salutations!\")\n",
    "else :\n",
    "     print(\"there is something else in spam\")"
   ]
  },
  {
   "cell_type": "markdown",
   "id": "adult-vancouver",
   "metadata": {},
   "source": [
    "# 9.If your programme is stuck in an endless loop, what keys can you press?"
   ]
  },
  {
   "cell_type": "markdown",
   "id": "level-opinion",
   "metadata": {},
   "source": [
    "ctrl + c ,\n",
    "sometimes , I try to close the terminal or atlast just open task manager close the IDE works for me"
   ]
  },
  {
   "cell_type": "markdown",
   "id": "nutritional-marina",
   "metadata": {},
   "source": [
    "# 10.How can you tell the difference between break and continue?"
   ]
  },
  {
   "cell_type": "markdown",
   "id": "cognitive-dodge",
   "metadata": {},
   "source": [
    "this are inbuilt function which we can use inside the  for or while loop for e.g"
   ]
  },
  {
   "cell_type": "code",
   "execution_count": null,
   "id": "relative-thirty",
   "metadata": {},
   "outputs": [],
   "source": [
    "a = \"rushikesh\"\n",
    "\n",
    "for i in a :\n",
    "    \n",
    "    if i == \"r\":\n",
    "        print(\"la la\")\n",
    "        break\n",
    "    if i == \"u\":\n",
    "        print(\"ha ha\")\n",
    "    \n",
    "    # here we use break to end the loop, after  break  it will not check further condition"
   ]
  },
  {
   "cell_type": "code",
   "execution_count": null,
   "id": "consolidated-horizon",
   "metadata": {},
   "outputs": [],
   "source": [
    "a = \"rushikesh\"\n",
    "\n",
    "for i in a :\n",
    "    \n",
    "    if i == \"r\":\n",
    "        \n",
    "        continue\n",
    "    if i == \"u\":\n",
    "        print(\"ha ha\")\n",
    "    # again we use similar kind of code but using contionue we are able to skip some code and move to 2nd condition"
   ]
  },
  {
   "cell_type": "markdown",
   "id": "chronic-exhibit",
   "metadata": {},
   "source": [
    "# 11. In a for loop, what is the difference between range(10), range(0, 10), and range(0, 10, 1)?"
   ]
  },
  {
   "cell_type": "code",
   "execution_count": null,
   "id": "subtle-insight",
   "metadata": {},
   "outputs": [],
   "source": [
    "for i in range(10):\n",
    "    print(i)\n"
   ]
  },
  {
   "cell_type": "code",
   "execution_count": null,
   "id": "unable-humanity",
   "metadata": {},
   "outputs": [],
   "source": [
    "for i in range(0,10):\n",
    "    print(i)"
   ]
  },
  {
   "cell_type": "code",
   "execution_count": null,
   "id": "accessory-christian",
   "metadata": {},
   "outputs": [],
   "source": [
    "for i in range(0,10,1):\n",
    "    print(i)"
   ]
  },
  {
   "cell_type": "code",
   "execution_count": null,
   "id": "intimate-briefing",
   "metadata": {},
   "outputs": [],
   "source": [
    "# every loop  representing same thing , so this are three diffrent ways of representing same range\n",
    "# 0 is default value of every range and 1 is default step size"
   ]
  },
  {
   "cell_type": "markdown",
   "id": "scheduled-payroll",
   "metadata": {},
   "source": [
    "# 12. Using a for loop, write a short programme that prints the numbers 1 to 10 Then, using a while loop, create an identical programme that prints the numbers 1 to 10."
   ]
  },
  {
   "cell_type": "code",
   "execution_count": null,
   "id": "willing-bermuda",
   "metadata": {},
   "outputs": [],
   "source": [
    "for i in range(1,11):\n",
    "    print(i)"
   ]
  },
  {
   "cell_type": "code",
   "execution_count": null,
   "id": "available-travel",
   "metadata": {},
   "outputs": [],
   "source": [
    "n = 10\n",
    "a = 0\n",
    "\n",
    "while a < n :\n",
    "    \n",
    "    a = a+1\n",
    "    print(a)"
   ]
  },
  {
   "cell_type": "markdown",
   "id": "central-philadelphia",
   "metadata": {},
   "source": [
    "# 13. If you had a bacon() function within a spam module, how would you call it after importing spam?"
   ]
  },
  {
   "cell_type": "code",
   "execution_count": null,
   "id": "available-frame",
   "metadata": {},
   "outputs": [],
   "source": [
    "spam = 6\n",
    "def xyz(spam) :\n",
    "    \n",
    "    if spam == 10:\n",
    "            print('eggs')\n",
    "    if spam > 5:\n",
    "            print('bacon')\n",
    "    else:\n",
    "            print('ham')\n",
    "        \n",
    "    "
   ]
  },
  {
   "cell_type": "code",
   "execution_count": null,
   "id": "essential-season",
   "metadata": {},
   "outputs": [],
   "source": [
    "xyz(spam)"
   ]
  },
  {
   "cell_type": "code",
   "execution_count": null,
   "id": "excited-therapy",
   "metadata": {},
   "outputs": [],
   "source": []
  }
 ],
 "metadata": {
  "kernelspec": {
   "display_name": "Python 3",
   "language": "python",
   "name": "python3"
  },
  "language_info": {
   "codemirror_mode": {
    "name": "ipython",
    "version": 3
   },
   "file_extension": ".py",
   "mimetype": "text/x-python",
   "name": "python",
   "nbconvert_exporter": "python",
   "pygments_lexer": "ipython3",
   "version": "3.7.9"
  }
 },
 "nbformat": 4,
 "nbformat_minor": 5
}
