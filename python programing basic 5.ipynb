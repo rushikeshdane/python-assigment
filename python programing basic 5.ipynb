{
 "cells": [
  {
   "cell_type": "markdown",
   "id": "accredited-cooking",
   "metadata": {},
   "source": [
    "# 1. Write a Python Program to Find LCM?\n"
   ]
  },
  {
   "cell_type": "code",
   "execution_count": 24,
   "id": "seven-sixth",
   "metadata": {},
   "outputs": [
    {
     "name": "stdout",
     "output_type": "stream",
     "text": [
      "1794\n"
     ]
    }
   ],
   "source": [
    "def lcm(x,y):\n",
    "    if x>y:\n",
    "        greater_no = x\n",
    "    else:\n",
    "        greater_no = y\n",
    "\n",
    "    while True:\n",
    "        if (greater_no%x == 0 and greater_no % y==0):\n",
    "            lcm = greater_no\n",
    "            break\n",
    "\n",
    "        greater_no = greater_no+1\n",
    "    print(lcm)\n",
    "    \n",
    "    \n",
    "lcm(23,78)"
   ]
  },
  {
   "cell_type": "markdown",
   "id": "valued-ready",
   "metadata": {},
   "source": [
    "# 2. Write a Python Program to Find HCF?\n"
   ]
  },
  {
   "cell_type": "code",
   "execution_count": 25,
   "id": "classical-denver",
   "metadata": {},
   "outputs": [
    {
     "name": "stdout",
     "output_type": "stream",
     "text": [
      "3\n"
     ]
    }
   ],
   "source": [
    "#gcd ans hcf are same greatest common divisor and highest common factor\n",
    "def HCF(first,second):\n",
    "    x= first\n",
    "    y= second\n",
    "    while second!= 0 :\n",
    "        tem = second\n",
    "        second = first%second\n",
    "        first= tem\n",
    "    gcd=first\n",
    "\n",
    "    print(gcd)\n",
    "HCF(3,36)"
   ]
  },
  {
   "cell_type": "markdown",
   "id": "revised-catalog",
   "metadata": {},
   "source": [
    "# 3. Write a Python Program to Convert Decimal to Binary, Octal and Hexadecimal?\n"
   ]
  },
  {
   "cell_type": "code",
   "execution_count": 27,
   "id": "selective-wireless",
   "metadata": {},
   "outputs": [
    {
     "name": "stdout",
     "output_type": "stream",
     "text": [
      "enter any number5\n",
      "0b101\n",
      "0o5\n",
      "0x5\n"
     ]
    }
   ],
   "source": [
    "n = int(input(\"enter any number\"))\n",
    "\n",
    "print(bin(n))  # bin, oct ans hex are inbuilt function to covert decimal into binary ,octal and Hexadecimal \n",
    "print(oct(n))\n",
    "print(hex(n))"
   ]
  },
  {
   "cell_type": "markdown",
   "id": "working-angola",
   "metadata": {},
   "source": [
    "# 4. Write a Python Program To Find ASCII value of a character?\n"
   ]
  },
  {
   "cell_type": "code",
   "execution_count": 28,
   "id": "fossil-valuable",
   "metadata": {},
   "outputs": [
    {
     "name": "stdout",
     "output_type": "stream",
     "text": [
      "100\n"
     ]
    }
   ],
   "source": [
    "print(ord(\"d\"))          # ord is inbuilt function to print ASCII valut of character"
   ]
  },
  {
   "cell_type": "markdown",
   "id": "dressed-clear",
   "metadata": {},
   "source": [
    "# 5. Write a Python Program to Make a Simple Calculator with 4 basic mathematical operations?"
   ]
  },
  {
   "cell_type": "code",
   "execution_count": null,
   "id": "cosmetic-fitting",
   "metadata": {},
   "outputs": [],
   "source": [
    "a= int(input(\"enter number \"))\n",
    "b=int(input(\"enter number \"))\n",
    "def calculator(a,b,operator):           # note : plz enter oprator in the form of string\n",
    "    if operator == '+':\n",
    "        print(a+b)\n",
    "    elif operator == '-':\n",
    "        print(a-b)\n",
    "    elif operator == '*':\n",
    "        print(a*b)      \n",
    "    elif operator == '/':\n",
    "        print(a/b)\n",
    "    else:\n",
    "        print(\"this operation is not supporated\")\n",
    "        \n",
    "        \n",
    "calculator(a,b,\"*\")                  # note : plz enter oprator in the form of string"
   ]
  },
  {
   "cell_type": "markdown",
   "id": "atmospheric-europe",
   "metadata": {},
   "source": [
    "credit : https://www.programiz.com    ,http://www.pythontutor.com/\n",
    "\n"
   ]
  },
  {
   "cell_type": "code",
   "execution_count": null,
   "id": "coral-sphere",
   "metadata": {},
   "outputs": [],
   "source": []
  }
 ],
 "metadata": {
  "kernelspec": {
   "display_name": "Python 3",
   "language": "python",
   "name": "python3"
  },
  "language_info": {
   "codemirror_mode": {
    "name": "ipython",
    "version": 3
   },
   "file_extension": ".py",
   "mimetype": "text/x-python",
   "name": "python",
   "nbconvert_exporter": "python",
   "pygments_lexer": "ipython3",
   "version": "3.7.9"
  }
 },
 "nbformat": 4,
 "nbformat_minor": 5
}
