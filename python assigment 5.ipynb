{
 "cells": [
  {
   "cell_type": "markdown",
   "id": "unexpected-income",
   "metadata": {},
   "source": [
    "# name : Rushikesh dane"
   ]
  },
  {
   "cell_type": "markdown",
   "id": "comparable-lecture",
   "metadata": {},
   "source": [
    "# 1. What does an empty dictionary&#39;s code look like?"
   ]
  },
  {
   "cell_type": "code",
   "execution_count": 2,
   "id": "subtle-purpose",
   "metadata": {},
   "outputs": [
    {
     "data": {
      "text/plain": [
       "dict"
      ]
     },
     "execution_count": 2,
     "metadata": {},
     "output_type": "execute_result"
    }
   ],
   "source": [
    "    {}\n",
    "type({})"
   ]
  },
  {
   "cell_type": "markdown",
   "id": "jewish-italic",
   "metadata": {},
   "source": [
    "# 2. What is the value of a dictionary value with the key &#39;foo&#39; and the value 42?"
   ]
  },
  {
   "cell_type": "code",
   "execution_count": 5,
   "id": "crucial-catering",
   "metadata": {},
   "outputs": [
    {
     "data": {
      "text/plain": [
       "42"
      ]
     },
     "execution_count": 5,
     "metadata": {},
     "output_type": "execute_result"
    }
   ],
   "source": [
    "d = {\"foo\":42}\n",
    "d[\"foo\"]\n",
    "# dictionart value will be 42"
   ]
  },
  {
   "cell_type": "markdown",
   "id": "starting-cholesterol",
   "metadata": {},
   "source": [
    "# 3. What is the most significant distinction between a dictionary and a list?"
   ]
  },
  {
   "cell_type": "code",
   "execution_count": 2,
   "id": "narrative-impossible",
   "metadata": {},
   "outputs": [
    {
     "name": "stdout",
     "output_type": "stream",
     "text": [
      "3\n",
      "2\n"
     ]
    }
   ],
   "source": [
    "'''list stores the data in index format \n",
    "dictionary stores the data in key: value format\n",
    "\n",
    "    \n",
    "this indicates to access element inside list we use index and for dictionary we use key \n",
    "'''\n",
    "a = [1,2,3]\n",
    "print(a[2])\n",
    "b = {\"one\":1,\"two\":2}\n",
    "print(b[\"two\"])"
   ]
  },
  {
   "cell_type": "markdown",
   "id": "extensive-allah",
   "metadata": {},
   "source": [
    "# 4. What happens if spam[&#39;foo&#39;] is &#39;bar&#39;: 100 and you try to access it?"
   ]
  },
  {
   "cell_type": "markdown",
   "id": "common-furniture",
   "metadata": {},
   "source": [
    "it will not work \n",
    "\n",
    "dictionary works on key :value method\n",
    "\n",
    "so it can't access this spam[\"foo\"] beacause it is not present in our original dictionary"
   ]
  },
  {
   "cell_type": "markdown",
   "id": "cosmetic-coalition",
   "metadata": {},
   "source": [
    "# 5. If a dictionary is stored in spam, what is the difference between the expressions 'cat' in spam and 'cat' in spam.keys()?"
   ]
  },
  {
   "cell_type": "markdown",
   "id": "constitutional-leonard",
   "metadata": {},
   "source": [
    "# 6.f a dictionary is stored in spam, what is the difference between the expressions 'cat' in spam and 'cat' in spam.values()?"
   ]
  },
  {
   "cell_type": "code",
   "execution_count": 8,
   "id": "respiratory-mention",
   "metadata": {},
   "outputs": [
    {
     "name": "stdout",
     "output_type": "stream",
     "text": [
      "56\n",
      "cat\n",
      "  \n",
      "dict_keys(['cat', 56])\n",
      "  \n",
      "dict_values([56, 'cat'])\n"
     ]
    }
   ],
   "source": [
    "# let's take question 5 and 6 simultanously ,\n",
    "\n",
    "spam = {'cat':56,56:'cat'} \n",
    "print(spam['cat'])  # when we try to acces \"cat \" in spam ,it will give value of it i.e 56 \n",
    "                    # it means expression \"cat\" in spam give it's assigned value\n",
    " \n",
    "print(spam[56])  # here we store \"cat\" as value and try to access it by it's key 56\n",
    "print(\"  \")\n",
    "print(spam.keys())# this will give only keys in dictionary\n",
    "print(\"  \")\n",
    "print(spam.values()) # this will give only values in dictionary\n",
    "\n"
   ]
  },
  {
   "cell_type": "markdown",
   "id": "focused-native",
   "metadata": {},
   "source": [
    "# 7. What is a shortcut for the following code?       if &#39;color&#39; not in spam:spam[&#39;color&#39;] = &#39;black&#39;"
   ]
  },
  {
   "cell_type": "code",
   "execution_count": 11,
   "id": "regular-folks",
   "metadata": {},
   "outputs": [
    {
     "data": {
      "text/plain": [
       "{'cat': 56, 56: 'cat'}"
      ]
     },
     "execution_count": 11,
     "metadata": {},
     "output_type": "execute_result"
    }
   ],
   "source": [
    "spam = {'cat':56,56:'cat'}\n",
    "#spam[\"color\"] = 'black'\n",
    "spam"
   ]
  },
  {
   "cell_type": "code",
   "execution_count": 16,
   "id": "phantom-nirvana",
   "metadata": {},
   "outputs": [
    {
     "data": {
      "text/plain": [
       "{'cat': 56, 56: 'cat', 'color': 'black'}"
      ]
     },
     "execution_count": 16,
     "metadata": {},
     "output_type": "execute_result"
    }
   ],
   "source": [
    "spam.update(color=\"black\") # this will update key value pair\n",
    "spam"
   ]
  },
  {
   "cell_type": "markdown",
   "id": "demanding-georgia",
   "metadata": {},
   "source": [
    "# 8. How do you &quot;pretty print&quot; dictionary values using which module and function?"
   ]
  },
  {
   "cell_type": "code",
   "execution_count": 23,
   "id": "cathedral-retail",
   "metadata": {},
   "outputs": [
    {
     "name": "stdout",
     "output_type": "stream",
     "text": [
      "{56: 'cat', 'cat': 56}\n"
     ]
    }
   ],
   "source": [
    "spam1 = {'cat':56,56:'cat'}\n",
    "\n",
    "import pprint  # we use pprint module\n",
    "\n",
    "pp = pprint.PrettyPrinter(indent=5,width=41)  # we are using PrettyPrinter funtion inside the module\n",
    "\n",
    "pp.pprint(spam1)"
   ]
  },
  {
   "cell_type": "code",
   "execution_count": null,
   "id": "million-surname",
   "metadata": {},
   "outputs": [],
   "source": []
  }
 ],
 "metadata": {
  "kernelspec": {
   "display_name": "Python 3",
   "language": "python",
   "name": "python3"
  },
  "language_info": {
   "codemirror_mode": {
    "name": "ipython",
    "version": 3
   },
   "file_extension": ".py",
   "mimetype": "text/x-python",
   "name": "python",
   "nbconvert_exporter": "python",
   "pygments_lexer": "ipython3",
   "version": "3.7.9"
  }
 },
 "nbformat": 4,
 "nbformat_minor": 5
}
