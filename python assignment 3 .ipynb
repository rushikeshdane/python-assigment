{
 "cells": [
  {
   "cell_type": "markdown",
   "id": "offshore-yesterday",
   "metadata": {},
   "source": [
    "# 1. Why are functions advantageous to have in your programs?"
   ]
  },
  {
   "cell_type": "markdown",
   "id": "affected-planet",
   "metadata": {},
   "source": [
    "Advantage\n",
    "* functions avoid duplicate code and repetition of code hence increases efficiancy\n",
    "* we can call the fuction again and again when required once it is defined\n",
    "* function reduces error in program\n",
    "* function make code short and easier to read\n"
   ]
  },
  {
   "cell_type": "markdown",
   "id": "related-resort",
   "metadata": {},
   "source": [
    "# 2. When does the code in a function run: when it&#39;s specified or when it&#39;s called?"
   ]
  },
  {
   "cell_type": "markdown",
   "id": "terminal-production",
   "metadata": {},
   "source": [
    "code in function runs only when it is called, not when it's specified."
   ]
  },
  {
   "cell_type": "code",
   "execution_count": 1,
   "id": "promotional-vietnamese",
   "metadata": {},
   "outputs": [],
   "source": [
    "#e.g:\n",
    "def abc(a):\n",
    "    print(a)"
   ]
  },
  {
   "cell_type": "code",
   "execution_count": 2,
   "id": "stuck-tumor",
   "metadata": {},
   "outputs": [
    {
     "name": "stdout",
     "output_type": "stream",
     "text": [
      "32\n"
     ]
    }
   ],
   "source": [
    "abc(32)"
   ]
  },
  {
   "cell_type": "markdown",
   "id": "temporal-scanning",
   "metadata": {},
   "source": [
    "# 3. What statement creates a function?"
   ]
  },
  {
   "cell_type": "markdown",
   "id": "eight-pharmaceutical",
   "metadata": {},
   "source": [
    "def is statement that creates function , it means we are defing function \n",
    "It consists of the name of the function followed by a list of arguments enclosed in parentheses"
   ]
  },
  {
   "cell_type": "code",
   "execution_count": 3,
   "id": "suited-committee",
   "metadata": {},
   "outputs": [],
   "source": [
    "#e.g:\n",
    "def abc(n):\n",
    "    print(n)"
   ]
  },
  {
   "cell_type": "markdown",
   "id": "collectible-black",
   "metadata": {},
   "source": [
    "# 4. What is the difference between a function and a function call?"
   ]
  },
  {
   "cell_type": "markdown",
   "id": "recognized-screw",
   "metadata": {},
   "source": [
    "a function accepts inputs as parameters and returns a result\n",
    "\n",
    "function call is the code used to pass control to a function"
   ]
  },
  {
   "cell_type": "code",
   "execution_count": 4,
   "id": "commercial-springer",
   "metadata": {},
   "outputs": [
    {
     "data": {
      "text/plain": [
       "16"
      ]
     },
     "execution_count": 4,
     "metadata": {},
     "output_type": "execute_result"
    }
   ],
   "source": [
    "def add(x,y):           # here we are defining add as functiono\n",
    "    return x+ y\n",
    "\n",
    "add(7,9 )             # we are calling add function"
   ]
  },
  {
   "cell_type": "markdown",
   "id": "progressive-marina",
   "metadata": {},
   "source": [
    "# 5. How many global scopes are there in a Python program? How many local scopes?"
   ]
  },
  {
   "cell_type": "markdown",
   "id": "sticky-phrase",
   "metadata": {},
   "source": [
    "A variable created inside a function belongs to the local scope of that function"
   ]
  },
  {
   "cell_type": "markdown",
   "id": "laughing-weather",
   "metadata": {},
   "source": [
    "A variable created in the main body of the Python code is a global variable and belongs to the global scope."
   ]
  },
  {
   "cell_type": "code",
   "execution_count": 5,
   "id": "cathedral-appraisal",
   "metadata": {},
   "outputs": [
    {
     "name": "stdout",
     "output_type": "stream",
     "text": [
      "1002\n",
      "8\n"
     ]
    }
   ],
   "source": [
    "# we can create only one gloabal scopes per program same goes for local scopes e.g\n",
    "v= 8\n",
    "def xyz():\n",
    "    v= 1002\n",
    "    print(v)\n",
    "    \n",
    "xyz()\n",
    "print(v)"
   ]
  },
  {
   "cell_type": "markdown",
   "id": "executed-cinema",
   "metadata": {},
   "source": [
    "# 6. What happens to variables in a local scope when the function call returns?"
   ]
  },
  {
   "cell_type": "code",
   "execution_count": 6,
   "id": "environmental-comment",
   "metadata": {},
   "outputs": [
    {
     "name": "stdout",
     "output_type": "stream",
     "text": [
      "1014\n"
     ]
    }
   ],
   "source": [
    "def xyz(a):\n",
    "    v= 1002\n",
    "    b =  a+v\n",
    "    print(b)\n",
    "    \n",
    "xyz(12)         # local variable inside function definately get executed"
   ]
  },
  {
   "cell_type": "markdown",
   "id": "personal-shannon",
   "metadata": {},
   "source": [
    "# 7. What is the concept of a return value? Is it possible to have a return value in an expression?\n",
    "\n"
   ]
  },
  {
   "cell_type": "code",
   "execution_count": 7,
   "id": "blond-modeling",
   "metadata": {},
   "outputs": [
    {
     "data": {
      "text/plain": [
       "16"
      ]
     },
     "execution_count": 7,
     "metadata": {},
     "output_type": "execute_result"
    }
   ],
   "source": [
    "#when we define the function we can can specify return value when it coampletes our assigned task inside the function\n",
    "def add(x,y):           \n",
    "    return x+ y\n",
    "\n",
    "add(7,9 ) \n",
    "# yes , it is possible to have  above I had used x+y expression as return value\n"
   ]
  },
  {
   "cell_type": "markdown",
   "id": "permanent-palestinian",
   "metadata": {},
   "source": [
    "# 8. If a function does not have a return statement, what is the return value of a call to that function"
   ]
  },
  {
   "cell_type": "code",
   "execution_count": 8,
   "id": "liquid-musical",
   "metadata": {},
   "outputs": [
    {
     "name": "stdout",
     "output_type": "stream",
     "text": [
      "None\n"
     ]
    }
   ],
   "source": [
    "def t():\n",
    "    pass\n",
    "print(t())"
   ]
  },
  {
   "cell_type": "code",
   "execution_count": 9,
   "id": "electoral-population",
   "metadata": {},
   "outputs": [
    {
     "name": "stdout",
     "output_type": "stream",
     "text": [
      "None\n"
     ]
    }
   ],
   "source": [
    "def t( a,b):\n",
    "       a/b\n",
    "    \n",
    "print(t(4,6))       # the value should be none without return "
   ]
  },
  {
   "cell_type": "markdown",
   "id": "broke-lodging",
   "metadata": {},
   "source": [
    "# 9. How do you make a function variable refer to the global variable?"
   ]
  },
  {
   "cell_type": "code",
   "execution_count": 10,
   "id": "hairy-thunder",
   "metadata": {},
   "outputs": [
    {
     "ename": "SyntaxError",
     "evalue": "invalid syntax (<ipython-input-10-18ad5694a7ed>, line 6)",
     "output_type": "error",
     "traceback": [
      "\u001b[1;36m  File \u001b[1;32m\"<ipython-input-10-18ad5694a7ed>\"\u001b[1;36m, line \u001b[1;32m6\u001b[0m\n\u001b[1;33m    credit : stack overflow\u001b[0m\n\u001b[1;37m                          ^\u001b[0m\n\u001b[1;31mSyntaxError\u001b[0m\u001b[1;31m:\u001b[0m invalid syntax\n"
     ]
    }
   ],
   "source": [
    "'''Python uses a simple heuristic to decide which scope it should load a variable from, \n",
    "between local and global. If a variable name appears on the left hand side of an assignment, \n",
    "but is not declared global, it is assumed to be local.\n",
    "If it does not appear on the left hand side of an assignment, it is assumed to be global'''\n",
    "\n",
    "credit : stack overflow"
   ]
  },
  {
   "cell_type": "code",
   "execution_count": 11,
   "id": "soviet-service",
   "metadata": {},
   "outputs": [
    {
     "name": "stdout",
     "output_type": "stream",
     "text": [
      "dane\n",
      "rushikesh \n"
     ]
    }
   ],
   "source": [
    "a = \"rushikesh \"\n",
    "def var():\n",
    "    a = \"dane\"\n",
    "    return(a )      # here a is gloabal and b is local variable\n",
    "print(var())\n",
    "\n",
    "print(a )             # we cannot use b outside the function"
   ]
  },
  {
   "cell_type": "code",
   "execution_count": 12,
   "id": "wanted-tuition",
   "metadata": {},
   "outputs": [
    {
     "name": "stdout",
     "output_type": "stream",
     "text": [
      "dane\n",
      "dane\n"
     ]
    }
   ],
   "source": [
    "a = \"rushikesh \"\n",
    "def var():\n",
    "    global a             # by using glabal keyword we can refer to gloabal variable\n",
    "    a = \"dane\"\n",
    "    return(a )\n",
    "                   # here a is gloabal and b is local variable\n",
    "print(var())\n",
    "\n",
    "print(a )             "
   ]
  },
  {
   "cell_type": "markdown",
   "id": "rural-governor",
   "metadata": {},
   "source": [
    "# 10. What is the data type of None?"
   ]
  },
  {
   "cell_type": "code",
   "execution_count": 13,
   "id": "regulation-entity",
   "metadata": {},
   "outputs": [
    {
     "data": {
      "text/plain": [
       "NoneType"
      ]
     },
     "execution_count": 13,
     "metadata": {},
     "output_type": "execute_result"
    }
   ],
   "source": [
    "x = None\n",
    "type(x)\n",
    "# data type of  None is NoneType it meand null value or no value at all"
   ]
  },
  {
   "cell_type": "markdown",
   "id": "about-afternoon",
   "metadata": {},
   "source": [
    "# 11. What does the sentence import areallyourpetsnamederic do?"
   ]
  },
  {
   "cell_type": "code",
   "execution_count": 14,
   "id": "inappropriate-haiti",
   "metadata": {},
   "outputs": [
    {
     "ename": "ModuleNotFoundError",
     "evalue": "No module named 'areallyourpetsnamederic'",
     "output_type": "error",
     "traceback": [
      "\u001b[1;31m---------------------------------------------------------------------------\u001b[0m",
      "\u001b[1;31mModuleNotFoundError\u001b[0m                       Traceback (most recent call last)",
      "\u001b[1;32m<ipython-input-14-12f29e64d640>\u001b[0m in \u001b[0;36m<module>\u001b[1;34m\u001b[0m\n\u001b[1;32m----> 1\u001b[1;33m \u001b[1;32mimport\u001b[0m \u001b[0mareallyourpetsnamederic\u001b[0m\u001b[1;33m\u001b[0m\u001b[1;33m\u001b[0m\u001b[0m\n\u001b[0m\u001b[0;32m      2\u001b[0m \u001b[1;33m\u001b[0m\u001b[0m\n\u001b[0;32m      3\u001b[0m \u001b[1;33m\u001b[0m\u001b[0m\n\u001b[0;32m      4\u001b[0m \u001b[1;33m\u001b[0m\u001b[0m\n\u001b[0;32m      5\u001b[0m \u001b[1;31m# I think it refer to automationg boring stuff with python\u001b[0m\u001b[1;33m\u001b[0m\u001b[1;33m\u001b[0m\u001b[1;33m\u001b[0m\u001b[0m\n",
      "\u001b[1;31mModuleNotFoundError\u001b[0m: No module named 'areallyourpetsnamederic'"
     ]
    }
   ],
   "source": [
    "import areallyourpetsnamederic\n",
    "\n",
    "\n",
    "\n",
    "# I think it refer to automationg boring stuff with python"
   ]
  },
  {
   "cell_type": "markdown",
   "id": "federal-virgin",
   "metadata": {},
   "source": [
    " there is no such a module "
   ]
  },
  {
   "cell_type": "markdown",
   "id": "satellite-aruba",
   "metadata": {},
   "source": [
    "# 12. If you had a bacon() feature in a spam module, what would you call it after importing spam?"
   ]
  },
  {
   "cell_type": "code",
   "execution_count": 15,
   "id": "aging-addiction",
   "metadata": {},
   "outputs": [
    {
     "name": "stdout",
     "output_type": "stream",
     "text": [
      "ham\n",
      "spam\n",
      "spam\n"
     ]
    }
   ],
   "source": [
    "spam = 0\n",
    "if spam == 10:\n",
    "    print('eggs')\n",
    "if spam > 5:\n",
    "    print('bacon')\n",
    "else:\n",
    "    print('ham')\n",
    "    print('spam')\n",
    "    print('spam')"
   ]
  },
  {
   "cell_type": "code",
   "execution_count": 16,
   "id": "aggregate-honduras",
   "metadata": {},
   "outputs": [
    {
     "name": "stdout",
     "output_type": "stream",
     "text": [
      "bacon\n"
     ]
    }
   ],
   "source": [
    "def spam(spam):\n",
    "    if spam == 10:\n",
    "        print('eggs')\n",
    "    if spam > 5:\n",
    "        print('bacon')\n",
    "    else:\n",
    "        print('ham')\n",
    "        print('spam')\n",
    "        print('spam') \n",
    "        \n",
    "spam(6)"
   ]
  },
  {
   "cell_type": "markdown",
   "id": "popular-dollar",
   "metadata": {},
   "source": [
    "# 13. What can you do to save a programme from crashing if it encounters an error?"
   ]
  },
  {
   "cell_type": "markdown",
   "id": "significant-newsletter",
   "metadata": {},
   "source": [
    "we can use try and except clause inside the function following is example refering to this"
   ]
  },
  {
   "cell_type": "markdown",
   "id": "threaded-label",
   "metadata": {},
   "source": [
    "# 14. What is the purpose of the try clause? What is the purpose of the except clause?"
   ]
  },
  {
   "cell_type": "code",
   "execution_count": 17,
   "id": "atlantic-apparel",
   "metadata": {},
   "outputs": [
    {
     "name": "stdout",
     "output_type": "stream",
     "text": [
      "it is false statement\n"
     ]
    }
   ],
   "source": [
    "a= 3\n",
    "try:\n",
    "    c\n",
    "except:\n",
    "    print(\"it is false statement\")"
   ]
  },
  {
   "cell_type": "markdown",
   "id": "basic-classroom",
   "metadata": {},
   "source": [
    "here c is not defined so try block raises the error then except will excute our print statement \n",
    "\n",
    "if try block is not applied here it will definately show error"
   ]
  },
  {
   "cell_type": "code",
   "execution_count": null,
   "id": "reliable-access",
   "metadata": {},
   "outputs": [],
   "source": []
  },
  {
   "cell_type": "code",
   "execution_count": null,
   "id": "gentle-withdrawal",
   "metadata": {},
   "outputs": [],
   "source": []
  }
 ],
 "metadata": {
  "kernelspec": {
   "display_name": "Python 3",
   "language": "python",
   "name": "python3"
  },
  "language_info": {
   "codemirror_mode": {
    "name": "ipython",
    "version": 3
   },
   "file_extension": ".py",
   "mimetype": "text/x-python",
   "name": "python",
   "nbconvert_exporter": "python",
   "pygments_lexer": "ipython3",
   "version": "3.7.9"
  }
 },
 "nbformat": 4,
 "nbformat_minor": 5
}
