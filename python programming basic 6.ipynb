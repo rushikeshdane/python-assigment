{
 "cells": [
  {
   "cell_type": "markdown",
   "id": "passive-nurse",
   "metadata": {},
   "source": [
    "# name : Rushikesh sanjay dane"
   ]
  },
  {
   "cell_type": "markdown",
   "id": "limited-mustang",
   "metadata": {},
   "source": [
    "# 1. Write a Python Program to Display Fibonacci Sequence Using Recursion?"
   ]
  },
  {
   "cell_type": "code",
   "execution_count": 1,
   "id": "considered-algebra",
   "metadata": {},
   "outputs": [],
   "source": [
    "from functools import lru_cache  # i am using this module and lru_cache inside this module\n",
    "\n"
   ]
  },
  {
   "cell_type": "markdown",
   "id": "light-packet",
   "metadata": {},
   "source": [
    "credit :https://www.geeksforgeeks.org/python-functools-lru_cache\n",
    "        \n",
    "lru_cache() is one such function in functools module which helps in reducing\n",
    " the execution time of the function by using memoization technique"
   ]
  },
  {
   "cell_type": "code",
   "execution_count": 2,
   "id": "coral-throw",
   "metadata": {},
   "outputs": [
    {
     "name": "stdout",
     "output_type": "stream",
     "text": [
      "1\n",
      "1\n",
      "2\n",
      "3\n",
      "5\n",
      "8\n",
      "13\n",
      "21\n",
      "34\n",
      "55\n",
      "89\n",
      "144\n",
      "233\n",
      "377\n",
      "610\n",
      "987\n",
      "1597\n",
      "2584\n",
      "4181\n",
      "6765\n",
      "10946\n",
      "17711\n",
      "28657\n",
      "46368\n",
      "75025\n",
      "121393\n",
      "196418\n",
      "317811\n",
      "514229\n",
      "832040\n",
      "1346269\n",
      "2178309\n",
      "3524578\n",
      "5702887\n",
      "9227465\n",
      "14930352\n",
      "24157817\n",
      "39088169\n",
      "63245986\n",
      "102334155\n",
      "165580141\n",
      "267914296\n",
      "433494437\n",
      "701408733\n",
      "1134903170\n",
      "1836311903\n",
      "2971215073\n",
      "4807526976\n",
      "7778742049\n",
      "12586269025\n",
      "20365011074\n",
      "32951280099\n",
      "53316291173\n",
      "86267571272\n",
      "139583862445\n",
      "225851433717\n",
      "365435296162\n",
      "591286729879\n",
      "956722026041\n",
      "1548008755920\n",
      "2504730781961\n",
      "4052739537881\n",
      "6557470319842\n",
      "10610209857723\n",
      "17167680177565\n",
      "27777890035288\n",
      "44945570212853\n",
      "72723460248141\n",
      "117669030460994\n",
      "190392490709135\n",
      "308061521170129\n",
      "498454011879264\n",
      "806515533049393\n",
      "1304969544928657\n",
      "2111485077978050\n",
      "3416454622906707\n",
      "5527939700884757\n",
      "8944394323791464\n",
      "14472334024676221\n",
      "23416728348467685\n",
      "37889062373143906\n",
      "61305790721611591\n",
      "99194853094755497\n",
      "160500643816367088\n",
      "259695496911122585\n",
      "420196140727489673\n",
      "679891637638612258\n",
      "1100087778366101931\n",
      "1779979416004714189\n",
      "2880067194370816120\n",
      "4660046610375530309\n",
      "7540113804746346429\n",
      "12200160415121876738\n",
      "19740274219868223167\n",
      "31940434634990099905\n",
      "51680708854858323072\n",
      "83621143489848422977\n",
      "135301852344706746049\n",
      "218922995834555169026\n"
     ]
    }
   ],
   "source": [
    "@lru_cache(maxsize = 1200)\n",
    "def fibonacci(n):\n",
    "    if n == 1 :\n",
    "        return 1\n",
    "    elif n == 2 :\n",
    "        return 1\n",
    "    elif n>2 :\n",
    "        return (fibonacci(n-1)+fibonacci(n-2))\n",
    "    \n",
    "for n in range (1,100):\n",
    "    print(fibonacci(n))\n",
    "    "
   ]
  },
  {
   "cell_type": "markdown",
   "id": "southeast-breakfast",
   "metadata": {},
   "source": [
    "# 2. Write a Python Program to Find Factorial of Number Using Recursion?"
   ]
  },
  {
   "cell_type": "code",
   "execution_count": 5,
   "id": "sonic-locking",
   "metadata": {},
   "outputs": [],
   "source": [
    "def factorial(n):\n",
    "    if n== 0:\n",
    "        return 1\n",
    "    return n* factorial(n-1)"
   ]
  },
  {
   "cell_type": "code",
   "execution_count": 6,
   "id": "loaded-sydney",
   "metadata": {},
   "outputs": [
    {
     "data": {
      "text/plain": [
       "6"
      ]
     },
     "execution_count": 6,
     "metadata": {},
     "output_type": "execute_result"
    }
   ],
   "source": [
    "factorial(3)"
   ]
  },
  {
   "cell_type": "markdown",
   "id": "silver-laugh",
   "metadata": {},
   "source": [
    "# 3. Write a Python Program to calculate your Body Mass Index?"
   ]
  },
  {
   "cell_type": "code",
   "execution_count": 10,
   "id": "amended-bridge",
   "metadata": {},
   "outputs": [
    {
     "name": "stdout",
     "output_type": "stream",
     "text": [
      "enter your height in cm180\n",
      "entr your weight 70\n",
      "0.0021604938271604936\n",
      "21.604938271604937\n"
     ]
    }
   ],
   "source": [
    "height = int(input(\"enter your height in cm\"))\n",
    "weight = int(input(\"entr your weight \"))\n",
    "\n",
    "a= (weight/(height**2)) \n",
    "BMI = a*10000                 # her i am doning decimal manipulation converiting cm in meter \n",
    "print(BMI) "
   ]
  },
  {
   "cell_type": "markdown",
   "id": "artificial-segment",
   "metadata": {},
   "source": [
    "# 4. Write a Python Program to calculate the natural logarithm of any number?"
   ]
  },
  {
   "cell_type": "code",
   "execution_count": 2,
   "id": "civic-trustee",
   "metadata": {},
   "outputs": [
    {
     "data": {
      "text/plain": [
       "5.84354441703136"
      ]
     },
     "execution_count": 2,
     "metadata": {},
     "output_type": "execute_result"
    }
   ],
   "source": [
    "# we are importing math module \n",
    "import math\n",
    "\n",
    "# using inbuilt log function inside the mathe module,it take two argument number and base defaulut value is loge \n",
    "math.log(345)"
   ]
  },
  {
   "cell_type": "code",
   "execution_count": 3,
   "id": "declared-imperial",
   "metadata": {},
   "outputs": [
    {
     "data": {
      "text/plain": [
       "2.537819095073274"
      ]
     },
     "execution_count": 3,
     "metadata": {},
     "output_type": "execute_result"
    }
   ],
   "source": [
    "math.log(345,10)"
   ]
  },
  {
   "cell_type": "code",
   "execution_count": null,
   "id": "intimate-position",
   "metadata": {},
   "outputs": [],
   "source": [
    "\n",
    "\n"
   ]
  },
  {
   "cell_type": "markdown",
   "id": "numeric-excerpt",
   "metadata": {},
   "source": [
    "# 5. Write a Python Program for cube sum of first n natural numbers?"
   ]
  },
  {
   "cell_type": "code",
   "execution_count": 16,
   "id": "collaborative-wound",
   "metadata": {},
   "outputs": [
    {
     "name": "stdout",
     "output_type": "stream",
     "text": [
      "enter number23\n",
      "76176\n"
     ]
    }
   ],
   "source": [
    "n =int(input('enter number'))\n",
    "\n",
    "if n<= 0 :\n",
    "    print(\"it is not natural nunber\")\n",
    "else:\n",
    "    a=n*(n+1)/2# this is formula to find sum of natural no\n",
    "    a= a**2    # taking cube root of given answer\n",
    "    print(int(a))"
   ]
  },
  {
   "cell_type": "code",
   "execution_count": 29,
   "id": "certain-mitchell",
   "metadata": {},
   "outputs": [
    {
     "name": "stdout",
     "output_type": "stream",
     "text": [
      "enter number4\n",
      "100\n"
     ]
    }
   ],
   "source": [
    "c =int(input('enter number'))\n",
    "def abc(c):\n",
    "    tem = 0\n",
    "    for i in range(1,c+1):\n",
    "        tem = tem + i*i*i\n",
    "    print(tem)\n",
    "        \n",
    "abc(n)"
   ]
  },
  {
   "cell_type": "code",
   "execution_count": null,
   "id": "arctic-danish",
   "metadata": {},
   "outputs": [],
   "source": []
  }
 ],
 "metadata": {
  "kernelspec": {
   "display_name": "Python 3",
   "language": "python",
   "name": "python3"
  },
  "language_info": {
   "codemirror_mode": {
    "name": "ipython",
    "version": 3
   },
   "file_extension": ".py",
   "mimetype": "text/x-python",
   "name": "python",
   "nbconvert_exporter": "python",
   "pygments_lexer": "ipython3",
   "version": "3.7.9"
  }
 },
 "nbformat": 4,
 "nbformat_minor": 5
}
