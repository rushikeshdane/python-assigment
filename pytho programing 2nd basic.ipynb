{
 "cells": [
  {
   "cell_type": "markdown",
   "id": "tracked-bhutan",
   "metadata": {},
   "source": [
    "# name = rushikesh dane"
   ]
  },
  {
   "cell_type": "markdown",
   "id": "breathing-draft",
   "metadata": {},
   "source": [
    "# 1. Write a Python program to convert kilometers to miles?"
   ]
  },
  {
   "cell_type": "code",
   "execution_count": 22,
   "id": "alert-toilet",
   "metadata": {},
   "outputs": [
    {
     "name": "stdout",
     "output_type": "stream",
     "text": [
      "Enter the value in kilometers: 9\n",
      "5.592339\n"
     ]
    }
   ],
   "source": [
    "km = float(input(\"Enter the value in kilometers: \"))\n",
    "conversion = 0.621371\n",
    "\n",
    "miles = km * conversion\n",
    "print(miles)"
   ]
  },
  {
   "cell_type": "markdown",
   "id": "quality-sight",
   "metadata": {},
   "source": [
    "# 2. Write a Python program to convert Celsius to Fahrenheit?\n"
   ]
  },
  {
   "cell_type": "code",
   "execution_count": null,
   "id": "diverse-observation",
   "metadata": {},
   "outputs": [],
   "source": [
    "celsius = float(input(\"Enter the value in cesius: \"))\n",
    "conversion = 1.8 \n",
    "add = 32\n",
    "Fahrenheit = celsius * conversion + 32\n",
    "print(Fahrenheit)"
   ]
  },
  {
   "cell_type": "markdown",
   "id": "fabulous-thinking",
   "metadata": {},
   "source": [
    "# 3. Write a Python program to display calendar?\n"
   ]
  },
  {
   "cell_type": "code",
   "execution_count": null,
   "id": "billion-attraction",
   "metadata": {},
   "outputs": [],
   "source": [
    "import calendar\n",
    "\n",
    "yy = 2021  # year\n",
    "mm = 3   # month\n",
    "print(calendar.month(yy, mm))"
   ]
  },
  {
   "cell_type": "code",
   "execution_count": null,
   "id": "alpha-birth",
   "metadata": {},
   "outputs": [],
   "source": []
  },
  {
   "cell_type": "markdown",
   "id": "similar-drama",
   "metadata": {},
   "source": [
    "# 4. Write a Python program to solve quadratic equation?\n"
   ]
  },
  {
   "cell_type": "code",
   "execution_count": null,
   "id": "accomplished-celebration",
   "metadata": {},
   "outputs": [],
   "source": [
    "# import complex math module  \n",
    "import cmath  \n",
    "a = float(input('Enter a: '))  \n",
    "b = float(input('Enter b: '))  \n",
    "c = float(input('Enter c: '))  \n",
    "  \n",
    "# calculate the discriminant  4. Write a Python program to solve quadratic equation?\n",
    "\n",
    "d = (b**2) - (4*a*c)    \n",
    "  \n",
    "# find two solutions  \n",
    "sol1 = (-b-cmath.sqrt(d))/(2*a)  \n",
    "sol2 = (-b+cmath.sqrt(d))/(2*a)  \n",
    "print(sol1)\n",
    "print(sol2)"
   ]
  },
  {
   "cell_type": "markdown",
   "id": "private-scheduling",
   "metadata": {},
   "source": [
    "# 5. Write a Python program to swap two variables without temp variable?"
   ]
  },
  {
   "cell_type": "code",
   "execution_count": null,
   "id": "multiple-approach",
   "metadata": {},
   "outputs": [],
   "source": [
    "a = 78\n",
    "b = 1000\n",
    "\n",
    "a, b = b, a\n",
    "print(\"a =\", a)\n",
    "print(\"b =\", b)"
   ]
  },
  {
   "cell_type": "code",
   "execution_count": null,
   "id": "dirty-surface",
   "metadata": {},
   "outputs": [],
   "source": []
  }
 ],
 "metadata": {
  "kernelspec": {
   "display_name": "Python 3",
   "language": "python",
   "name": "python3"
  },
  "language_info": {
   "codemirror_mode": {
    "name": "ipython",
    "version": 3
   },
   "file_extension": ".py",
   "mimetype": "text/x-python",
   "name": "python",
   "nbconvert_exporter": "python",
   "pygments_lexer": "ipython3",
   "version": "3.7.9"
  }
 },
 "nbformat": 4,
 "nbformat_minor": 5
}
