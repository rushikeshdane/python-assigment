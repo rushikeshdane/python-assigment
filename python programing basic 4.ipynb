{
 "cells": [
  {
   "cell_type": "markdown",
   "id": "fitting-suspect",
   "metadata": {},
   "source": [
    "# name = Rushikesh dane"
   ]
  },
  {
   "cell_type": "markdown",
   "id": "exclusive-mitchell",
   "metadata": {},
   "source": [
    "# 1. Write a Python Program to Find the Factorial of a Number?"
   ]
  },
  {
   "cell_type": "code",
   "execution_count": 2,
   "id": "cheap-shape",
   "metadata": {},
   "outputs": [
    {
     "name": "stdout",
     "output_type": "stream",
     "text": [
      "type anu number0\n",
      "factorial is 1\n"
     ]
    }
   ],
   "source": [
    "n = int(input(\"type any number :\"))\n",
    "\n",
    "fact = 1\n",
    "if n < 0 :\n",
    "       print(\"factorial does not exist\")\n",
    "elif n == 0 :\n",
    "     print(\"factorial is 1\")\n",
    "else:\n",
    "\n",
    "    for i in range (1,n+1):\n",
    "        fact = fact * i\n",
    "\n",
    "    print( fact )"
   ]
  },
  {
   "cell_type": "markdown",
   "id": "compliant-minnesota",
   "metadata": {},
   "source": [
    "# 2. Write a Python Program to Display the multiplication Table?"
   ]
  },
  {
   "cell_type": "code",
   "execution_count": 10,
   "id": "sorted-department",
   "metadata": {},
   "outputs": [
    {
     "name": "stdout",
     "output_type": "stream",
     "text": [
      "enter number7\n",
      "7\n",
      "14\n",
      "21\n",
      "28\n",
      "35\n",
      "42\n",
      "49\n",
      "56\n",
      "63\n",
      "70\n"
     ]
    }
   ],
   "source": [
    "p = int(input(\"enter number\"))\n",
    "\n",
    "for i in range ( 1,11):\n",
    "    n  = p * i\n",
    "    print(n)"
   ]
  },
  {
   "cell_type": "code",
   "execution_count": 12,
   "id": "restricted-firewall",
   "metadata": {},
   "outputs": [
    {
     "name": "stdout",
     "output_type": "stream",
     "text": [
      "1\n",
      "2\n",
      "3\n",
      "4\n",
      "5\n",
      "6\n",
      "7\n",
      "8\n",
      "9\n",
      "10\n",
      "2\n",
      "4\n",
      "6\n",
      "8\n",
      "10\n",
      "12\n",
      "14\n",
      "16\n",
      "18\n",
      "20\n",
      "3\n",
      "6\n",
      "9\n",
      "12\n",
      "15\n",
      "18\n",
      "21\n",
      "24\n",
      "27\n",
      "30\n",
      "4\n",
      "8\n",
      "12\n",
      "16\n",
      "20\n",
      "24\n",
      "28\n",
      "32\n",
      "36\n",
      "40\n",
      "5\n",
      "10\n",
      "15\n",
      "20\n",
      "25\n",
      "30\n",
      "35\n",
      "40\n",
      "45\n",
      "50\n",
      "6\n",
      "12\n",
      "18\n",
      "24\n",
      "30\n",
      "36\n",
      "42\n",
      "48\n",
      "54\n",
      "60\n",
      "7\n",
      "14\n",
      "21\n",
      "28\n",
      "35\n",
      "42\n",
      "49\n",
      "56\n",
      "63\n",
      "70\n",
      "8\n",
      "16\n",
      "24\n",
      "32\n",
      "40\n",
      "48\n",
      "56\n",
      "64\n",
      "72\n",
      "80\n",
      "9\n",
      "18\n",
      "27\n",
      "36\n",
      "45\n",
      "54\n",
      "63\n",
      "72\n",
      "81\n",
      "90\n",
      "10\n",
      "20\n",
      "30\n",
      "40\n",
      "50\n",
      "60\n",
      "70\n",
      "80\n",
      "90\n",
      "100\n"
     ]
    }
   ],
   "source": [
    "#  we are printing 1 to 10 multiplication table\n",
    "for i in range(1,11):\n",
    "    for j in range(1,11):\n",
    "        c= i * j\n",
    "        print(c)"
   ]
  },
  {
   "cell_type": "markdown",
   "id": "chemical-suggestion",
   "metadata": {},
   "source": [
    "# 3. Write a Python Program to Print the Fibonacci sequence?"
   ]
  },
  {
   "cell_type": "code",
   "execution_count": 19,
   "id": "devoted-interface",
   "metadata": {},
   "outputs": [
    {
     "name": "stdout",
     "output_type": "stream",
     "text": [
      "enter number for sequence3\n",
      "0\n",
      "1\n",
      "1\n",
      "2\n"
     ]
    }
   ],
   "source": [
    "fabonachi_no = int(input(\"enter number for sequence\"))\n",
    "p=0\n",
    "q=1\n",
    "print(p)\n",
    "print(q)\n",
    "for i in range(1,fabonachi_no):\n",
    "            p,q = q,p+q\n",
    "\n",
    "            print(q)"
   ]
  },
  {
   "cell_type": "markdown",
   "id": "bibliographic-problem",
   "metadata": {},
   "source": [
    "# 4. Write a Python Program to Check Armstrong Number?"
   ]
  },
  {
   "cell_type": "code",
   "execution_count": 4,
   "id": "handy-collaboration",
   "metadata": {},
   "outputs": [
    {
     "name": "stdout",
     "output_type": "stream",
     "text": [
      "enter number 23124\n",
      "it is not Armstrong number\n"
     ]
    }
   ],
   "source": [
    "n = int(input(\"enter number \"))\n",
    "p = n\n",
    "order = len(str(n))\n",
    "a= 0\n",
    "\n",
    "while n>0 :\n",
    "    var = n%10            # it gives remainder of n\n",
    "    a = a + var**order      # taking cube according to order\n",
    "    n = n// 10\n",
    "    \n",
    "if a==p :                              # checkin with original n \n",
    "    print(\"it is Armstrong Number\")\n",
    "else:\n",
    "    print(\"it is not Armstrong number\")"
   ]
  },
  {
   "cell_type": "markdown",
   "id": "clinical-jacob",
   "metadata": {},
   "source": [
    "# 5. Write a Python Program to Find Armstrong Number in an Interval?"
   ]
  },
  {
   "cell_type": "code",
   "execution_count": 13,
   "id": "diverse-machinery",
   "metadata": {},
   "outputs": [
    {
     "name": "stdout",
     "output_type": "stream",
     "text": [
      "enter higer bound of interval10000\n",
      "enter lower bound of interva1000\n",
      "1634\n",
      "8208\n",
      "9474\n"
     ]
    }
   ],
   "source": [
    "# running same code inside the for loop \n",
    "\n",
    "higher_int = int(input(\"enter higer bound of interval\"))\n",
    "lower_int = int(input(\"enter lower bound of interva\"))\n",
    "\n",
    "for n in range(lower_int,higher_int):\n",
    "    p = n\n",
    "    order = len(str(n))\n",
    "    a= 0\n",
    "    while n>0 :\n",
    "        var = n%10            # it gives remainder of n\n",
    "        a = a + var**order      # taking cube according to order\n",
    "        n = n// 10\n",
    "    \n",
    "    if a==p :\n",
    "        print(a)\n"
   ]
  },
  {
   "cell_type": "markdown",
   "id": "beginning-style",
   "metadata": {},
   "source": [
    "# 6. Write a Python Program to Find the Sum of Natural Numbers?"
   ]
  },
  {
   "cell_type": "code",
   "execution_count": 24,
   "id": "connected-touch",
   "metadata": {},
   "outputs": [
    {
     "name": "stdout",
     "output_type": "stream",
     "text": [
      "enter number434\n",
      "94395\n"
     ]
    }
   ],
   "source": [
    "n =int(input('enter number'))\n",
    "\n",
    "if n<= 0 :\n",
    "    print(\"it is not natural nunber\")\n",
    "else:\n",
    "    a=n*(n+1)/2            # this is formula to find sum of natural no \n",
    "    print(int(a))"
   ]
  },
  {
   "cell_type": "code",
   "execution_count": null,
   "id": "mobile-gnome",
   "metadata": {},
   "outputs": [],
   "source": []
  }
 ],
 "metadata": {
  "kernelspec": {
   "display_name": "Python 3",
   "language": "python",
   "name": "python3"
  },
  "language_info": {
   "codemirror_mode": {
    "name": "ipython",
    "version": 3
   },
   "file_extension": ".py",
   "mimetype": "text/x-python",
   "name": "python",
   "nbconvert_exporter": "python",
   "pygments_lexer": "ipython3",
   "version": "3.7.9"
  }
 },
 "nbformat": 4,
 "nbformat_minor": 5
}
