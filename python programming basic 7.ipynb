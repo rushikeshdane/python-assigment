{
 "cells": [
  {
   "cell_type": "markdown",
   "id": "mounted-cotton",
   "metadata": {},
   "source": [
    "# name : Rushikesh sanjay dane "
   ]
  },
  {
   "cell_type": "markdown",
   "id": "seventh-italian",
   "metadata": {},
   "source": [
    "# 1. Write a Python Program to find sum of array?"
   ]
  },
  {
   "cell_type": "code",
   "execution_count": 4,
   "id": "administrative-cookbook",
   "metadata": {},
   "outputs": [],
   "source": [
    "import array as arr\n"
   ]
  },
  {
   "cell_type": "code",
   "execution_count": 5,
   "id": "enabling-resolution",
   "metadata": {},
   "outputs": [
    {
     "data": {
      "text/plain": [
       "array('i', [9, 7, 5, 4, 2])"
      ]
     },
     "execution_count": 5,
     "metadata": {},
     "output_type": "execute_result"
    }
   ],
   "source": [
    "A = arr.array(\"i\",[9,7,5,4,2])\n",
    "A"
   ]
  },
  {
   "cell_type": "code",
   "execution_count": null,
   "id": "young-sequence",
   "metadata": {},
   "outputs": [],
   "source": [
    "def array_sum(array):\n",
    "    count= 0\n",
    "    for i in array :\n",
    "        count = count+i\n",
    "    print(count)"
   ]
  },
  {
   "cell_type": "code",
   "execution_count": null,
   "id": "infectious-bankruptcy",
   "metadata": {},
   "outputs": [],
   "source": [
    "array_sum(A)"
   ]
  },
  {
   "cell_type": "markdown",
   "id": "competent-enforcement",
   "metadata": {},
   "source": [
    "# 2. Write a Python Program to find largest element in an array?"
   ]
  },
  {
   "cell_type": "code",
   "execution_count": 5,
   "id": "regulation-chess",
   "metadata": {},
   "outputs": [],
   "source": [
    "def array_max(array):\n",
    "    return max(array)"
   ]
  },
  {
   "cell_type": "code",
   "execution_count": 6,
   "id": "educational-premium",
   "metadata": {},
   "outputs": [
    {
     "data": {
      "text/plain": [
       "9"
      ]
     },
     "execution_count": 6,
     "metadata": {},
     "output_type": "execute_result"
    }
   ],
   "source": [
    "array_max(A)"
   ]
  },
  {
   "cell_type": "markdown",
   "id": "insured-tunisia",
   "metadata": {},
   "source": [
    "# 3. Write a Python Program for array rotation?"
   ]
  },
  {
   "cell_type": "code",
   "execution_count": 41,
   "id": "unable-discount",
   "metadata": {},
   "outputs": [],
   "source": [
    "def rotate(A,n,d):\n",
    "    c = []\n",
    "    b = A[(n+d)%n: ]+A[0:(n+d)%n]\n",
    "    c.append(b)\n",
    "    return c"
   ]
  },
  {
   "cell_type": "code",
   "execution_count": 42,
   "id": "greater-assessment",
   "metadata": {},
   "outputs": [
    {
     "name": "stdout",
     "output_type": "stream",
     "text": [
      "enter no. of rotation you want: 4\n"
     ]
    },
    {
     "data": {
      "text/plain": [
       "[array('i', [2, 9, 7, 5, 4])]"
      ]
     },
     "execution_count": 42,
     "metadata": {},
     "output_type": "execute_result"
    }
   ],
   "source": [
    "n = len(A)\n",
    "d = int(input(\"enter no. of rotation you want: \"))\n",
    "\n",
    "\n",
    "rotate(A,n,d)"
   ]
  },
  {
   "cell_type": "code",
   "execution_count": 10,
   "id": "polyphonic-vampire",
   "metadata": {},
   "outputs": [
    {
     "name": "stdout",
     "output_type": "stream",
     "text": [
      "27\n"
     ]
    }
   ],
   "source": [
    "array_sum(A)"
   ]
  },
  {
   "cell_type": "code",
   "execution_count": 10,
   "id": "noble-chemical",
   "metadata": {},
   "outputs": [],
   "source": [
    "A = arr.array(\"i\", [3,2,4,1])"
   ]
  },
  {
   "cell_type": "code",
   "execution_count": 11,
   "id": "modular-graham",
   "metadata": {},
   "outputs": [
    {
     "data": {
      "text/plain": [
       "array.array"
      ]
     },
     "execution_count": 11,
     "metadata": {},
     "output_type": "execute_result"
    }
   ],
   "source": [
    "type(A)"
   ]
  },
  {
   "cell_type": "markdown",
   "id": "international-secretary",
   "metadata": {},
   "source": [
    "# 4. Write a Python Program to Split the array and add the first part to the end?"
   ]
  },
  {
   "cell_type": "code",
   "execution_count": null,
   "id": "flying-framing",
   "metadata": {},
   "outputs": [],
   "source": []
  },
  {
   "cell_type": "code",
   "execution_count": 8,
   "id": "technological-shuttle",
   "metadata": {},
   "outputs": [
    {
     "data": {
      "text/plain": [
       "array('f', [2.299999952316284, 4.199999809265137, 6.340000152587891, 44.439998626708984])"
      ]
     },
     "execution_count": 8,
     "metadata": {},
     "output_type": "execute_result"
    }
   ],
   "source": [
    "B = arr.array(\"f\", [2.3 , 4.2 , 6.34 , 44.44])\n",
    "B"
   ]
  },
  {
   "cell_type": "code",
   "execution_count": 14,
   "id": "national-tender",
   "metadata": {},
   "outputs": [
    {
     "data": {
      "text/plain": [
       "4"
      ]
     },
     "execution_count": 14,
     "metadata": {},
     "output_type": "execute_result"
    }
   ],
   "source": [
    "n= len(B)\n",
    "n"
   ]
  },
  {
   "cell_type": "code",
   "execution_count": 12,
   "id": "banned-ideal",
   "metadata": {},
   "outputs": [
    {
     "name": "stdout",
     "output_type": "stream",
     "text": [
      "4.199999809265137  2.299999952316284  44.439998626708984  44.439998626708984  "
     ]
    }
   ],
   "source": [
    "for i in range(0,1):\n",
    "    place_holder = B[0]\n",
    "    for j in range(0,n-1):\n",
    "        B[j] = B[j+1]\n",
    "    B[j-1] = place_holder\n",
    "    \n",
    "for i in range(0,n):\n",
    "    print(B[i],end=\"  \")"
   ]
  },
  {
   "cell_type": "markdown",
   "id": "accomplished-mentor",
   "metadata": {},
   "source": [
    "# 5. Write a Python Program to check if given array is Monotonic?"
   ]
  },
  {
   "cell_type": "code",
   "execution_count": 25,
   "id": "genetic-realtor",
   "metadata": {},
   "outputs": [],
   "source": [
    "def monotonic1(array):\n",
    "    for i in range(1,len(array)):\n",
    "    \n",
    "        incresing = True\n",
    "        decresing = True\n",
    "        if array[i] < array[i-1]:\n",
    "            incresing = False\n",
    "\n",
    "        \n",
    "        if array[i] > array[i-1]:\n",
    "            decresing = False\n",
    "            \n",
    "    return incresing or decresing"
   ]
  },
  {
   "cell_type": "code",
   "execution_count": 26,
   "id": "respective-intermediate",
   "metadata": {},
   "outputs": [
    {
     "data": {
      "text/plain": [
       "True"
      ]
     },
     "execution_count": 26,
     "metadata": {},
     "output_type": "execute_result"
    }
   ],
   "source": [
    "monotonic1(A)"
   ]
  },
  {
   "cell_type": "markdown",
   "id": "sealed-margin",
   "metadata": {},
   "source": [
    "or"
   ]
  },
  {
   "cell_type": "code",
   "execution_count": 30,
   "id": "nonprofit-monster",
   "metadata": {},
   "outputs": [],
   "source": [
    "def monotonic(A):\n",
    "    for i in range(len(A)-1):\n",
    "        if (A[i] < A[i-1] or A[i] > A[i-1]):\n",
    "            print(\"it is not monotonic\")\n",
    "    else:      \n",
    "        print(\"given array is montonic\")"
   ]
  },
  {
   "cell_type": "code",
   "execution_count": 31,
   "id": "excellent-uganda",
   "metadata": {},
   "outputs": [
    {
     "name": "stdout",
     "output_type": "stream",
     "text": [
      "it is not monotonic\n",
      "it is not monotonic\n",
      "it is not monotonic\n",
      "given array is montonic\n"
     ]
    }
   ],
   "source": [
    "c= [4,5,2,1]\n",
    "monotonic(c)"
   ]
  },
  {
   "cell_type": "code",
   "execution_count": null,
   "id": "confirmed-ambassador",
   "metadata": {},
   "outputs": [],
   "source": []
  }
 ],
 "metadata": {
  "kernelspec": {
   "display_name": "Python 3",
   "language": "python",
   "name": "python3"
  },
  "language_info": {
   "codemirror_mode": {
    "name": "ipython",
    "version": 3
   },
   "file_extension": ".py",
   "mimetype": "text/x-python",
   "name": "python",
   "nbconvert_exporter": "python",
   "pygments_lexer": "ipython3",
   "version": "3.7.9"
  }
 },
 "nbformat": 4,
 "nbformat_minor": 5
}
