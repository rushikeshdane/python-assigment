{
 "cells": [
  {
   "cell_type": "markdown",
   "metadata": {},
   "source": [
    "# name : rushikesh dane "
   ]
  },
  {
   "cell_type": "raw",
   "metadata": {},
   "source": [
    "1. Write a function that takes a list of lists and returns the value of all of the\n",
    "symbols in it, where each symbol adds or takes something from the total\n",
    "\n",
    "score. Symbol values:\n",
    "    \n",
    "# = 5\n",
    "O = 3\n",
    "\n",
    "X = 1\n",
    "\n",
    "! = -1\n",
    "\n",
    "!! = -3\n",
    "\n",
    "!!! = -5\n",
    "\n",
    "A list of lists containing 2 #s, a O, and a !!! would equal (0 + 5 + 5 + 3 - 5) 8.\n",
    "If the final score is negative, return 0 (e.g. 3 #s, 3 !!s, 2 !!!s and a X would be\n",
    "(0 + 5 + 5 + 5 - 3 - 3 - 3 - 5 - 5 + 1) -3, so return 0."
   ]
  },
  {
   "cell_type": "markdown",
   "metadata": {},
   "source": [
    "Examples\n",
    "\n",
    "check_score\n",
    "([    \n",
    "[&quot;#&quot;, &quot;!&quot;],\n",
    "[&quot;!!&quot;, &quot;X&quot;]\n",
    "]) \n",
    "\n",
    "➞ 2\n",
    "    \n",
    "check_score([\n",
    "[&quot;!!!&quot;, &quot;O&quot;, &quot;!&quot;],\n",
    "[&quot;X&quot;, &quot;#&quot;, &quot;!!!&quot;],\n",
    "[&quot;!!&quot;, &quot;X&quot;, &quot;O&quot;]\n",
    "]) \n",
    "➞ 0"
   ]
  },
  {
   "cell_type": "code",
   "execution_count": 1,
   "metadata": {},
   "outputs": [
    {
     "data": {
      "text/plain": [
       "'l =[[\"#\", \"!\"], [\"!!\", \"X\"] ]\\np = []\\nfor i in l:\\n    for j in i:\\n        print(j)\\n        p.append(j)\\np\\n\\nq = []\\n\\nfor i in p :\\n    if i == \\'#\\' :\\n        q.append(5)\\n    elif i == \\'O\\':\\n        q.append(3)\\n    elif i == \\'X\\':\\n        q.append(1)\\n    elif i == \\'!\\':\\n        q.append(-1)\\n    elif i == \\'!!\\':\\n        q.append(-3)\\n    elif i == \\'!!!\\':\\n        q.append(-5)\\nprint(q)\\n\\n#count= 0\\n#for i in q:\\n #   count += i\\n#print(count)\\nprint(sum(q))\\n\\nof '"
      ]
     },
     "execution_count": 1,
     "metadata": {},
     "output_type": "execute_result"
    }
   ],
   "source": [
    "\"\"\"l =[[\"#\", \"!\"], [\"!!\", \"X\"] ]\n",
    "p = []\n",
    "for i in l:\n",
    "    for j in i:\n",
    "        print(j)\n",
    "        p.append(j)\n",
    "p\n",
    "\n",
    "q = []\n",
    "\n",
    "for i in p :\n",
    "    if i == '#' :\n",
    "        q.append(5)\n",
    "    elif i == 'O':\n",
    "        q.append(3)\n",
    "    elif i == 'X':\n",
    "        q.append(1)\n",
    "    elif i == '!':\n",
    "        q.append(-1)\n",
    "    elif i == '!!':\n",
    "        q.append(-3)\n",
    "    elif i == '!!!':\n",
    "        q.append(-5)\n",
    "print(q)\n",
    "\n",
    "#count= 0\n",
    "#for i in q:\n",
    " #   count += i\n",
    "#print(count)\n",
    "print(sum(q))\n",
    "\n",
    "of \"\"\"\n",
    "    "
   ]
  },
  {
   "cell_type": "code",
   "execution_count": 2,
   "metadata": {},
   "outputs": [],
   "source": [
    "def check_score(l):\n",
    "    \n",
    "    p = []\n",
    "    for i in l:\n",
    "        for j in i:\n",
    "            #print(j)\n",
    "            p.append(j)\n",
    "    #p\n",
    "\n",
    "    q = []\n",
    "\n",
    "    for i in p :\n",
    "        if i == '#' :\n",
    "            q.append(5)\n",
    "        elif i == 'O':\n",
    "            q.append(3)\n",
    "        elif i == 'X':\n",
    "            q.append(1)\n",
    "        elif i == '!':\n",
    "            q.append(-1)\n",
    "        elif i == '!!':\n",
    "            q.append(-3)\n",
    "        elif i == '!!!':\n",
    "            q.append(-5)\n",
    "    print(q)\n",
    "\n",
    "#count= 0\n",
    "#for i in q:\n",
    " #   count += i\n",
    "#print(count)\n",
    "    #print(sum(q))\n",
    "    \n",
    "    if sum(q) < 0 :\n",
    "        return 0\n",
    "    else :\n",
    "        return sum(q)\n"
   ]
  },
  {
   "cell_type": "code",
   "execution_count": 3,
   "metadata": {},
   "outputs": [
    {
     "name": "stdout",
     "output_type": "stream",
     "text": [
      "[5, 5, 5, -3, -3, -3, -5, -5, 1]\n"
     ]
    },
    {
     "data": {
      "text/plain": [
       "0"
      ]
     },
     "execution_count": 3,
     "metadata": {},
     "output_type": "execute_result"
    }
   ],
   "source": [
    "check_score([ [\"#\", \"#\", \"#\"], [\"!!\", \"!!\", \"!!\"], [\"!!!\", \"!!!\"] ,['X']])"
   ]
  },
  {
   "cell_type": "markdown",
   "metadata": {},
   "source": [
    "2. Create a function that takes a variable number of arguments, each\n",
    "argument representing the number of items in a group, and returns the\n",
    "number of permutations (combinations) of items that you could get by taking\n",
    "one item from each group.\n",
    "\n",
    "Examples\n",
    "\n",
    "combinations(2, 3) ➞ 6\n",
    "combinations(3, 7, 4) ➞ 84\n",
    "combinations(2, 3, 4, 5) ➞ 120"
   ]
  },
  {
   "cell_type": "code",
   "execution_count": 4,
   "metadata": {},
   "outputs": [],
   "source": [
    "import math\n",
    "def combinations(*args):\n",
    "    return math.prod(args)\n",
    "    "
   ]
  },
  {
   "cell_type": "code",
   "execution_count": 5,
   "metadata": {},
   "outputs": [
    {
     "data": {
      "text/plain": [
       "84"
      ]
     },
     "execution_count": 5,
     "metadata": {},
     "output_type": "execute_result"
    }
   ],
   "source": [
    "combinations(3,7,4)"
   ]
  },
  {
   "cell_type": "markdown",
   "metadata": {},
   "source": [
    "3. Create a function that takes a string as an argument and returns the Morse\n",
    "code equivalent.\n",
    "\n",
    "Examples\n",
    "\n",
    "encode_morse(&quot;EDABBIT CHALLENGE&quot;) ➞ &quot;. -.. .- -... -... .. - -.-. .... .- .-.. .-..\n",
    ". -. --. .&quot;\n",
    "\n",
    "encode_morse(&quot;HELP ME !&quot;) ➞ &quot;.... . .-.. .--. -- . -.-.--&quot;\n",
    "\n",
    "This dictionary can be used for coding:\n",
    "char_to_dots = {\n",
    "&#39;A&#39;: &#39;.-&#39;, &#39;B&#39;: &#39;-...&#39;, &#39;C&#39;: &#39;-.-.&#39;, &#39;D&#39;: &#39;-..&#39;, &#39;E&#39;: &#39;.&#39;, &#39;F&#39;: &#39;..-.&#39;,\n",
    "&#39;G&#39;: &#39;--.&#39;, &#39;H&#39;: &#39;....&#39;, &#39;I&#39;: &#39;..&#39;, &#39;J&#39;: &#39;.---&#39;, &#39;K&#39;: &#39;-.-&#39;, &#39;L&#39;: &#39;.-..&#39;,\n",
    "&#39;M&#39;: &#39;--&#39;, &#39;N&#39;: &#39;-.&#39;, &#39;O&#39;: &#39;---&#39;, &#39;P&#39;: &#39;.--.&#39;, &#39;Q&#39;: &#39;--.-&#39;, &#39;R&#39;: &#39;.-.&#39;,\n",
    "&#39;S&#39;: &#39;...&#39;, &#39;T&#39;: &#39;-&#39;, &#39;U&#39;: &#39;..-&#39;, &#39;V&#39;: &#39;...-&#39;, &#39;W&#39;: &#39;.--&#39;, &#39;X&#39;: &#39;-..-&#39;,\n",
    "&#39;Y&#39;: &#39;-.--&#39;, &#39;Z&#39;: &#39;--..&#39;, &#39; &#39;: &#39; &#39;, &#39;0&#39;: &#39;-----&#39;,\n",
    "&#39;1&#39;: &#39;.----&#39;, &#39;2&#39;: &#39;..---&#39;, &#39;3&#39;: &#39;...--&#39;, &#39;4&#39;: &#39;....-&#39;, &#39;5&#39;: &#39;.....&#39;,\n",
    "&#39;6&#39;: &#39;-....&#39;, &#39;7&#39;: &#39;--...&#39;, &#39;8&#39;: &#39;---..&#39;, &#39;9&#39;: &#39;----.&#39;,\n",
    "&#39;&amp;&#39;: &#39;.-...&#39;, &quot;&#39;&quot;: &#39;.----.&#39;, &#39;@&#39;: &#39;.--.-.&#39;, &#39;)&#39;: &#39;-.--.-&#39;, &#39;(&#39;: &#39;-.--.&#39;,\n",
    "&#39;:&#39;: &#39;---...&#39;, &#39;,&#39;: &#39;--..--&#39;, &#39;=&#39;: &#39;-...-&#39;, &#39;!&#39;: &#39;-.-.--&#39;, &#39;.&#39;: &#39;.-.-.-&#39;,\n",
    "&#39;-&#39;: &#39;-....-&#39;, &#39;+&#39;: &#39;.-.-.&#39;, &#39;&quot;&#39;: &#39;.-..-.&#39;, &#39;?&#39;: &#39;..--..&#39;, &#39;/&#39;: &#39;-..-.&#39;\n",
    "}"
   ]
  },
  {
   "cell_type": "code",
   "execution_count": 6,
   "metadata": {},
   "outputs": [
    {
     "name": "stdout",
     "output_type": "stream",
     "text": [
      ".-...--...-.....- -.-......-.-...-...-.--.."
     ]
    }
   ],
   "source": [
    "string =\"EDABBIT CHALLENGE\"\n",
    "\n",
    "char_to_dots = { 'A': '.-', 'B': '-...', 'C': '-.-.', 'D': '-..', 'E': '.', 'F': '..-.', 'G': '--.', 'H': '....'\n",
    "                , 'I': '..', 'J': '.---', 'K': '-.-', 'L': '.-..', 'M': '--', 'N': '-.', 'O': '---', 'P': '.--.'\n",
    "                , 'Q': '--.-', 'R': '.-.', 'S': '...', 'T': '-', 'U': '..-', 'V': '...-', 'W': '.--', 'X': '-..-'\n",
    "                , 'Y': '-.--', 'Z': '--..', ' ': ' ', '0': '-----', '1': '.----', '2': '..---', '3': '...--',\n",
    "                '4': '....-', '5': '.....', '6': '-....', '7': '--...', '8': '---..', '9': '----.', '&': '.-...',\n",
    "                \"'\": '.----.', '@': '.--.-.', ')': '-.--.-', '(': '-.--.', ':': '---...', ',': '--..--', '=': '-...-',\n",
    "                '!': '-.-.--', '.': '.-.-.-', '-': '-....-', '+': '.-.-.', '\"': '.-..-.', '?': '..--..', '/': '-..-.' }\n",
    "\n",
    "for i in string:\n",
    "    for k,v in char_to_dots.items():\n",
    "        if i == k:\n",
    "            print(str(v),end=\"\")"
   ]
  },
  {
   "cell_type": "markdown",
   "metadata": {},
   "source": [
    "#5. Create a function that converts a word to a bitstring and then to a boolean\n",
    "list based on the following criteria:\n",
    "\n",
    "1. Locate the position of the letter in the English alphabet (from 1 to 26).\n",
    "2. Odd positions will be represented as 1 and 0 otherwise.\n",
    "3. Convert the represented positions to boolean values, 1 for True and 0\n",
    "for False.\n",
    "4. Store the conversions into an array.\n",
    "\n",
    "Examples\n",
    "to_boolean_list(&quot;deep&quot;) ➞ [False, True, True, False]\n",
    "\n",
    " deep converts to 0110\n",
    " d is the 4th alphabet - 0\n",
    " e is the 5th alphabet - 1\n",
    " e is the 5th alphabet - 1\n",
    " p is the 16th alphabet - 0\n",
    "\n",
    "to_boolean_list(&quot;loves&quot;) ➞ [False, True, False, True, True]\n",
    "to_boolean_list(&quot;tesh&quot;) ➞ [False, True, True, False]"
   ]
  },
  {
   "cell_type": "code",
   "execution_count": 7,
   "metadata": {},
   "outputs": [],
   "source": [
    "#import string\n",
    "#{i:j for (i, j) in zip(string.ascii_lowercase[:5], range(5))}"
   ]
  },
  {
   "cell_type": "code",
   "execution_count": 8,
   "metadata": {},
   "outputs": [
    {
     "data": {
      "text/plain": [
       "{'a': 1,\n",
       " 'b': 2,\n",
       " 'c': 3,\n",
       " 'd': 4,\n",
       " 'e': 5,\n",
       " 'f': 6,\n",
       " 'g': 7,\n",
       " 'h': 8,\n",
       " 'i': 9,\n",
       " 'j': 10,\n",
       " 'k': 11,\n",
       " 'l': 12,\n",
       " 'm': 13,\n",
       " 'n': 14,\n",
       " 'o': 15,\n",
       " 'p': 16,\n",
       " 'q': 17,\n",
       " 'r': 18,\n",
       " 's': 19,\n",
       " 't': 20,\n",
       " 'u': 21,\n",
       " 'v': 22,\n",
       " 'w': 23,\n",
       " 'x': 24,\n",
       " 'y': 25,\n",
       " 'z': 26}"
      ]
     },
     "execution_count": 8,
     "metadata": {},
     "output_type": "execute_result"
    }
   ],
   "source": [
    "import string\n",
    "d ={i:j for (i,j) in zip(string.ascii_lowercase[:27],range(1,27))}\n",
    "d"
   ]
  },
  {
   "cell_type": "code",
   "execution_count": 9,
   "metadata": {},
   "outputs": [
    {
     "data": {
      "text/plain": [
       "'input_string = \"loves\"\\nl=[]\\nfor i in input_string:\\n    for k,v in d.items():\\n        if i in k :\\n            l.append(v)\\nl  \\nl1 = []\\nl2 = []\\nfor i in l :\\n    if i%2 == 0:\\n        l1.append(0)\\n        l2.append(False)\\n    else :\\n        l1.append(1)\\n        l2.append(True)\\n\\nprint(l1)\\nprint(l2)\\n'"
      ]
     },
     "execution_count": 9,
     "metadata": {},
     "output_type": "execute_result"
    }
   ],
   "source": [
    "\"\"\"input_string = \"loves\"\n",
    "l=[]\n",
    "for i in input_string:\n",
    "    for k,v in d.items():\n",
    "        if i in k :\n",
    "            l.append(v)\n",
    "l  \n",
    "l1 = []\n",
    "l2 = []\n",
    "for i in l :\n",
    "    if i%2 == 0:\n",
    "        l1.append(0)\n",
    "        l2.append(False)\n",
    "    else :\n",
    "        l1.append(1)\n",
    "        l2.append(True)\n",
    "\n",
    "print(l1)\n",
    "print(l2)\n",
    "\"\"\""
   ]
  },
  {
   "cell_type": "code",
   "execution_count": 10,
   "metadata": {},
   "outputs": [],
   "source": [
    "import string\n",
    "def to_boolan_list(input_string):\n",
    "    d ={i:j for (i,j) in zip(string.ascii_lowercase[:27],range(1,27))}\n",
    "    l=[]\n",
    "    for i in input_string:\n",
    "        for k,v in d.items():\n",
    "            if i in k :\n",
    "                l.append(v)\n",
    "    print(l)  \n",
    "    l1 = []\n",
    "    l2 = []\n",
    "    for i in l :\n",
    "        if i%2 == 0:\n",
    "            l1.append(0)\n",
    "            l2.append(False)\n",
    "        else :\n",
    "            l1.append(1)\n",
    "            l2.append(True)\n",
    "\n",
    "    print(\"bitstring :\",l1)\n",
    "    print(\"boolean format :\",l2)"
   ]
  },
  {
   "cell_type": "code",
   "execution_count": 11,
   "metadata": {},
   "outputs": [
    {
     "name": "stdout",
     "output_type": "stream",
     "text": [
      "[12, 15, 22, 5, 19]\n",
      "bitstring : [0, 1, 0, 1, 1]\n",
      "boolean format : [False, True, False, True, True]\n"
     ]
    }
   ],
   "source": [
    "to_boolan_list(\"loves\")"
   ]
  },
  {
   "cell_type": "code",
   "execution_count": null,
   "metadata": {},
   "outputs": [],
   "source": []
  },
  {
   "cell_type": "markdown",
   "metadata": {},
   "source": [
    "4. Write a function that takes a number and returns True if it&#39;s a prime; False\n",
    "otherwise. The number can be 2^64-1 (2 to the power of 63, not XOR). With\n",
    "the standard technique it would be O(2^64-1), which is much too large for the\n",
    "10 second time limit.\n",
    "\n",
    "Examples\n",
    "\n",
    "prime(7) ➞ True\n",
    "prime(56963) ➞ True\n",
    "prime(5151512515524) ➞ False"
   ]
  },
  {
   "cell_type": "code",
   "execution_count": 12,
   "metadata": {},
   "outputs": [
    {
     "name": "stdout",
     "output_type": "stream",
     "text": [
      "0.07024110000000006\n"
     ]
    }
   ],
   "source": [
    "import math \n",
    "import timeit\n",
    "\n",
    "\n",
    "test1 =\"\"\"\n",
    "def is_prime(n):\n",
    "    if n == 1 :\n",
    "        return False\n",
    "    #if n == 2 :\n",
    "     #   return True\n",
    "   # else :\n",
    "   # if n >2 or n%2==0:\n",
    "   #    return False\n",
    "    for i in range(2,int(math.sqrt(n))+1):\n",
    "            if n % i == 0 :\n",
    "                return False\n",
    "    return True\"\"\"\n",
    "    \n",
    "print(timeit.timeit(test1))"
   ]
  },
  {
   "cell_type": "code",
   "execution_count": 13,
   "metadata": {},
   "outputs": [],
   "source": [
    "#is_prime(5151512515524)"
   ]
  },
  {
   "cell_type": "code",
   "execution_count": null,
   "metadata": {},
   "outputs": [],
   "source": []
  }
 ],
 "metadata": {
  "kernelspec": {
   "display_name": "Python 3",
   "language": "python",
   "name": "python3"
  },
  "language_info": {
   "codemirror_mode": {
    "name": "ipython",
    "version": 3
   },
   "file_extension": ".py",
   "mimetype": "text/x-python",
   "name": "python",
   "nbconvert_exporter": "python",
   "pygments_lexer": "ipython3",
   "version": "3.8.5"
  }
 },
 "nbformat": 4,
 "nbformat_minor": 4
}
