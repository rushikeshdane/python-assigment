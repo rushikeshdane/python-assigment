{
 "cells": [
  {
   "cell_type": "markdown",
   "id": "blocked-split",
   "metadata": {},
   "source": [
    "# 1. What exactly is []?"
   ]
  },
  {
   "cell_type": "markdown",
   "id": "civil-injection",
   "metadata": {},
   "source": [
    "the close bracket represents list functionality in python , we cam assign diffrent data type inside a list \n",
    "e.g : a = [3,6.989,7+7j, \"rushikesh\"]\n"
   ]
  },
  {
   "cell_type": "markdown",
   "id": "bulgarian-horse",
   "metadata": {},
   "source": [
    "# 2. In a list of values stored in a variable called spam, how would you assign the value &#39;hello&#39; as the\n",
    "third value? (Assume [2, 4, 6, 8, 10] are in spam.)"
   ]
  },
  {
   "cell_type": "code",
   "execution_count": 3,
   "id": "modular-immune",
   "metadata": {},
   "outputs": [],
   "source": [
    "spam =  [2, 4, 6, 8, 10] \n",
    "spam.insert(3,\"hello\")"
   ]
  },
  {
   "cell_type": "code",
   "execution_count": 4,
   "id": "recognized-basics",
   "metadata": {},
   "outputs": [
    {
     "data": {
      "text/plain": [
       "[2, 4, 6, 'hello', 8, 10]"
      ]
     },
     "execution_count": 4,
     "metadata": {},
     "output_type": "execute_result"
    }
   ],
   "source": [
    "spam"
   ]
  },
  {
   "cell_type": "markdown",
   "id": "incorporated-petite",
   "metadata": {},
   "source": [
    "# 3. What is the value of spam[int(int(\"3\"* 2) / 11)]?"
   ]
  },
  {
   "cell_type": "code",
   "execution_count": 5,
   "id": "stock-covering",
   "metadata": {},
   "outputs": [
    {
     "data": {
      "text/plain": [
       "'d'"
      ]
     },
     "execution_count": 5,
     "metadata": {},
     "output_type": "execute_result"
    }
   ],
   "source": [
    "spam= ['a','b','c','d']\n",
    "spam[int(int(\"3\"* 2) / 11)]"
   ]
  },
  {
   "cell_type": "code",
   "execution_count": 6,
   "id": "brief-trademark",
   "metadata": {},
   "outputs": [
    {
     "data": {
      "text/plain": [
       "3.0"
      ]
     },
     "execution_count": 6,
     "metadata": {},
     "output_type": "execute_result"
    }
   ],
   "source": [
    "(int(\"3\"* 2) / 11) # spam[3]"
   ]
  },
  {
   "cell_type": "markdown",
   "id": "invalid-toronto",
   "metadata": {},
   "source": [
    "# 4. What is the value of spam[-1]?"
   ]
  },
  {
   "cell_type": "code",
   "execution_count": 7,
   "id": "satisfactory-swimming",
   "metadata": {},
   "outputs": [
    {
     "data": {
      "text/plain": [
       "'d'"
      ]
     },
     "execution_count": 7,
     "metadata": {},
     "output_type": "execute_result"
    }
   ],
   "source": [
    "spam[-1] # -1 represetns last element in list"
   ]
  },
  {
   "cell_type": "markdown",
   "id": "level-committee",
   "metadata": {},
   "source": [
    "# 5. What is the value of spam[:2]?"
   ]
  },
  {
   "cell_type": "code",
   "execution_count": 8,
   "id": "detailed-stake",
   "metadata": {},
   "outputs": [
    {
     "data": {
      "text/plain": [
       "['a', 'b']"
      ]
     },
     "execution_count": 8,
     "metadata": {},
     "output_type": "execute_result"
    }
   ],
   "source": [
    "spam[:2] # the list starts with default index 0 and 2 is mutaly excluded index so answer is index 0 ,1"
   ]
  },
  {
   "cell_type": "markdown",
   "id": "premium-bullet",
   "metadata": {},
   "source": [
    "Let;s pretend bacon has the list [3.14,'cat' , 11, \"cat\", True] for the next three questions."
   ]
  },
  {
   "cell_type": "code",
   "execution_count": 9,
   "id": "available-administrator",
   "metadata": {},
   "outputs": [],
   "source": [
    "bacon = [3.14,'cat' , 11, \"cat\", True]"
   ]
  },
  {
   "cell_type": "markdown",
   "id": "difficult-lawrence",
   "metadata": {},
   "source": [
    "# 6. What is the value of bacon.index(&#39;cat&#39;)?"
   ]
  },
  {
   "cell_type": "code",
   "execution_count": 10,
   "id": "conservative-poster",
   "metadata": {},
   "outputs": [
    {
     "data": {
      "text/plain": [
       "1"
      ]
     },
     "execution_count": 10,
     "metadata": {},
     "output_type": "execute_result"
    }
   ],
   "source": [
    "bacon.index('cat')"
   ]
  },
  {
   "cell_type": "markdown",
   "id": "spiritual-seven",
   "metadata": {},
   "source": [
    "# 7. How does bacon.append(99) change the look of the list value in bacon?"
   ]
  },
  {
   "cell_type": "code",
   "execution_count": 11,
   "id": "motivated-submission",
   "metadata": {},
   "outputs": [
    {
     "data": {
      "text/plain": [
       "[3.14, 'cat', 11, 'cat', True, 99]"
      ]
     },
     "execution_count": 11,
     "metadata": {},
     "output_type": "execute_result"
    }
   ],
   "source": [
    "bacon.append(99)\n",
    "bacon"
   ]
  },
  {
   "cell_type": "markdown",
   "id": "abroad-mercury",
   "metadata": {},
   "source": [
    "# 8. How does bacon.remove(&#39;cat&#39;) change the look of the list meaning in bacon?"
   ]
  },
  {
   "cell_type": "code",
   "execution_count": 12,
   "id": "surprising-fabric",
   "metadata": {},
   "outputs": [],
   "source": [
    " bacon.remove('cat') "
   ]
  },
  {
   "cell_type": "code",
   "execution_count": 13,
   "id": "described-airline",
   "metadata": {},
   "outputs": [
    {
     "data": {
      "text/plain": [
       "[3.14, 11, 'cat', True, 99]"
      ]
     },
     "execution_count": 13,
     "metadata": {},
     "output_type": "execute_result"
    }
   ],
   "source": [
    "bacon # it rempves only first instance of occurance \"cat\" , for 2nd \"cat \" it won't work"
   ]
  },
  {
   "cell_type": "markdown",
   "id": "absolute-forge",
   "metadata": {},
   "source": [
    "# 9. What are the list concatenation and list replication operators?"
   ]
  },
  {
   "cell_type": "code",
   "execution_count": 14,
   "id": "mighty-recognition",
   "metadata": {},
   "outputs": [
    {
     "name": "stdout",
     "output_type": "stream",
     "text": [
      "[3.14, 11, 'cat', True, 99, 3.14, 11, 'cat', True, 99]\n",
      "[3.14, 11, 'cat', True, 99, '4', '5']\n"
     ]
    }
   ],
   "source": [
    "print(bacon*2)   # * is replication operator\n",
    "print(bacon + list(\"45\"))  # + is concatenation operator\n"
   ]
  },
  {
   "cell_type": "markdown",
   "id": "mediterranean-lecture",
   "metadata": {},
   "source": [
    "# 10. What is difference between the list methods append() and insert()?"
   ]
  },
  {
   "cell_type": "markdown",
   "id": "mature-chamber",
   "metadata": {},
   "source": [
    "append assigns the element only to the end of the list ,\n",
    "through insert we can assign element anywhere insisde the list\n",
    "\n",
    "take one example"
   ]
  },
  {
   "cell_type": "code",
   "execution_count": 15,
   "id": "ordinary-louis",
   "metadata": {},
   "outputs": [
    {
     "data": {
      "text/plain": [
       "[1, 2, 3, 'pepsi']"
      ]
     },
     "execution_count": 15,
     "metadata": {},
     "output_type": "execute_result"
    }
   ],
   "source": [
    "a= [ 1,2,3]\n",
    "a.append(\"pepsi\")\n",
    "a\n"
   ]
  },
  {
   "cell_type": "code",
   "execution_count": 16,
   "id": "accessory-dodge",
   "metadata": {},
   "outputs": [
    {
     "data": {
      "text/plain": [
       "[1, 'cola', 2, 3, 'pepsi']"
      ]
     },
     "execution_count": 16,
     "metadata": {},
     "output_type": "execute_result"
    }
   ],
   "source": [
    "a.insert(1,\"cola\")\n",
    "a"
   ]
  },
  {
   "cell_type": "markdown",
   "id": "instrumental-burst",
   "metadata": {},
   "source": [
    "# 11. What are the two methods for removing items from a list"
   ]
  },
  {
   "cell_type": "code",
   "execution_count": 17,
   "id": "weekly-product",
   "metadata": {},
   "outputs": [
    {
     "data": {
      "text/plain": [
       "[1, 'cola', 2, 'pepsi']"
      ]
     },
     "execution_count": 17,
     "metadata": {},
     "output_type": "execute_result"
    }
   ],
   "source": [
    "#we can use pop or remove function\n",
    "a.pop(3) # pop uses index of item to remove it \n",
    "a"
   ]
  },
  {
   "cell_type": "code",
   "execution_count": 18,
   "id": "congressional-cleanup",
   "metadata": {},
   "outputs": [
    {
     "data": {
      "text/plain": [
       "[1, 2, 'pepsi']"
      ]
     },
     "execution_count": 18,
     "metadata": {},
     "output_type": "execute_result"
    }
   ],
   "source": [
    "a.remove(\"cola\")  # it remove first instance of the item\n",
    "a"
   ]
  },
  {
   "cell_type": "markdown",
   "id": "judicial-refrigerator",
   "metadata": {},
   "source": [
    "# 12. Describe how list values and string values are identical."
   ]
  },
  {
   "cell_type": "code",
   "execution_count": 19,
   "id": "smooth-settle",
   "metadata": {},
   "outputs": [],
   "source": [
    "b = [ \"r\",\"u\",\"s\",\"h\"]\n",
    "c = \"rush\""
   ]
  },
  {
   "cell_type": "code",
   "execution_count": 20,
   "id": "spanish-summary",
   "metadata": {},
   "outputs": [
    {
     "data": {
      "text/plain": [
       "'r'"
      ]
     },
     "execution_count": 20,
     "metadata": {},
     "output_type": "execute_result"
    }
   ],
   "source": [
    "b[0] "
   ]
  },
  {
   "cell_type": "code",
   "execution_count": 21,
   "id": "executed-weekend",
   "metadata": {},
   "outputs": [
    {
     "data": {
      "text/plain": [
       "'r'"
      ]
     },
     "execution_count": 21,
     "metadata": {},
     "output_type": "execute_result"
    }
   ],
   "source": [
    " c[0]\n",
    "# from this we can conclude that list and string values are identical with same indexes"
   ]
  },
  {
   "cell_type": "markdown",
   "id": "special-personality",
   "metadata": {},
   "source": [
    "# 13  What&#39;s the difference between tuples and lists?"
   ]
  },
  {
   "cell_type": "markdown",
   "id": "spectacular-trace",
   "metadata": {},
   "source": [
    "the tuples are immutable means we cannot make changes to it\n",
    "\n",
    "but the list are mutable  it keeps the cahnges that we make"
   ]
  },
  {
   "cell_type": "markdown",
   "id": "extreme-offense",
   "metadata": {},
   "source": [
    "# 14. How do you type a tuple value that only contains the integer 42?"
   ]
  },
  {
   "cell_type": "code",
   "execution_count": 22,
   "id": "south-ranking",
   "metadata": {},
   "outputs": [
    {
     "data": {
      "text/plain": [
       "tuple"
      ]
     },
     "execution_count": 22,
     "metadata": {},
     "output_type": "execute_result"
    }
   ],
   "source": [
    "ironman = (42,) # tuple for single element giving a comma is important\n",
    "type(ironman)"
   ]
  },
  {
   "cell_type": "markdown",
   "id": "equal-regulation",
   "metadata": {},
   "source": [
    "# 15. How do you get a list value&#39;s tuple form? How do you get a tuple value&#39;s list form?"
   ]
  },
  {
   "cell_type": "code",
   "execution_count": 23,
   "id": "voluntary-intro",
   "metadata": {},
   "outputs": [
    {
     "data": {
      "text/plain": [
       "(4, 'fkdjf', 4.545)"
      ]
     },
     "execution_count": 23,
     "metadata": {},
     "output_type": "execute_result"
    }
   ],
   "source": [
    "l = [4,\"fkdjf\", 4.545]\n",
    "tuple(l)\n",
    "# here we converted list to tuple "
   ]
  },
  {
   "cell_type": "code",
   "execution_count": 24,
   "id": "terminal-escape",
   "metadata": {},
   "outputs": [
    {
     "data": {
      "text/plain": [
       "['this', 'is', 'tuple']"
      ]
     },
     "execution_count": 24,
     "metadata": {},
     "output_type": "execute_result"
    }
   ],
   "source": [
    "t  = (\"this\",\"is\",\"tuple\")\n",
    "list(t)\n",
    "# vice versa"
   ]
  },
  {
   "cell_type": "markdown",
   "id": "encouraging-founder",
   "metadata": {},
   "source": [
    "# 16. Variables that &quot;contain&quot; list values are not necessarily lists themselves. Instead, what do they\n",
    "contain?"
   ]
  },
  {
   "cell_type": "code",
   "execution_count": 25,
   "id": "temporal-turkey",
   "metadata": {},
   "outputs": [
    {
     "data": {
      "text/plain": [
       "[4, 'fkdjf', 4.545]"
      ]
     },
     "execution_count": 25,
     "metadata": {},
     "output_type": "execute_result"
    }
   ],
   "source": [
    "# list can contain any data type e.g string, float , integer , complex , nested list etc\n",
    "l"
   ]
  },
  {
   "cell_type": "markdown",
   "id": "boolean-audit",
   "metadata": {},
   "source": [
    "# 17. How do you distinguish between copy.copy() and copy.deepcopy()?"
   ]
  },
  {
   "cell_type": "code",
   "execution_count": 26,
   "id": "solved-restaurant",
   "metadata": {},
   "outputs": [
    {
     "name": "stdout",
     "output_type": "stream",
     "text": [
      "[1, [2, 3], 3, 4]\n",
      "l2 : [1, [3, 3], 3, 4]\n",
      "l1 : [1, [3, 3], 3, 4]\n"
     ]
    }
   ],
   "source": [
    "# let's start discussion with copy module it is used to make changes in original data list without affecting it \n",
    "import copy\n",
    "l1 = [ 1,[2,3],3,4]\n",
    "l2 = copy.copy(l1)\n",
    "print(l2)\n",
    "l2[1][0] = 3\n",
    "print(\"l2 :\" ,l2)\n",
    "print(\"l1 :\" ,l1)"
   ]
  },
  {
   "cell_type": "markdown",
   "id": "unavailable-blood",
   "metadata": {},
   "source": [
    "here we clearly see that when wr change nested list inside l2 the list l1 is also changed \n",
    "so there are dependent on each other at some extent"
   ]
  },
  {
   "cell_type": "code",
   "execution_count": 27,
   "id": "crazy-forth",
   "metadata": {},
   "outputs": [
    {
     "name": "stdout",
     "output_type": "stream",
     "text": [
      "[1, [2, 3], 3, 4]\n",
      "l2 : [1, [3, 3], 3, 4]\n",
      "l1 : [1, [2, 3], 3, 4]\n"
     ]
    }
   ],
   "source": [
    "l1 = [ 1,[2,3],3,4]\n",
    "l2 = copy.deepcopy(l1)\n",
    "print(l2)\n",
    "l2[1][0] = 3\n",
    "print(\"l2 :\" ,l2)\n",
    "print(\"l1 :\" ,l1)"
   ]
  },
  {
   "cell_type": "markdown",
   "id": "micro-recruitment",
   "metadata": {},
   "source": [
    "in deepcopy list l1 and l2 are completly independent from each other \n",
    "\n",
    "this is the measure diffrence between this two functions"
   ]
  },
  {
   "cell_type": "markdown",
   "id": "elegant-kidney",
   "metadata": {},
   "source": [
    "credit for question 17\n",
    "https://www.programiz.com/python-programming/shallow-deep-copy\n",
    "    \n",
    " I had taken reference for this question"
   ]
  },
  {
   "cell_type": "code",
   "execution_count": null,
   "id": "international-monroe",
   "metadata": {},
   "outputs": [],
   "source": []
  }
 ],
 "metadata": {
  "kernelspec": {
   "display_name": "Python 3",
   "language": "python",
   "name": "python3"
  },
  "language_info": {
   "codemirror_mode": {
    "name": "ipython",
    "version": 3
   },
   "file_extension": ".py",
   "mimetype": "text/x-python",
   "name": "python",
   "nbconvert_exporter": "python",
   "pygments_lexer": "ipython3",
   "version": "3.7.9"
  }
 },
 "nbformat": 4,
 "nbformat_minor": 5
}
